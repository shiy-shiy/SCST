{
 "cells": [
  {
   "cell_type": "code",
   "execution_count": 1,
   "metadata": {},
   "outputs": [],
   "source": [
    "import sys\n",
    "import scanpy as sc\n",
    "import anndata\n",
    "import pandas as pd\n",
    "import numpy as np\n",
    "import os\n",
    "from scipy.io import mmwrite\n",
    "import desc\n",
    "import scipy\n",
    "import anndata as ad"
   ]
  },
  {
   "cell_type": "code",
   "execution_count": 27,
   "metadata": {},
   "outputs": [],
   "source": [
    "###merge sc_combine&st_combine###"
   ]
  },
  {
   "attachments": {},
   "cell_type": "markdown",
   "metadata": {},
   "source": [
    "## sc"
   ]
  },
  {
   "cell_type": "code",
   "execution_count": 2,
   "metadata": {},
   "outputs": [
    {
     "data": {
      "text/plain": [
       "AnnData object with n_obs × n_vars = 40712 × 2977\n",
       "    obs: 'orig.ident', 'nCount_RNA', 'nFeature_RNA', 'n_counts', 'desc_0.2', 'desc_0.4', 'desc_0.6', 'desc_0.8', 'desc_1.4', 'desc_2.0'\n",
       "    var: 'features', 'mean', 'std'\n",
       "    uns: 'prob_matrix0.2', 'prob_matrix0.4', 'prob_matrix0.6', 'prob_matrix0.8', 'prob_matrix1.4', 'prob_matrix2.0', 'umap'\n",
       "    obsm: 'X_Embeded_z0.2', 'X_Embeded_z0.4', 'X_Embeded_z0.6', 'X_Embeded_z0.8', 'X_Embeded_z1.4', 'X_Embeded_z2.0', 'X_tsne', 'X_tsne0.2', 'X_tsne0.4', 'X_tsne0.6', 'X_tsne0.8', 'X_tsne1.4', 'X_tsne2.0', 'X_umap', 'X_umap0.2', 'X_umap0.4', 'X_umap0.6', 'X_umap0.8', 'X_umap1.4', 'X_umap2.0'\n",
       "    obsp: 'connectivities', 'distances'"
      ]
     },
     "execution_count": 2,
     "metadata": {},
     "output_type": "execute_result"
    }
   ],
   "source": [
    "#desc_0.8\n",
    "sc_combine=sc.read_h5ad(\"/home/huggs/shiyi/SCST/RCTD/RCTD/predata/celltrek_kidney/mymodel/2_desc/2_desc_222copy/sc_desc.h5ad\")\n",
    "sc_combine"
   ]
  },
  {
   "cell_type": "code",
   "execution_count": 3,
   "metadata": {},
   "outputs": [
    {
     "name": "stdout",
     "output_type": "stream",
     "text": [
      "[[-0.25764459 -0.12531272 -0.34450435 ...  3.         -0.16075801\n",
      "  -0.12331991]\n",
      " [ 2.22988505 -0.12531272 -0.34450435 ... -0.19240832 -0.16075801\n",
      "  -0.12331991]\n",
      " [-0.25764459 -0.12531272 -0.34450435 ... -0.19240832 -0.16075801\n",
      "  -0.12331991]\n",
      " ...\n",
      " [-0.25764459 -0.12531272  1.39848847 ... -0.19240832  3.\n",
      "  -0.12331991]\n",
      " [-0.25764459 -0.12531272 -0.34450435 ... -0.19240832 -0.16075801\n",
      "  -0.12331991]\n",
      " [-0.25764459 -0.12531272 -0.34450435 ... -0.19240832 -0.16075801\n",
      "  -0.12331991]]\n"
     ]
    }
   ],
   "source": [
    "print(sc_combine.X)"
   ]
  },
  {
   "cell_type": "code",
   "execution_count": 4,
   "metadata": {},
   "outputs": [
    {
     "name": "stdout",
     "output_type": "stream",
     "text": [
      "  (0, 5)\t2.0\n",
      "  (0, 8)\t4.0\n",
      "  (0, 12)\t2.0\n",
      "  (0, 15)\t1.0\n",
      "  (0, 21)\t6.0\n",
      "  (0, 24)\t1.0\n",
      "  (0, 59)\t5.0\n",
      "  (0, 110)\t1.0\n",
      "  (0, 115)\t2.0\n",
      "  (0, 118)\t2.0\n",
      "  (0, 122)\t2.0\n",
      "  (0, 128)\t5.0\n",
      "  (0, 141)\t6.0\n",
      "  (0, 155)\t12.0\n",
      "  (0, 156)\t11.0\n",
      "  (0, 160)\t10.0\n",
      "  (0, 165)\t3.0\n",
      "  (0, 166)\t24.0\n",
      "  (0, 173)\t7.0\n",
      "  (0, 179)\t11.0\n",
      "  (0, 187)\t13.0\n",
      "  (0, 189)\t1.0\n",
      "  (0, 193)\t10.0\n",
      "  (0, 200)\t3.0\n",
      "  (0, 220)\t2.0\n",
      "  :\t:\n",
      "  (40711, 2388)\t1.0\n",
      "  (40711, 2393)\t1.0\n",
      "  (40711, 2424)\t1.0\n",
      "  (40711, 2426)\t1.0\n",
      "  (40711, 2439)\t7.0\n",
      "  (40711, 2445)\t1.0\n",
      "  (40711, 2503)\t1.0\n",
      "  (40711, 2584)\t1.0\n",
      "  (40711, 2592)\t6.0\n",
      "  (40711, 2611)\t3.0\n",
      "  (40711, 2612)\t1.0\n",
      "  (40711, 2647)\t1.0\n",
      "  (40711, 2687)\t1.0\n",
      "  (40711, 2727)\t7.0\n",
      "  (40711, 2741)\t2.0\n",
      "  (40711, 2767)\t2.0\n",
      "  (40711, 2769)\t1.0\n",
      "  (40711, 2773)\t2.0\n",
      "  (40711, 2777)\t1.0\n",
      "  (40711, 2810)\t1.0\n",
      "  (40711, 2813)\t1.0\n",
      "  (40711, 2922)\t2.0\n",
      "  (40711, 2938)\t1.0\n",
      "  (40711, 2940)\t2.0\n",
      "  (40711, 2961)\t2.0\n"
     ]
    }
   ],
   "source": [
    "print(sc_combine.raw.X)"
   ]
  },
  {
   "cell_type": "code",
   "execution_count": 5,
   "metadata": {},
   "outputs": [],
   "source": [
    "sc_combine.X=sc_combine.raw.X"
   ]
  },
  {
   "cell_type": "code",
   "execution_count": 6,
   "metadata": {},
   "outputs": [],
   "source": [
    "#add batch\n",
    "sc_combine.obs[\"batch\"]=\"sc\""
   ]
  },
  {
   "cell_type": "code",
   "execution_count": 33,
   "metadata": {},
   "outputs": [],
   "source": [
    "#add annotation_1: desc_0.2\n",
    "#adata_snrna_raw=sc.read_h5ad(\"/s/f/shiyi/ST/Data/cell2location/data/filter_raw.h5ad\")\n"
   ]
  },
  {
   "cell_type": "code",
   "execution_count": 7,
   "metadata": {},
   "outputs": [
    {
     "data": {
      "text/plain": [
       "28"
      ]
     },
     "execution_count": 7,
     "metadata": {},
     "output_type": "execute_result"
    }
   ],
   "source": [
    "len(sc_combine.obs[\"desc_0.8\"].cat.categories)"
   ]
  },
  {
   "cell_type": "code",
   "execution_count": 8,
   "metadata": {},
   "outputs": [
    {
     "data": {
      "text/html": [
       "<div>\n",
       "<style scoped>\n",
       "    .dataframe tbody tr th:only-of-type {\n",
       "        vertical-align: middle;\n",
       "    }\n",
       "\n",
       "    .dataframe tbody tr th {\n",
       "        vertical-align: top;\n",
       "    }\n",
       "\n",
       "    .dataframe thead th {\n",
       "        text-align: right;\n",
       "    }\n",
       "</style>\n",
       "<table border=\"1\" class=\"dataframe\">\n",
       "  <thead>\n",
       "    <tr style=\"text-align: right;\">\n",
       "      <th></th>\n",
       "      <th>orig.ident</th>\n",
       "      <th>nCount_RNA</th>\n",
       "      <th>nFeature_RNA</th>\n",
       "      <th>n_counts</th>\n",
       "      <th>desc_0.2</th>\n",
       "      <th>desc_0.4</th>\n",
       "      <th>desc_0.6</th>\n",
       "      <th>desc_0.8</th>\n",
       "      <th>desc_1.4</th>\n",
       "      <th>desc_2.0</th>\n",
       "      <th>batch</th>\n",
       "    </tr>\n",
       "  </thead>\n",
       "  <tbody>\n",
       "    <tr>\n",
       "      <th>Z1_F_F1_AAACCTGAGAGACGAA</th>\n",
       "      <td>0</td>\n",
       "      <td>963.0</td>\n",
       "      <td>347</td>\n",
       "      <td>963.0</td>\n",
       "      <td>1</td>\n",
       "      <td>4</td>\n",
       "      <td>14</td>\n",
       "      <td>16</td>\n",
       "      <td>19</td>\n",
       "      <td>21</td>\n",
       "      <td>sc</td>\n",
       "    </tr>\n",
       "    <tr>\n",
       "      <th>Z1_F_F1_AAACCTGAGGGCTTCC</th>\n",
       "      <td>0</td>\n",
       "      <td>1107.0</td>\n",
       "      <td>370</td>\n",
       "      <td>1107.0</td>\n",
       "      <td>1</td>\n",
       "      <td>4</td>\n",
       "      <td>14</td>\n",
       "      <td>16</td>\n",
       "      <td>19</td>\n",
       "      <td>21</td>\n",
       "      <td>sc</td>\n",
       "    </tr>\n",
       "    <tr>\n",
       "      <th>Z1_F_F1_AAACCTGCAGGACGTA</th>\n",
       "      <td>0</td>\n",
       "      <td>726.0</td>\n",
       "      <td>268</td>\n",
       "      <td>726.0</td>\n",
       "      <td>14</td>\n",
       "      <td>18</td>\n",
       "      <td>3</td>\n",
       "      <td>2</td>\n",
       "      <td>2</td>\n",
       "      <td>1</td>\n",
       "      <td>sc</td>\n",
       "    </tr>\n",
       "    <tr>\n",
       "      <th>Z1_F_F1_AAACCTGGTATTCGTG</th>\n",
       "      <td>0</td>\n",
       "      <td>370.0</td>\n",
       "      <td>164</td>\n",
       "      <td>370.0</td>\n",
       "      <td>0</td>\n",
       "      <td>0</td>\n",
       "      <td>3</td>\n",
       "      <td>2</td>\n",
       "      <td>2</td>\n",
       "      <td>2</td>\n",
       "      <td>sc</td>\n",
       "    </tr>\n",
       "    <tr>\n",
       "      <th>Z1_F_F1_AAACCTGTCAAACCAC</th>\n",
       "      <td>0</td>\n",
       "      <td>352.0</td>\n",
       "      <td>153</td>\n",
       "      <td>352.0</td>\n",
       "      <td>14</td>\n",
       "      <td>0</td>\n",
       "      <td>3</td>\n",
       "      <td>2</td>\n",
       "      <td>3</td>\n",
       "      <td>2</td>\n",
       "      <td>sc</td>\n",
       "    </tr>\n",
       "    <tr>\n",
       "      <th>...</th>\n",
       "      <td>...</td>\n",
       "      <td>...</td>\n",
       "      <td>...</td>\n",
       "      <td>...</td>\n",
       "      <td>...</td>\n",
       "      <td>...</td>\n",
       "      <td>...</td>\n",
       "      <td>...</td>\n",
       "      <td>...</td>\n",
       "      <td>...</td>\n",
       "      <td>...</td>\n",
       "    </tr>\n",
       "    <tr>\n",
       "      <th>Z3_M_M2_TTTGTCAAGTGGTCCC</th>\n",
       "      <td>2</td>\n",
       "      <td>806.0</td>\n",
       "      <td>267</td>\n",
       "      <td>806.0</td>\n",
       "      <td>5</td>\n",
       "      <td>6</td>\n",
       "      <td>6</td>\n",
       "      <td>11</td>\n",
       "      <td>11</td>\n",
       "      <td>12</td>\n",
       "      <td>sc</td>\n",
       "    </tr>\n",
       "    <tr>\n",
       "      <th>Z3_M_M2_TTTGTCACATCACAAC</th>\n",
       "      <td>2</td>\n",
       "      <td>336.0</td>\n",
       "      <td>160</td>\n",
       "      <td>336.0</td>\n",
       "      <td>0</td>\n",
       "      <td>0</td>\n",
       "      <td>0</td>\n",
       "      <td>0</td>\n",
       "      <td>1</td>\n",
       "      <td>0</td>\n",
       "      <td>sc</td>\n",
       "    </tr>\n",
       "    <tr>\n",
       "      <th>Z3_M_M2_TTTGTCACATCGTCGG</th>\n",
       "      <td>2</td>\n",
       "      <td>1293.0</td>\n",
       "      <td>330</td>\n",
       "      <td>1293.0</td>\n",
       "      <td>3</td>\n",
       "      <td>2</td>\n",
       "      <td>2</td>\n",
       "      <td>5</td>\n",
       "      <td>6</td>\n",
       "      <td>7</td>\n",
       "      <td>sc</td>\n",
       "    </tr>\n",
       "    <tr>\n",
       "      <th>Z3_M_M2_TTTGTCAGTAACGACG</th>\n",
       "      <td>2</td>\n",
       "      <td>1065.0</td>\n",
       "      <td>211</td>\n",
       "      <td>1065.0</td>\n",
       "      <td>2</td>\n",
       "      <td>1</td>\n",
       "      <td>1</td>\n",
       "      <td>1</td>\n",
       "      <td>0</td>\n",
       "      <td>5</td>\n",
       "      <td>sc</td>\n",
       "    </tr>\n",
       "    <tr>\n",
       "      <th>Z3_M_M2_TTTGTCATCTCAAGTG</th>\n",
       "      <td>2</td>\n",
       "      <td>262.0</td>\n",
       "      <td>119</td>\n",
       "      <td>262.0</td>\n",
       "      <td>0</td>\n",
       "      <td>0</td>\n",
       "      <td>0</td>\n",
       "      <td>0</td>\n",
       "      <td>1</td>\n",
       "      <td>0</td>\n",
       "      <td>sc</td>\n",
       "    </tr>\n",
       "  </tbody>\n",
       "</table>\n",
       "<p>40712 rows × 11 columns</p>\n",
       "</div>"
      ],
      "text/plain": [
       "                          orig.ident  nCount_RNA  nFeature_RNA  n_counts  \\\n",
       "Z1_F_F1_AAACCTGAGAGACGAA           0       963.0           347     963.0   \n",
       "Z1_F_F1_AAACCTGAGGGCTTCC           0      1107.0           370    1107.0   \n",
       "Z1_F_F1_AAACCTGCAGGACGTA           0       726.0           268     726.0   \n",
       "Z1_F_F1_AAACCTGGTATTCGTG           0       370.0           164     370.0   \n",
       "Z1_F_F1_AAACCTGTCAAACCAC           0       352.0           153     352.0   \n",
       "...                              ...         ...           ...       ...   \n",
       "Z3_M_M2_TTTGTCAAGTGGTCCC           2       806.0           267     806.0   \n",
       "Z3_M_M2_TTTGTCACATCACAAC           2       336.0           160     336.0   \n",
       "Z3_M_M2_TTTGTCACATCGTCGG           2      1293.0           330    1293.0   \n",
       "Z3_M_M2_TTTGTCAGTAACGACG           2      1065.0           211    1065.0   \n",
       "Z3_M_M2_TTTGTCATCTCAAGTG           2       262.0           119     262.0   \n",
       "\n",
       "                         desc_0.2 desc_0.4 desc_0.6 desc_0.8 desc_1.4  \\\n",
       "Z1_F_F1_AAACCTGAGAGACGAA        1        4       14       16       19   \n",
       "Z1_F_F1_AAACCTGAGGGCTTCC        1        4       14       16       19   \n",
       "Z1_F_F1_AAACCTGCAGGACGTA       14       18        3        2        2   \n",
       "Z1_F_F1_AAACCTGGTATTCGTG        0        0        3        2        2   \n",
       "Z1_F_F1_AAACCTGTCAAACCAC       14        0        3        2        3   \n",
       "...                           ...      ...      ...      ...      ...   \n",
       "Z3_M_M2_TTTGTCAAGTGGTCCC        5        6        6       11       11   \n",
       "Z3_M_M2_TTTGTCACATCACAAC        0        0        0        0        1   \n",
       "Z3_M_M2_TTTGTCACATCGTCGG        3        2        2        5        6   \n",
       "Z3_M_M2_TTTGTCAGTAACGACG        2        1        1        1        0   \n",
       "Z3_M_M2_TTTGTCATCTCAAGTG        0        0        0        0        1   \n",
       "\n",
       "                         desc_2.0 batch  \n",
       "Z1_F_F1_AAACCTGAGAGACGAA       21    sc  \n",
       "Z1_F_F1_AAACCTGAGGGCTTCC       21    sc  \n",
       "Z1_F_F1_AAACCTGCAGGACGTA        1    sc  \n",
       "Z1_F_F1_AAACCTGGTATTCGTG        2    sc  \n",
       "Z1_F_F1_AAACCTGTCAAACCAC        2    sc  \n",
       "...                           ...   ...  \n",
       "Z3_M_M2_TTTGTCAAGTGGTCCC       12    sc  \n",
       "Z3_M_M2_TTTGTCACATCACAAC        0    sc  \n",
       "Z3_M_M2_TTTGTCACATCGTCGG        7    sc  \n",
       "Z3_M_M2_TTTGTCAGTAACGACG        5    sc  \n",
       "Z3_M_M2_TTTGTCATCTCAAGTG        0    sc  \n",
       "\n",
       "[40712 rows x 11 columns]"
      ]
     },
     "execution_count": 8,
     "metadata": {},
     "output_type": "execute_result"
    }
   ],
   "source": [
    "sc_combine.obs"
   ]
  },
  {
   "attachments": {},
   "cell_type": "markdown",
   "metadata": {},
   "source": [
    "## st"
   ]
  },
  {
   "cell_type": "code",
   "execution_count": 9,
   "metadata": {},
   "outputs": [
    {
     "data": {
      "text/plain": [
       "AnnData object with n_obs × n_vars = 1438 × 2977\n",
       "    obs: 'orig.ident', 'nCount_Spatial', 'nFeature_Spatial'\n",
       "    var: 'features'"
      ]
     },
     "execution_count": 9,
     "metadata": {},
     "output_type": "execute_result"
    }
   ],
   "source": [
    "st_combine=sc.read_h5ad(\"/home/huggs/shiyi/SCST/RCTD/RCTD/predata/celltrek_kidney/mymodel/1_predata/st_combine.h5ad\")\n",
    "st_combine"
   ]
  },
  {
   "cell_type": "code",
   "execution_count": 10,
   "metadata": {},
   "outputs": [
    {
     "name": "stdout",
     "output_type": "stream",
     "text": [
      "  (0, 0)\t29.0\n",
      "  (0, 1)\t1.0\n",
      "  (0, 2)\t74.0\n",
      "  (0, 3)\t3.0\n",
      "  (0, 4)\t56.0\n",
      "  (0, 5)\t73.0\n",
      "  (0, 6)\t156.0\n",
      "  (0, 8)\t44.0\n",
      "  (0, 9)\t2.0\n",
      "  (0, 11)\t1.0\n",
      "  (0, 12)\t90.0\n",
      "  (0, 13)\t9.0\n",
      "  (0, 15)\t352.0\n",
      "  (0, 16)\t4.0\n",
      "  (0, 17)\t3.0\n",
      "  (0, 18)\t6.0\n",
      "  (0, 19)\t1.0\n",
      "  (0, 21)\t24.0\n",
      "  (0, 22)\t4.0\n",
      "  (0, 24)\t2.0\n",
      "  (0, 25)\t3.0\n",
      "  (0, 28)\t1.0\n",
      "  (0, 31)\t4.0\n",
      "  (0, 32)\t1.0\n",
      "  (0, 37)\t1.0\n",
      "  :\t:\n",
      "  (1437, 2919)\t6.0\n",
      "  (1437, 2922)\t77.0\n",
      "  (1437, 2923)\t3.0\n",
      "  (1437, 2924)\t1.0\n",
      "  (1437, 2926)\t4.0\n",
      "  (1437, 2929)\t3.0\n",
      "  (1437, 2934)\t24.0\n",
      "  (1437, 2938)\t3.0\n",
      "  (1437, 2940)\t9.0\n",
      "  (1437, 2944)\t31.0\n",
      "  (1437, 2947)\t1.0\n",
      "  (1437, 2951)\t65.0\n",
      "  (1437, 2953)\t4.0\n",
      "  (1437, 2955)\t1.0\n",
      "  (1437, 2957)\t4.0\n",
      "  (1437, 2958)\t7.0\n",
      "  (1437, 2960)\t3.0\n",
      "  (1437, 2961)\t8.0\n",
      "  (1437, 2963)\t4.0\n",
      "  (1437, 2965)\t1.0\n",
      "  (1437, 2966)\t4.0\n",
      "  (1437, 2969)\t3.0\n",
      "  (1437, 2971)\t5.0\n",
      "  (1437, 2973)\t2.0\n",
      "  (1437, 2974)\t2.0\n"
     ]
    }
   ],
   "source": [
    "print(st_combine.X)"
   ]
  },
  {
   "cell_type": "code",
   "execution_count": 11,
   "metadata": {},
   "outputs": [],
   "source": [
    "st_combine.obs[\"batch\"]=\"st\""
   ]
  },
  {
   "cell_type": "code",
   "execution_count": 12,
   "metadata": {},
   "outputs": [
    {
     "data": {
      "text/html": [
       "<div>\n",
       "<style scoped>\n",
       "    .dataframe tbody tr th:only-of-type {\n",
       "        vertical-align: middle;\n",
       "    }\n",
       "\n",
       "    .dataframe tbody tr th {\n",
       "        vertical-align: top;\n",
       "    }\n",
       "\n",
       "    .dataframe thead th {\n",
       "        text-align: right;\n",
       "    }\n",
       "</style>\n",
       "<table border=\"1\" class=\"dataframe\">\n",
       "  <thead>\n",
       "    <tr style=\"text-align: right;\">\n",
       "      <th></th>\n",
       "      <th>orig.ident</th>\n",
       "      <th>nCount_Spatial</th>\n",
       "      <th>nFeature_Spatial</th>\n",
       "      <th>batch</th>\n",
       "    </tr>\n",
       "  </thead>\n",
       "  <tbody>\n",
       "    <tr>\n",
       "      <th>AAACCGTTCGTCCAGG-1</th>\n",
       "      <td>0</td>\n",
       "      <td>7349.0</td>\n",
       "      <td>992</td>\n",
       "      <td>st</td>\n",
       "    </tr>\n",
       "    <tr>\n",
       "      <th>AAACCTAAGCAGCCGG-1</th>\n",
       "      <td>0</td>\n",
       "      <td>8948.0</td>\n",
       "      <td>1084</td>\n",
       "      <td>st</td>\n",
       "    </tr>\n",
       "    <tr>\n",
       "      <th>AAACGAGACGGTTGAT-1</th>\n",
       "      <td>0</td>\n",
       "      <td>23405.0</td>\n",
       "      <td>1363</td>\n",
       "      <td>st</td>\n",
       "    </tr>\n",
       "    <tr>\n",
       "      <th>AAACGGTTGCGAACTG-1</th>\n",
       "      <td>0</td>\n",
       "      <td>11291.0</td>\n",
       "      <td>1138</td>\n",
       "      <td>st</td>\n",
       "    </tr>\n",
       "    <tr>\n",
       "      <th>AAACTCGGTTCGCAAT-1</th>\n",
       "      <td>0</td>\n",
       "      <td>17731.0</td>\n",
       "      <td>1423</td>\n",
       "      <td>st</td>\n",
       "    </tr>\n",
       "    <tr>\n",
       "      <th>...</th>\n",
       "      <td>...</td>\n",
       "      <td>...</td>\n",
       "      <td>...</td>\n",
       "      <td>...</td>\n",
       "    </tr>\n",
       "    <tr>\n",
       "      <th>TTGTGTATGCCACCAA-1</th>\n",
       "      <td>0</td>\n",
       "      <td>11289.0</td>\n",
       "      <td>1194</td>\n",
       "      <td>st</td>\n",
       "    </tr>\n",
       "    <tr>\n",
       "      <th>TTGTGTTTCCCGAAAG-1</th>\n",
       "      <td>0</td>\n",
       "      <td>19804.0</td>\n",
       "      <td>1218</td>\n",
       "      <td>st</td>\n",
       "    </tr>\n",
       "    <tr>\n",
       "      <th>TTGTTCAGTGTGCTAC-1</th>\n",
       "      <td>0</td>\n",
       "      <td>7820.0</td>\n",
       "      <td>1134</td>\n",
       "      <td>st</td>\n",
       "    </tr>\n",
       "    <tr>\n",
       "      <th>TTGTTGTGTGTCAAGA-1</th>\n",
       "      <td>0</td>\n",
       "      <td>8207.0</td>\n",
       "      <td>1013</td>\n",
       "      <td>st</td>\n",
       "    </tr>\n",
       "    <tr>\n",
       "      <th>TTGTTTCACATCCAGG-1</th>\n",
       "      <td>0</td>\n",
       "      <td>15787.0</td>\n",
       "      <td>1256</td>\n",
       "      <td>st</td>\n",
       "    </tr>\n",
       "  </tbody>\n",
       "</table>\n",
       "<p>1438 rows × 4 columns</p>\n",
       "</div>"
      ],
      "text/plain": [
       "                    orig.ident  nCount_Spatial  nFeature_Spatial batch\n",
       "AAACCGTTCGTCCAGG-1           0          7349.0               992    st\n",
       "AAACCTAAGCAGCCGG-1           0          8948.0              1084    st\n",
       "AAACGAGACGGTTGAT-1           0         23405.0              1363    st\n",
       "AAACGGTTGCGAACTG-1           0         11291.0              1138    st\n",
       "AAACTCGGTTCGCAAT-1           0         17731.0              1423    st\n",
       "...                        ...             ...               ...   ...\n",
       "TTGTGTATGCCACCAA-1           0         11289.0              1194    st\n",
       "TTGTGTTTCCCGAAAG-1           0         19804.0              1218    st\n",
       "TTGTTCAGTGTGCTAC-1           0          7820.0              1134    st\n",
       "TTGTTGTGTGTCAAGA-1           0          8207.0              1013    st\n",
       "TTGTTTCACATCCAGG-1           0         15787.0              1256    st\n",
       "\n",
       "[1438 rows x 4 columns]"
      ]
     },
     "execution_count": 12,
     "metadata": {},
     "output_type": "execute_result"
    }
   ],
   "source": [
    "st_combine.obs"
   ]
  },
  {
   "cell_type": "code",
   "execution_count": 13,
   "metadata": {},
   "outputs": [
    {
     "data": {
      "text/plain": [
       "AnnData object with n_obs × n_vars = 646 × 2977\n",
       "    obs: 'orig.ident', 'nCount_Spatial', 'nFeature_Spatial', 'desc_0.8'\n",
       "    var: 'features'"
      ]
     },
     "execution_count": 13,
     "metadata": {},
     "output_type": "execute_result"
    }
   ],
   "source": [
    "st_rctd=sc.read_h5ad(\"/home/huggs/shiyi/SCST/RCTD/RCTD/predata/celltrek_kidney/mymodel/3_RCTD/st_combine_subset.h5ad\")\n",
    "st_rctd"
   ]
  },
  {
   "cell_type": "code",
   "execution_count": 14,
   "metadata": {},
   "outputs": [
    {
     "name": "stdout",
     "output_type": "stream",
     "text": [
      "  (0, 0)\t212.0\n",
      "  (0, 1)\t3.0\n",
      "  (0, 2)\t604.0\n",
      "  (0, 3)\t4.0\n",
      "  (0, 4)\t709.0\n",
      "  (0, 5)\t51.0\n",
      "  (0, 6)\t1542.0\n",
      "  (0, 7)\t1.0\n",
      "  (0, 8)\t93.0\n",
      "  (0, 9)\t2.0\n",
      "  (0, 12)\t887.0\n",
      "  (0, 13)\t33.0\n",
      "  (0, 15)\t1820.0\n",
      "  (0, 16)\t1.0\n",
      "  (0, 17)\t2.0\n",
      "  (0, 19)\t37.0\n",
      "  (0, 21)\t306.0\n",
      "  (0, 22)\t16.0\n",
      "  (0, 24)\t1.0\n",
      "  (0, 25)\t1.0\n",
      "  (0, 28)\t13.0\n",
      "  (0, 31)\t8.0\n",
      "  (0, 32)\t2.0\n",
      "  (0, 35)\t1.0\n",
      "  (0, 39)\t10.0\n",
      "  :\t:\n",
      "  (645, 2926)\t4.0\n",
      "  (645, 2927)\t1.0\n",
      "  (645, 2930)\t2.0\n",
      "  (645, 2933)\t1.0\n",
      "  (645, 2934)\t18.0\n",
      "  (645, 2938)\t5.0\n",
      "  (645, 2939)\t1.0\n",
      "  (645, 2940)\t9.0\n",
      "  (645, 2941)\t1.0\n",
      "  (645, 2943)\t1.0\n",
      "  (645, 2944)\t17.0\n",
      "  (645, 2951)\t77.0\n",
      "  (645, 2953)\t2.0\n",
      "  (645, 2957)\t5.0\n",
      "  (645, 2958)\t3.0\n",
      "  (645, 2959)\t2.0\n",
      "  (645, 2961)\t14.0\n",
      "  (645, 2963)\t1.0\n",
      "  (645, 2965)\t2.0\n",
      "  (645, 2966)\t3.0\n",
      "  (645, 2969)\t3.0\n",
      "  (645, 2970)\t2.0\n",
      "  (645, 2971)\t3.0\n",
      "  (645, 2975)\t2.0\n",
      "  (645, 2976)\t1.0\n"
     ]
    }
   ],
   "source": [
    "print(st_rctd.X)"
   ]
  },
  {
   "cell_type": "code",
   "execution_count": 15,
   "metadata": {},
   "outputs": [],
   "source": [
    "st_rctd.obs[\"batch\"]=\"st\""
   ]
  },
  {
   "attachments": {},
   "cell_type": "markdown",
   "metadata": {},
   "source": [
    "## merge"
   ]
  },
  {
   "cell_type": "code",
   "execution_count": 16,
   "metadata": {},
   "outputs": [
    {
     "data": {
      "text/plain": [
       "AnnData object with n_obs × n_vars = 41358 × 2977\n",
       "    obs: 'orig.ident', 'desc_0.8', 'batch'\n",
       "    var: 'features'"
      ]
     },
     "execution_count": 16,
     "metadata": {},
     "output_type": "execute_result"
    }
   ],
   "source": [
    "#合并ST,adata\n",
    "import anndata as ad\n",
    "adatas=[sc_combine,st_rctd]\n",
    "adatas=ad.concat(adatas,merge='same')\n",
    "adatas"
   ]
  },
  {
   "cell_type": "code",
   "execution_count": 17,
   "metadata": {},
   "outputs": [
    {
     "data": {
      "text/plain": [
       "AnnData object with n_obs × n_vars = 41358 × 2977\n",
       "    obs: 'orig.ident', 'nCount_RNA', 'nFeature_RNA', 'n_counts', 'desc_0.2', 'desc_0.4', 'desc_0.6', 'desc_0.8', 'desc_1.4', 'desc_2.0', 'batch', 'nCount_Spatial', 'nFeature_Spatial'\n",
       "    obsm: 'X_Embeded_z0.2', 'X_Embeded_z0.4', 'X_Embeded_z0.6', 'X_Embeded_z0.8', 'X_Embeded_z1.4', 'X_Embeded_z2.0', 'X_tsne', 'X_tsne0.2', 'X_tsne0.4', 'X_tsne0.6', 'X_tsne0.8', 'X_tsne1.4', 'X_tsne2.0', 'X_umap', 'X_umap0.2', 'X_umap0.4', 'X_umap0.6', 'X_umap0.8', 'X_umap1.4', 'X_umap2.0'"
      ]
     },
     "execution_count": 17,
     "metadata": {},
     "output_type": "execute_result"
    }
   ],
   "source": [
    "#combine try 2\n",
    "import anndata as ad\n",
    "combined = ad.concat([sc_combine,st_rctd], join=\"outer\")\n",
    "combined"
   ]
  },
  {
   "cell_type": "code",
   "execution_count": 18,
   "metadata": {},
   "outputs": [],
   "source": [
    "combined.var=adatas.var"
   ]
  },
  {
   "cell_type": "code",
   "execution_count": 19,
   "metadata": {},
   "outputs": [
    {
     "data": {
      "text/plain": [
       "Z1_F_F1_AAACCTGAGAGACGAA    16\n",
       "Z1_F_F1_AAACCTGAGGGCTTCC    16\n",
       "Z1_F_F1_AAACCTGCAGGACGTA     2\n",
       "Z1_F_F1_AAACCTGGTATTCGTG     2\n",
       "Z1_F_F1_AAACCTGTCAAACCAC     2\n",
       "                            ..\n",
       "TTGGTCACACTCGTAA-1          22\n",
       "TTGTAAGGCCAGTTGG-1          17\n",
       "TTGTGGTAGGAGGGAT-1          16\n",
       "TTGTGTATGCCACCAA-1           4\n",
       "TTGTGTTTCCCGAAAG-1          19\n",
       "Name: desc_0.8, Length: 41358, dtype: int64"
      ]
     },
     "execution_count": 19,
     "metadata": {},
     "output_type": "execute_result"
    }
   ],
   "source": [
    "combined.obs['desc_0.8']"
   ]
  },
  {
   "cell_type": "code",
   "execution_count": 20,
   "metadata": {},
   "outputs": [],
   "source": [
    "#保存报错TypeError: Can't implicitly convert non-string objects to strings  Above error raised while writing key 'desc_0.4' of <class 'h5py._hl.group.Group'> from /.  Above error raised while writing key 'obs' of <class 'h5py._hl.files.File'> from /.\n",
    "del combined.obs['desc_0.4']\n",
    "del combined.obs['desc_0.6']\n",
    "del combined.obs['desc_0.2']\n",
    "del combined.obs['desc_1.4']\n",
    "del combined.obs['desc_2.0']"
   ]
  },
  {
   "cell_type": "code",
   "execution_count": 21,
   "metadata": {},
   "outputs": [
    {
     "name": "stderr",
     "output_type": "stream",
     "text": [
      "... storing 'batch' as categorical\n"
     ]
    }
   ],
   "source": [
    "combined.write_h5ad(\"combine_strctd.h5ad\")"
   ]
  },
  {
   "cell_type": "code",
   "execution_count": 22,
   "metadata": {},
   "outputs": [
    {
     "data": {
      "text/plain": [
       "AnnData object with n_obs × n_vars = 41358 × 2977\n",
       "    obs: 'orig.ident', 'nCount_RNA', 'nFeature_RNA', 'n_counts', 'desc_0.8', 'batch', 'nCount_Spatial', 'nFeature_Spatial'\n",
       "    var: 'features'\n",
       "    obsm: 'X_Embeded_z0.2', 'X_Embeded_z0.4', 'X_Embeded_z0.6', 'X_Embeded_z0.8', 'X_Embeded_z1.4', 'X_Embeded_z2.0', 'X_tsne', 'X_tsne0.2', 'X_tsne0.4', 'X_tsne0.6', 'X_tsne0.8', 'X_tsne1.4', 'X_tsne2.0', 'X_umap', 'X_umap0.2', 'X_umap0.4', 'X_umap0.6', 'X_umap0.8', 'X_umap1.4', 'X_umap2.0'"
      ]
     },
     "execution_count": 22,
     "metadata": {},
     "output_type": "execute_result"
    }
   ],
   "source": [
    "combined=sc.read_h5ad(\"combine_strctd.h5ad\")\n",
    "combined"
   ]
  },
  {
   "cell_type": "code",
   "execution_count": 23,
   "metadata": {},
   "outputs": [
    {
     "name": "stdout",
     "output_type": "stream",
     "text": [
      "  (0, 5)\t2.0\n",
      "  (0, 8)\t4.0\n",
      "  (0, 12)\t2.0\n",
      "  (0, 15)\t1.0\n",
      "  (0, 21)\t6.0\n",
      "  (0, 24)\t1.0\n",
      "  (0, 59)\t5.0\n",
      "  (0, 110)\t1.0\n",
      "  (0, 115)\t2.0\n",
      "  (0, 118)\t2.0\n",
      "  (0, 122)\t2.0\n",
      "  (0, 128)\t5.0\n",
      "  (0, 141)\t6.0\n",
      "  (0, 155)\t12.0\n",
      "  (0, 156)\t11.0\n",
      "  (0, 160)\t10.0\n",
      "  (0, 165)\t3.0\n",
      "  (0, 166)\t24.0\n",
      "  (0, 173)\t7.0\n",
      "  (0, 179)\t11.0\n",
      "  (0, 187)\t13.0\n",
      "  (0, 189)\t1.0\n",
      "  (0, 193)\t10.0\n",
      "  (0, 200)\t3.0\n",
      "  (0, 220)\t2.0\n",
      "  :\t:\n",
      "  (41357, 2926)\t4.0\n",
      "  (41357, 2927)\t1.0\n",
      "  (41357, 2930)\t2.0\n",
      "  (41357, 2933)\t1.0\n",
      "  (41357, 2934)\t18.0\n",
      "  (41357, 2938)\t5.0\n",
      "  (41357, 2939)\t1.0\n",
      "  (41357, 2940)\t9.0\n",
      "  (41357, 2941)\t1.0\n",
      "  (41357, 2943)\t1.0\n",
      "  (41357, 2944)\t17.0\n",
      "  (41357, 2951)\t77.0\n",
      "  (41357, 2953)\t2.0\n",
      "  (41357, 2957)\t5.0\n",
      "  (41357, 2958)\t3.0\n",
      "  (41357, 2959)\t2.0\n",
      "  (41357, 2961)\t14.0\n",
      "  (41357, 2963)\t1.0\n",
      "  (41357, 2965)\t2.0\n",
      "  (41357, 2966)\t3.0\n",
      "  (41357, 2969)\t3.0\n",
      "  (41357, 2970)\t2.0\n",
      "  (41357, 2971)\t3.0\n",
      "  (41357, 2975)\t2.0\n",
      "  (41357, 2976)\t1.0\n"
     ]
    }
   ],
   "source": [
    "print(combined.X)   #not norm rawdata"
   ]
  },
  {
   "cell_type": "code",
   "execution_count": 24,
   "metadata": {},
   "outputs": [
    {
     "data": {
      "text/plain": [
       "Index(['Hbb-bt', 'S100a8', 'Hba-a2', 'S100a9', 'Hba-a1', 'S100g', 'Hbb-bs',\n",
       "       'Psca', 'Klk1', 'Ccl5',\n",
       "       ...\n",
       "       'Sctr', 'Atg101', 'Hoxb3os', 'Lama2', 'Adra2b', 'Pmaip1', 'Aoah', 'Afm',\n",
       "       'Mthfd2l', 'Gm11789'],\n",
       "      dtype='object', length=2977)"
      ]
     },
     "execution_count": 24,
     "metadata": {},
     "output_type": "execute_result"
    }
   ],
   "source": [
    "combined.var_names"
   ]
  },
  {
   "cell_type": "code",
   "execution_count": 25,
   "metadata": {},
   "outputs": [
    {
     "data": {
      "text/plain": [
       "(41358, 2977)"
      ]
     },
     "execution_count": 25,
     "metadata": {},
     "output_type": "execute_result"
    }
   ],
   "source": [
    "combined.shape"
   ]
  },
  {
   "attachments": {},
   "cell_type": "markdown",
   "metadata": {},
   "source": [
    "## 分开traindata/validation"
   ]
  },
  {
   "cell_type": "code",
   "execution_count": 26,
   "metadata": {},
   "outputs": [],
   "source": [
    "import random"
   ]
  },
  {
   "cell_type": "code",
   "execution_count": 27,
   "metadata": {},
   "outputs": [
    {
     "data": {
      "text/plain": [
       "View of AnnData object with n_obs × n_vars = 24814 × 2977\n",
       "    obs: 'orig.ident', 'nCount_RNA', 'nFeature_RNA', 'n_counts', 'desc_0.8', 'batch', 'nCount_Spatial', 'nFeature_Spatial'\n",
       "    var: 'features'\n",
       "    obsm: 'X_Embeded_z0.2', 'X_Embeded_z0.4', 'X_Embeded_z0.6', 'X_Embeded_z0.8', 'X_Embeded_z1.4', 'X_Embeded_z2.0', 'X_tsne', 'X_tsne0.2', 'X_tsne0.4', 'X_tsne0.6', 'X_tsne0.8', 'X_tsne1.4', 'X_tsne2.0', 'X_umap', 'X_umap0.2', 'X_umap0.4', 'X_umap0.6', 'X_umap0.8', 'X_umap1.4', 'X_umap2.0'"
      ]
     },
     "execution_count": 27,
     "metadata": {},
     "output_type": "execute_result"
    }
   ],
   "source": [
    "traindata = anndata.AnnData()\n",
    "# 从原始anndata对象中获取观测点的索引:train:validation = 6:4\n",
    "random_indices = random.sample(range(combined.shape[0]), int(combined.shape[0]*0.6))\n",
    "# 根据索引抽取对应的观测数据\n",
    "traindata = combined[random_indices, :]\n",
    "traindata"
   ]
  },
  {
   "cell_type": "code",
   "execution_count": 28,
   "metadata": {},
   "outputs": [
    {
     "data": {
      "text/plain": [
       "sc    24440\n",
       "st      374\n",
       "Name: batch, dtype: int64"
      ]
     },
     "execution_count": 28,
     "metadata": {},
     "output_type": "execute_result"
    }
   ],
   "source": [
    "traindata.obs['batch'].value_counts()"
   ]
  },
  {
   "cell_type": "code",
   "execution_count": 29,
   "metadata": {},
   "outputs": [
    {
     "data": {
      "text/plain": [
       "sc    40712\n",
       "st      646\n",
       "Name: batch, dtype: int64"
      ]
     },
     "execution_count": 29,
     "metadata": {},
     "output_type": "execute_result"
    }
   ],
   "source": [
    "combined.obs['batch'].value_counts()"
   ]
  },
  {
   "cell_type": "code",
   "execution_count": 30,
   "metadata": {},
   "outputs": [],
   "source": [
    "traindata.write_h5ad(\"traindata.h5ad\")"
   ]
  },
  {
   "cell_type": "code",
   "execution_count": 31,
   "metadata": {},
   "outputs": [
    {
     "data": {
      "text/plain": [
       "View of AnnData object with n_obs × n_vars = 16543 × 2977\n",
       "    obs: 'orig.ident', 'nCount_RNA', 'nFeature_RNA', 'n_counts', 'desc_0.8', 'batch', 'nCount_Spatial', 'nFeature_Spatial'\n",
       "    var: 'features'\n",
       "    obsm: 'X_Embeded_z0.2', 'X_Embeded_z0.4', 'X_Embeded_z0.6', 'X_Embeded_z0.8', 'X_Embeded_z1.4', 'X_Embeded_z2.0', 'X_tsne', 'X_tsne0.2', 'X_tsne0.4', 'X_tsne0.6', 'X_tsne0.8', 'X_tsne1.4', 'X_tsne2.0', 'X_umap', 'X_umap0.2', 'X_umap0.4', 'X_umap0.6', 'X_umap0.8', 'X_umap1.4', 'X_umap2.0'"
      ]
     },
     "execution_count": 31,
     "metadata": {},
     "output_type": "execute_result"
    }
   ],
   "source": [
    "validation = anndata.AnnData()\n",
    "# 从原始anndata对象中获取观测点的索引:train:validation = 6:4\n",
    "random_indices = random.sample(range(combined.shape[0]), int(combined.shape[0]*0.4))\n",
    "# 根据索引抽取对应的观测数据\n",
    "validation = combined[random_indices, :]\n",
    "validation"
   ]
  },
  {
   "cell_type": "code",
   "execution_count": 32,
   "metadata": {},
   "outputs": [],
   "source": [
    "validation.write_h5ad(\"validation.h5ad\")"
   ]
  },
  {
   "cell_type": "code",
   "execution_count": 33,
   "metadata": {},
   "outputs": [
    {
     "data": {
      "text/plain": [
       "sc    16293\n",
       "st      250\n",
       "Name: batch, dtype: int64"
      ]
     },
     "execution_count": 33,
     "metadata": {},
     "output_type": "execute_result"
    }
   ],
   "source": [
    "validation.obs['batch'].value_counts()"
   ]
  },
  {
   "attachments": {},
   "cell_type": "markdown",
   "metadata": {},
   "source": [
    "##下采样"
   ]
  },
  {
   "attachments": {},
   "cell_type": "markdown",
   "metadata": {},
   "source": [
    "#平均表达个数=sc/st"
   ]
  },
  {
   "cell_type": "code",
   "execution_count": 34,
   "metadata": {},
   "outputs": [
    {
     "data": {
      "text/plain": [
       "Z1_F_F1_AAACCTGAGAGACGAA    347\n",
       "Z1_F_F1_AAACCTGAGGGCTTCC    370\n",
       "Z1_F_F1_AAACCTGCAGGACGTA    268\n",
       "Z1_F_F1_AAACCTGGTATTCGTG    164\n",
       "Z1_F_F1_AAACCTGTCAAACCAC    153\n",
       "                           ... \n",
       "Z3_M_M2_TTTGTCAAGTGGTCCC    267\n",
       "Z3_M_M2_TTTGTCACATCACAAC    160\n",
       "Z3_M_M2_TTTGTCACATCGTCGG    330\n",
       "Z3_M_M2_TTTGTCAGTAACGACG    211\n",
       "Z3_M_M2_TTTGTCATCTCAAGTG    119\n",
       "Name: nFeature_RNA, Length: 40712, dtype: int32"
      ]
     },
     "execution_count": 34,
     "metadata": {},
     "output_type": "execute_result"
    }
   ],
   "source": [
    "sc_combine.obs['nFeature_RNA']"
   ]
  },
  {
   "cell_type": "code",
   "execution_count": 35,
   "metadata": {},
   "outputs": [
    {
     "data": {
      "text/plain": [
       "AAACCGTTCGTCCAGG-1     992\n",
       "AAACCTAAGCAGCCGG-1    1084\n",
       "AAACGAGACGGTTGAT-1    1363\n",
       "AAACGGTTGCGAACTG-1    1138\n",
       "AAACTCGGTTCGCAAT-1    1423\n",
       "                      ... \n",
       "TTGTGTATGCCACCAA-1    1194\n",
       "TTGTGTTTCCCGAAAG-1    1218\n",
       "TTGTTCAGTGTGCTAC-1    1134\n",
       "TTGTTGTGTGTCAAGA-1    1013\n",
       "TTGTTTCACATCCAGG-1    1256\n",
       "Name: nFeature_Spatial, Length: 1438, dtype: int32"
      ]
     },
     "execution_count": 35,
     "metadata": {},
     "output_type": "execute_result"
    }
   ],
   "source": [
    "st_combine.obs['nFeature_Spatial']"
   ]
  },
  {
   "cell_type": "code",
   "execution_count": 36,
   "metadata": {},
   "outputs": [
    {
     "name": "stdout",
     "output_type": "stream",
     "text": [
      "231.72607584987227\n",
      "1121.7586926286508\n"
     ]
    },
    {
     "data": {
      "text/plain": [
       "0.20657390700210365"
      ]
     },
     "execution_count": 36,
     "metadata": {},
     "output_type": "execute_result"
    }
   ],
   "source": [
    "scaverages=sc_combine.obs['nFeature_RNA'].mean()\n",
    "print(scaverages)\n",
    "staverages=st_combine.obs['nFeature_Spatial'].mean()   \n",
    "print(staverages)\n",
    "alpha=scaverages/staverages \n",
    "alpha \n",
    "#231.72607584987227\n",
    "#1121.7586926286508\n",
    "#0.20657390700210365"
   ]
  },
  {
   "cell_type": "code",
   "execution_count": 64,
   "metadata": {},
   "outputs": [],
   "source": [
    "###下采样####################"
   ]
  },
  {
   "cell_type": "code",
   "execution_count": 37,
   "metadata": {},
   "outputs": [],
   "source": [
    "def lower_sample_data(rawdata, alpha):\n",
    "    \"\"\"\n",
    "    将矩阵中的每个元素有概率 p 保留原值，有概率 1-p 变成 0\n",
    "    \"\"\"\n",
    "    #创建一个与原始矩阵大小相同的随机矩阵\n",
    "    random_matrix=np.random.choice([0,1], size=(rawdata.shape[0],rawdata.shape[1]), replace=True, p=[1-alpha,alpha])\n",
    "    # 将原始矩阵中的元素与随机矩阵中的元素按位相乘\n",
    "    result = rawdata * random_matrix\n",
    "    return result\n"
   ]
  },
  {
   "cell_type": "code",
   "execution_count": 38,
   "metadata": {},
   "outputs": [],
   "source": [
    "validation=sc.read_h5ad(\"validation.h5ad\")\n",
    "traindata=sc.read_h5ad(\"traindata.h5ad\")"
   ]
  },
  {
   "cell_type": "code",
   "execution_count": 39,
   "metadata": {},
   "outputs": [
    {
     "data": {
      "text/plain": [
       "AnnData object with n_obs × n_vars = 24814 × 2977\n",
       "    obs: 'orig.ident', 'nCount_RNA', 'nFeature_RNA', 'n_counts', 'desc_0.8', 'batch', 'nCount_Spatial', 'nFeature_Spatial'\n",
       "    var: 'features'\n",
       "    obsm: 'X_Embeded_z0.2', 'X_Embeded_z0.4', 'X_Embeded_z0.6', 'X_Embeded_z0.8', 'X_Embeded_z1.4', 'X_Embeded_z2.0', 'X_tsne', 'X_tsne0.2', 'X_tsne0.4', 'X_tsne0.6', 'X_tsne0.8', 'X_tsne1.4', 'X_tsne2.0', 'X_umap', 'X_umap0.2', 'X_umap0.4', 'X_umap0.6', 'X_umap0.8', 'X_umap1.4', 'X_umap2.0'"
      ]
     },
     "execution_count": 39,
     "metadata": {},
     "output_type": "execute_result"
    }
   ],
   "source": [
    "traindata"
   ]
  },
  {
   "cell_type": "code",
   "execution_count": 40,
   "metadata": {},
   "outputs": [
    {
     "data": {
      "text/plain": [
       "View of AnnData object with n_obs × n_vars = 374 × 2977\n",
       "    obs: 'orig.ident', 'nCount_RNA', 'nFeature_RNA', 'n_counts', 'desc_0.8', 'batch', 'nCount_Spatial', 'nFeature_Spatial'\n",
       "    var: 'features'\n",
       "    obsm: 'X_Embeded_z0.2', 'X_Embeded_z0.4', 'X_Embeded_z0.6', 'X_Embeded_z0.8', 'X_Embeded_z1.4', 'X_Embeded_z2.0', 'X_tsne', 'X_tsne0.2', 'X_tsne0.4', 'X_tsne0.6', 'X_tsne0.8', 'X_tsne1.4', 'X_tsne2.0', 'X_umap', 'X_umap0.2', 'X_umap0.4', 'X_umap0.6', 'X_umap0.8', 'X_umap1.4', 'X_umap2.0'"
      ]
     },
     "execution_count": 40,
     "metadata": {},
     "output_type": "execute_result"
    }
   ],
   "source": [
    "traindatasubset_sc=traindata[traindata.obs['batch']=='sc']\n",
    "traindatasubset_st=traindata[traindata.obs['batch']=='st']\n",
    "traindatasubset_st"
   ]
  },
  {
   "cell_type": "code",
   "execution_count": 41,
   "metadata": {},
   "outputs": [],
   "source": [
    "lower_sample_data_1=lower_sample_data(pd.DataFrame(traindatasubset_st.X.todense()), alpha)\n",
    "lower_sample_data_1\n",
    "lower_sample_data_1.index=traindatasubset_st.obs_names\n",
    "lower_sample_data_1.index\n",
    "lower_sample_data_1.columns=traindatasubset_st.var_names\n",
    "lower_sample_data_1.columns\n",
    "traindata_st=sc.AnnData(lower_sample_data_1)\n",
    "traindata_st\n",
    "traindata_st.obs[\"batch\"]=\"st\""
   ]
  },
  {
   "cell_type": "code",
   "execution_count": 42,
   "metadata": {},
   "outputs": [
    {
     "data": {
      "text/plain": [
       "65"
      ]
     },
     "execution_count": 42,
     "metadata": {},
     "output_type": "execute_result"
    }
   ],
   "source": [
    "int(traindatasubset_sc.shape[0]/traindatasubset_st.shape[0])"
   ]
  },
  {
   "cell_type": "code",
   "execution_count": 43,
   "metadata": {},
   "outputs": [
    {
     "name": "stdout",
     "output_type": "stream",
     "text": [
      "1\n",
      "2\n",
      "3\n",
      "4\n",
      "5\n",
      "6\n",
      "7\n",
      "8\n",
      "9\n",
      "10\n",
      "11\n",
      "12\n",
      "13\n",
      "14\n",
      "15\n",
      "16\n",
      "17\n",
      "18\n",
      "19\n",
      "20\n",
      "21\n",
      "22\n",
      "23\n",
      "24\n",
      "25\n",
      "26\n",
      "27\n",
      "28\n",
      "29\n",
      "30\n",
      "31\n",
      "32\n",
      "33\n",
      "34\n",
      "35\n",
      "36\n",
      "37\n",
      "38\n",
      "39\n",
      "40\n",
      "41\n",
      "42\n",
      "43\n",
      "44\n",
      "45\n",
      "46\n",
      "47\n",
      "48\n",
      "49\n",
      "50\n",
      "51\n",
      "52\n",
      "53\n",
      "54\n",
      "55\n",
      "56\n",
      "57\n",
      "58\n",
      "59\n",
      "60\n",
      "61\n",
      "62\n",
      "63\n",
      "64\n",
      "65\n"
     ]
    }
   ],
   "source": [
    "###循环抽样sc/st次\n",
    "names = locals()\n",
    "for i in range(1,int(traindatasubset_sc.shape[0]/traindatasubset_st.shape[0])+1):\n",
    "    print(i)\n",
    "    names['lower_sample_data_%s'%i]=lower_sample_data(pd.DataFrame(traindatasubset_st.X.todense()), alpha)\n",
    "    names['lower_sample_data_%s'%i].index=traindatasubset_st.obs_names\n",
    "    names['lower_sample_data_%s'%i].columns=traindatasubset_st.var_names\n",
    "    names['traindata_st_%s'%i]=sc.AnnData(lower_sample_data_1)\n",
    "    names['traindata_st_%s'%i].obs[\"batch\"]=\"st\"\n",
    "    names['traindata_st_%s'%i].obs[\"desc_0.8\"]=traindatasubset_st.obs['desc_0.8']\n",
    "    names['traindata_st_%s'%i].obs[\"batch_sub\"]='st_%s'%i\n",
    "    "
   ]
  },
  {
   "cell_type": "code",
   "execution_count": 44,
   "metadata": {},
   "outputs": [
    {
     "data": {
      "text/plain": [
       "AnnData object with n_obs × n_vars = 374 × 2977\n",
       "    obs: 'batch', 'desc_0.8', 'batch_sub'"
      ]
     },
     "execution_count": 44,
     "metadata": {},
     "output_type": "execute_result"
    }
   ],
   "source": [
    "##\n",
    "traindata_st_65"
   ]
  },
  {
   "cell_type": "code",
   "execution_count": 73,
   "metadata": {},
   "outputs": [],
   "source": [
    "#sc_combine.X=sc_combine.X.toarray()"
   ]
  },
  {
   "cell_type": "code",
   "execution_count": 45,
   "metadata": {},
   "outputs": [
    {
     "name": "stderr",
     "output_type": "stream",
     "text": [
      "Observation names are not unique. To make them unique, call `.obs_names_make_unique`.\n",
      "Observation names are not unique. To make them unique, call `.obs_names_make_unique`.\n",
      "Observation names are not unique. To make them unique, call `.obs_names_make_unique`.\n",
      "Observation names are not unique. To make them unique, call `.obs_names_make_unique`.\n",
      "Observation names are not unique. To make them unique, call `.obs_names_make_unique`.\n",
      "Observation names are not unique. To make them unique, call `.obs_names_make_unique`.\n",
      "Observation names are not unique. To make them unique, call `.obs_names_make_unique`.\n",
      "Observation names are not unique. To make them unique, call `.obs_names_make_unique`.\n",
      "Observation names are not unique. To make them unique, call `.obs_names_make_unique`.\n",
      "Observation names are not unique. To make them unique, call `.obs_names_make_unique`.\n"
     ]
    },
    {
     "name": "stdout",
     "output_type": "stream",
     "text": [
      "1\n",
      "2\n",
      "3\n",
      "4\n",
      "5\n",
      "6\n",
      "7\n",
      "8\n",
      "9\n",
      "10\n",
      "11\n"
     ]
    },
    {
     "name": "stderr",
     "output_type": "stream",
     "text": [
      "Observation names are not unique. To make them unique, call `.obs_names_make_unique`.\n",
      "Observation names are not unique. To make them unique, call `.obs_names_make_unique`.\n",
      "Observation names are not unique. To make them unique, call `.obs_names_make_unique`.\n",
      "Observation names are not unique. To make them unique, call `.obs_names_make_unique`.\n",
      "Observation names are not unique. To make them unique, call `.obs_names_make_unique`.\n",
      "Observation names are not unique. To make them unique, call `.obs_names_make_unique`.\n"
     ]
    },
    {
     "name": "stdout",
     "output_type": "stream",
     "text": [
      "12\n",
      "13\n",
      "14\n",
      "15\n",
      "16\n",
      "17\n"
     ]
    },
    {
     "name": "stderr",
     "output_type": "stream",
     "text": [
      "Observation names are not unique. To make them unique, call `.obs_names_make_unique`.\n",
      "Observation names are not unique. To make them unique, call `.obs_names_make_unique`.\n",
      "Observation names are not unique. To make them unique, call `.obs_names_make_unique`.\n",
      "Observation names are not unique. To make them unique, call `.obs_names_make_unique`.\n",
      "Observation names are not unique. To make them unique, call `.obs_names_make_unique`.\n"
     ]
    },
    {
     "name": "stdout",
     "output_type": "stream",
     "text": [
      "18\n",
      "19\n",
      "20\n",
      "21\n",
      "22\n"
     ]
    },
    {
     "name": "stderr",
     "output_type": "stream",
     "text": [
      "Observation names are not unique. To make them unique, call `.obs_names_make_unique`.\n",
      "Observation names are not unique. To make them unique, call `.obs_names_make_unique`.\n",
      "Observation names are not unique. To make them unique, call `.obs_names_make_unique`.\n",
      "Observation names are not unique. To make them unique, call `.obs_names_make_unique`.\n"
     ]
    },
    {
     "name": "stdout",
     "output_type": "stream",
     "text": [
      "23\n",
      "24\n",
      "25\n",
      "26\n"
     ]
    },
    {
     "name": "stderr",
     "output_type": "stream",
     "text": [
      "Observation names are not unique. To make them unique, call `.obs_names_make_unique`.\n",
      "Observation names are not unique. To make them unique, call `.obs_names_make_unique`.\n",
      "Observation names are not unique. To make them unique, call `.obs_names_make_unique`.\n",
      "Observation names are not unique. To make them unique, call `.obs_names_make_unique`.\n"
     ]
    },
    {
     "name": "stdout",
     "output_type": "stream",
     "text": [
      "27\n",
      "28\n",
      "29\n",
      "30\n"
     ]
    },
    {
     "name": "stderr",
     "output_type": "stream",
     "text": [
      "Observation names are not unique. To make them unique, call `.obs_names_make_unique`.\n",
      "Observation names are not unique. To make them unique, call `.obs_names_make_unique`.\n",
      "Observation names are not unique. To make them unique, call `.obs_names_make_unique`.\n"
     ]
    },
    {
     "name": "stdout",
     "output_type": "stream",
     "text": [
      "31\n",
      "32\n",
      "33\n"
     ]
    },
    {
     "name": "stderr",
     "output_type": "stream",
     "text": [
      "Observation names are not unique. To make them unique, call `.obs_names_make_unique`.\n",
      "Observation names are not unique. To make them unique, call `.obs_names_make_unique`.\n",
      "Observation names are not unique. To make them unique, call `.obs_names_make_unique`.\n"
     ]
    },
    {
     "name": "stdout",
     "output_type": "stream",
     "text": [
      "34\n",
      "35\n",
      "36\n"
     ]
    },
    {
     "name": "stderr",
     "output_type": "stream",
     "text": [
      "Observation names are not unique. To make them unique, call `.obs_names_make_unique`.\n",
      "Observation names are not unique. To make them unique, call `.obs_names_make_unique`.\n",
      "Observation names are not unique. To make them unique, call `.obs_names_make_unique`.\n"
     ]
    },
    {
     "name": "stdout",
     "output_type": "stream",
     "text": [
      "37\n",
      "38\n",
      "39\n"
     ]
    },
    {
     "name": "stderr",
     "output_type": "stream",
     "text": [
      "Observation names are not unique. To make them unique, call `.obs_names_make_unique`.\n",
      "Observation names are not unique. To make them unique, call `.obs_names_make_unique`.\n",
      "Observation names are not unique. To make them unique, call `.obs_names_make_unique`.\n"
     ]
    },
    {
     "name": "stdout",
     "output_type": "stream",
     "text": [
      "40\n",
      "41\n",
      "42\n"
     ]
    },
    {
     "name": "stderr",
     "output_type": "stream",
     "text": [
      "Observation names are not unique. To make them unique, call `.obs_names_make_unique`.\n",
      "Observation names are not unique. To make them unique, call `.obs_names_make_unique`.\n",
      "Observation names are not unique. To make them unique, call `.obs_names_make_unique`.\n"
     ]
    },
    {
     "name": "stdout",
     "output_type": "stream",
     "text": [
      "43\n",
      "44\n",
      "45\n"
     ]
    },
    {
     "name": "stderr",
     "output_type": "stream",
     "text": [
      "Observation names are not unique. To make them unique, call `.obs_names_make_unique`.\n",
      "Observation names are not unique. To make them unique, call `.obs_names_make_unique`.\n",
      "Observation names are not unique. To make them unique, call `.obs_names_make_unique`.\n"
     ]
    },
    {
     "name": "stdout",
     "output_type": "stream",
     "text": [
      "46\n",
      "47\n",
      "48\n"
     ]
    },
    {
     "name": "stderr",
     "output_type": "stream",
     "text": [
      "Observation names are not unique. To make them unique, call `.obs_names_make_unique`.\n",
      "Observation names are not unique. To make them unique, call `.obs_names_make_unique`.\n"
     ]
    },
    {
     "name": "stdout",
     "output_type": "stream",
     "text": [
      "49\n",
      "50\n"
     ]
    },
    {
     "name": "stderr",
     "output_type": "stream",
     "text": [
      "Observation names are not unique. To make them unique, call `.obs_names_make_unique`.\n",
      "Observation names are not unique. To make them unique, call `.obs_names_make_unique`.\n"
     ]
    },
    {
     "name": "stdout",
     "output_type": "stream",
     "text": [
      "51\n",
      "52\n"
     ]
    },
    {
     "name": "stderr",
     "output_type": "stream",
     "text": [
      "Observation names are not unique. To make them unique, call `.obs_names_make_unique`.\n",
      "Observation names are not unique. To make them unique, call `.obs_names_make_unique`.\n"
     ]
    },
    {
     "name": "stdout",
     "output_type": "stream",
     "text": [
      "53\n",
      "54\n"
     ]
    },
    {
     "name": "stderr",
     "output_type": "stream",
     "text": [
      "Observation names are not unique. To make them unique, call `.obs_names_make_unique`.\n",
      "Observation names are not unique. To make them unique, call `.obs_names_make_unique`.\n"
     ]
    },
    {
     "name": "stdout",
     "output_type": "stream",
     "text": [
      "55\n",
      "56\n"
     ]
    },
    {
     "name": "stderr",
     "output_type": "stream",
     "text": [
      "Observation names are not unique. To make them unique, call `.obs_names_make_unique`.\n",
      "Observation names are not unique. To make them unique, call `.obs_names_make_unique`.\n"
     ]
    },
    {
     "name": "stdout",
     "output_type": "stream",
     "text": [
      "57\n",
      "58\n"
     ]
    },
    {
     "name": "stderr",
     "output_type": "stream",
     "text": [
      "Observation names are not unique. To make them unique, call `.obs_names_make_unique`.\n",
      "Observation names are not unique. To make them unique, call `.obs_names_make_unique`.\n"
     ]
    },
    {
     "name": "stdout",
     "output_type": "stream",
     "text": [
      "59\n",
      "60\n"
     ]
    },
    {
     "name": "stderr",
     "output_type": "stream",
     "text": [
      "Observation names are not unique. To make them unique, call `.obs_names_make_unique`.\n",
      "Observation names are not unique. To make them unique, call `.obs_names_make_unique`.\n"
     ]
    },
    {
     "name": "stdout",
     "output_type": "stream",
     "text": [
      "61\n",
      "62\n"
     ]
    },
    {
     "name": "stderr",
     "output_type": "stream",
     "text": [
      "Observation names are not unique. To make them unique, call `.obs_names_make_unique`.\n",
      "Observation names are not unique. To make them unique, call `.obs_names_make_unique`.\n"
     ]
    },
    {
     "name": "stdout",
     "output_type": "stream",
     "text": [
      "63\n",
      "64\n"
     ]
    },
    {
     "name": "stderr",
     "output_type": "stream",
     "text": [
      "Observation names are not unique. To make them unique, call `.obs_names_make_unique`.\n"
     ]
    }
   ],
   "source": [
    "import anndata as ad\n",
    "names = locals()\n",
    "traindata_combine_1=traindata_st_1\n",
    "for i in range(1,int(traindatasubset_sc.shape[0]/traindatasubset_st.shape[0])):\n",
    "    print(i)\n",
    "    names['traindata_combine_%s'%(i+1)]=ad.concat([names['traindata_combine_%s'%i],names['traindata_st_%s'%(i+1)]], join=\"outer\")\n"
   ]
  },
  {
   "cell_type": "code",
   "execution_count": 46,
   "metadata": {},
   "outputs": [
    {
     "data": {
      "text/plain": [
       "AnnData object with n_obs × n_vars = 24310 × 2977\n",
       "    obs: 'batch', 'desc_0.8', 'batch_sub'"
      ]
     },
     "execution_count": 46,
     "metadata": {},
     "output_type": "execute_result"
    }
   ],
   "source": [
    "traindata_combine_65"
   ]
  },
  {
   "cell_type": "code",
   "execution_count": 47,
   "metadata": {},
   "outputs": [
    {
     "name": "stderr",
     "output_type": "stream",
     "text": [
      "... storing 'batch' as categorical\n",
      "... storing 'batch_sub' as categorical\n"
     ]
    }
   ],
   "source": [
    "traindata_combine_65.write_h5ad(\"traindata_undersample_st.h5ad\")"
   ]
  },
  {
   "cell_type": "code",
   "execution_count": 48,
   "metadata": {},
   "outputs": [
    {
     "data": {
      "text/plain": [
       "AnnData object with n_obs × n_vars = 40712 × 2977\n",
       "    obs: 'orig.ident', 'nCount_RNA', 'nFeature_RNA', 'n_counts', 'desc_0.2', 'desc_0.4', 'desc_0.6', 'desc_0.8', 'desc_1.4', 'desc_2.0', 'batch'\n",
       "    var: 'features', 'mean', 'std'\n",
       "    uns: 'prob_matrix0.2', 'prob_matrix0.4', 'prob_matrix0.6', 'prob_matrix0.8', 'prob_matrix1.4', 'prob_matrix2.0', 'umap'\n",
       "    obsm: 'X_Embeded_z0.2', 'X_Embeded_z0.4', 'X_Embeded_z0.6', 'X_Embeded_z0.8', 'X_Embeded_z1.4', 'X_Embeded_z2.0', 'X_tsne', 'X_tsne0.2', 'X_tsne0.4', 'X_tsne0.6', 'X_tsne0.8', 'X_tsne1.4', 'X_tsne2.0', 'X_umap', 'X_umap0.2', 'X_umap0.4', 'X_umap0.6', 'X_umap0.8', 'X_umap1.4', 'X_umap2.0'\n",
       "    obsp: 'connectivities', 'distances'"
      ]
     },
     "execution_count": 48,
     "metadata": {},
     "output_type": "execute_result"
    }
   ],
   "source": [
    "sc_combine"
   ]
  },
  {
   "cell_type": "code",
   "execution_count": 49,
   "metadata": {},
   "outputs": [
    {
     "name": "stderr",
     "output_type": "stream",
     "text": [
      "/home/huggs/anaconda3/envs/SCST/lib/python3.6/site-packages/anndata/_core/merge.py:918: UserWarning: Only some AnnData objects have `.raw` attribute, not concatenating `.raw` attributes.\n",
      "  UserWarning,\n",
      "Observation names are not unique. To make them unique, call `.obs_names_make_unique`.\n"
     ]
    },
    {
     "data": {
      "text/plain": [
       "AnnData object with n_obs × n_vars = 65022 × 2977\n",
       "    obs: 'orig.ident', 'nCount_RNA', 'nFeature_RNA', 'n_counts', 'desc_0.2', 'desc_0.4', 'desc_0.6', 'desc_0.8', 'desc_1.4', 'desc_2.0', 'batch', 'batch_sub'\n",
       "    obsm: 'X_Embeded_z0.2', 'X_Embeded_z0.4', 'X_Embeded_z0.6', 'X_Embeded_z0.8', 'X_Embeded_z1.4', 'X_Embeded_z2.0', 'X_tsne', 'X_tsne0.2', 'X_tsne0.4', 'X_tsne0.6', 'X_tsne0.8', 'X_tsne1.4', 'X_tsne2.0', 'X_umap', 'X_umap0.2', 'X_umap0.4', 'X_umap0.6', 'X_umap0.8', 'X_umap1.4', 'X_umap2.0'"
      ]
     },
     "execution_count": 49,
     "metadata": {},
     "output_type": "execute_result"
    }
   ],
   "source": [
    "#traindata_combine_26=sc.read_h5ad(\"traindata_undersample_st.h5ad\")\n",
    "traindata_combine=ad.concat([sc_combine,traindata_combine_65],join=\"outer\")\n",
    "traindata_combine"
   ]
  },
  {
   "cell_type": "code",
   "execution_count": 50,
   "metadata": {},
   "outputs": [
    {
     "data": {
      "text/html": [
       "<div>\n",
       "<style scoped>\n",
       "    .dataframe tbody tr th:only-of-type {\n",
       "        vertical-align: middle;\n",
       "    }\n",
       "\n",
       "    .dataframe tbody tr th {\n",
       "        vertical-align: top;\n",
       "    }\n",
       "\n",
       "    .dataframe thead th {\n",
       "        text-align: right;\n",
       "    }\n",
       "</style>\n",
       "<table border=\"1\" class=\"dataframe\">\n",
       "  <thead>\n",
       "    <tr style=\"text-align: right;\">\n",
       "      <th></th>\n",
       "      <th>orig.ident</th>\n",
       "      <th>nCount_RNA</th>\n",
       "      <th>nFeature_RNA</th>\n",
       "      <th>n_counts</th>\n",
       "      <th>desc_0.2</th>\n",
       "      <th>desc_0.4</th>\n",
       "      <th>desc_0.6</th>\n",
       "      <th>desc_0.8</th>\n",
       "      <th>desc_1.4</th>\n",
       "      <th>desc_2.0</th>\n",
       "      <th>batch</th>\n",
       "      <th>batch_sub</th>\n",
       "    </tr>\n",
       "  </thead>\n",
       "  <tbody>\n",
       "    <tr>\n",
       "      <th>Z1_F_F1_AAACCTGAGAGACGAA</th>\n",
       "      <td>0.0</td>\n",
       "      <td>963.0</td>\n",
       "      <td>347.0</td>\n",
       "      <td>963.0</td>\n",
       "      <td>1</td>\n",
       "      <td>4</td>\n",
       "      <td>14</td>\n",
       "      <td>16</td>\n",
       "      <td>19</td>\n",
       "      <td>21</td>\n",
       "      <td>sc</td>\n",
       "      <td>NaN</td>\n",
       "    </tr>\n",
       "    <tr>\n",
       "      <th>Z1_F_F1_AAACCTGAGGGCTTCC</th>\n",
       "      <td>0.0</td>\n",
       "      <td>1107.0</td>\n",
       "      <td>370.0</td>\n",
       "      <td>1107.0</td>\n",
       "      <td>1</td>\n",
       "      <td>4</td>\n",
       "      <td>14</td>\n",
       "      <td>16</td>\n",
       "      <td>19</td>\n",
       "      <td>21</td>\n",
       "      <td>sc</td>\n",
       "      <td>NaN</td>\n",
       "    </tr>\n",
       "    <tr>\n",
       "      <th>Z1_F_F1_AAACCTGCAGGACGTA</th>\n",
       "      <td>0.0</td>\n",
       "      <td>726.0</td>\n",
       "      <td>268.0</td>\n",
       "      <td>726.0</td>\n",
       "      <td>14</td>\n",
       "      <td>18</td>\n",
       "      <td>3</td>\n",
       "      <td>2</td>\n",
       "      <td>2</td>\n",
       "      <td>1</td>\n",
       "      <td>sc</td>\n",
       "      <td>NaN</td>\n",
       "    </tr>\n",
       "    <tr>\n",
       "      <th>Z1_F_F1_AAACCTGGTATTCGTG</th>\n",
       "      <td>0.0</td>\n",
       "      <td>370.0</td>\n",
       "      <td>164.0</td>\n",
       "      <td>370.0</td>\n",
       "      <td>0</td>\n",
       "      <td>0</td>\n",
       "      <td>3</td>\n",
       "      <td>2</td>\n",
       "      <td>2</td>\n",
       "      <td>2</td>\n",
       "      <td>sc</td>\n",
       "      <td>NaN</td>\n",
       "    </tr>\n",
       "    <tr>\n",
       "      <th>Z1_F_F1_AAACCTGTCAAACCAC</th>\n",
       "      <td>0.0</td>\n",
       "      <td>352.0</td>\n",
       "      <td>153.0</td>\n",
       "      <td>352.0</td>\n",
       "      <td>14</td>\n",
       "      <td>0</td>\n",
       "      <td>3</td>\n",
       "      <td>2</td>\n",
       "      <td>3</td>\n",
       "      <td>2</td>\n",
       "      <td>sc</td>\n",
       "      <td>NaN</td>\n",
       "    </tr>\n",
       "    <tr>\n",
       "      <th>...</th>\n",
       "      <td>...</td>\n",
       "      <td>...</td>\n",
       "      <td>...</td>\n",
       "      <td>...</td>\n",
       "      <td>...</td>\n",
       "      <td>...</td>\n",
       "      <td>...</td>\n",
       "      <td>...</td>\n",
       "      <td>...</td>\n",
       "      <td>...</td>\n",
       "      <td>...</td>\n",
       "      <td>...</td>\n",
       "    </tr>\n",
       "    <tr>\n",
       "      <th>TTGGATATCGTCTACG-1</th>\n",
       "      <td>NaN</td>\n",
       "      <td>NaN</td>\n",
       "      <td>NaN</td>\n",
       "      <td>NaN</td>\n",
       "      <td>NaN</td>\n",
       "      <td>NaN</td>\n",
       "      <td>NaN</td>\n",
       "      <td>19</td>\n",
       "      <td>NaN</td>\n",
       "      <td>NaN</td>\n",
       "      <td>st</td>\n",
       "      <td>st_65</td>\n",
       "    </tr>\n",
       "    <tr>\n",
       "      <th>ATATAAATGTAGCTGC-1</th>\n",
       "      <td>NaN</td>\n",
       "      <td>NaN</td>\n",
       "      <td>NaN</td>\n",
       "      <td>NaN</td>\n",
       "      <td>NaN</td>\n",
       "      <td>NaN</td>\n",
       "      <td>NaN</td>\n",
       "      <td>22</td>\n",
       "      <td>NaN</td>\n",
       "      <td>NaN</td>\n",
       "      <td>st</td>\n",
       "      <td>st_65</td>\n",
       "    </tr>\n",
       "    <tr>\n",
       "      <th>GTGATCACTAACGCCT-1</th>\n",
       "      <td>NaN</td>\n",
       "      <td>NaN</td>\n",
       "      <td>NaN</td>\n",
       "      <td>NaN</td>\n",
       "      <td>NaN</td>\n",
       "      <td>NaN</td>\n",
       "      <td>NaN</td>\n",
       "      <td>16</td>\n",
       "      <td>NaN</td>\n",
       "      <td>NaN</td>\n",
       "      <td>st</td>\n",
       "      <td>st_65</td>\n",
       "    </tr>\n",
       "    <tr>\n",
       "      <th>ACAAATCGCACCGAAT-1</th>\n",
       "      <td>NaN</td>\n",
       "      <td>NaN</td>\n",
       "      <td>NaN</td>\n",
       "      <td>NaN</td>\n",
       "      <td>NaN</td>\n",
       "      <td>NaN</td>\n",
       "      <td>NaN</td>\n",
       "      <td>22</td>\n",
       "      <td>NaN</td>\n",
       "      <td>NaN</td>\n",
       "      <td>st</td>\n",
       "      <td>st_65</td>\n",
       "    </tr>\n",
       "    <tr>\n",
       "      <th>TTGGTCACACTCGTAA-1</th>\n",
       "      <td>NaN</td>\n",
       "      <td>NaN</td>\n",
       "      <td>NaN</td>\n",
       "      <td>NaN</td>\n",
       "      <td>NaN</td>\n",
       "      <td>NaN</td>\n",
       "      <td>NaN</td>\n",
       "      <td>22</td>\n",
       "      <td>NaN</td>\n",
       "      <td>NaN</td>\n",
       "      <td>st</td>\n",
       "      <td>st_65</td>\n",
       "    </tr>\n",
       "  </tbody>\n",
       "</table>\n",
       "<p>65022 rows × 12 columns</p>\n",
       "</div>"
      ],
      "text/plain": [
       "                          orig.ident  nCount_RNA  nFeature_RNA  n_counts  \\\n",
       "Z1_F_F1_AAACCTGAGAGACGAA         0.0       963.0         347.0     963.0   \n",
       "Z1_F_F1_AAACCTGAGGGCTTCC         0.0      1107.0         370.0    1107.0   \n",
       "Z1_F_F1_AAACCTGCAGGACGTA         0.0       726.0         268.0     726.0   \n",
       "Z1_F_F1_AAACCTGGTATTCGTG         0.0       370.0         164.0     370.0   \n",
       "Z1_F_F1_AAACCTGTCAAACCAC         0.0       352.0         153.0     352.0   \n",
       "...                              ...         ...           ...       ...   \n",
       "TTGGATATCGTCTACG-1               NaN         NaN           NaN       NaN   \n",
       "ATATAAATGTAGCTGC-1               NaN         NaN           NaN       NaN   \n",
       "GTGATCACTAACGCCT-1               NaN         NaN           NaN       NaN   \n",
       "ACAAATCGCACCGAAT-1               NaN         NaN           NaN       NaN   \n",
       "TTGGTCACACTCGTAA-1               NaN         NaN           NaN       NaN   \n",
       "\n",
       "                         desc_0.2 desc_0.4 desc_0.6  desc_0.8 desc_1.4  \\\n",
       "Z1_F_F1_AAACCTGAGAGACGAA        1        4       14        16       19   \n",
       "Z1_F_F1_AAACCTGAGGGCTTCC        1        4       14        16       19   \n",
       "Z1_F_F1_AAACCTGCAGGACGTA       14       18        3         2        2   \n",
       "Z1_F_F1_AAACCTGGTATTCGTG        0        0        3         2        2   \n",
       "Z1_F_F1_AAACCTGTCAAACCAC       14        0        3         2        3   \n",
       "...                           ...      ...      ...       ...      ...   \n",
       "TTGGATATCGTCTACG-1            NaN      NaN      NaN        19      NaN   \n",
       "ATATAAATGTAGCTGC-1            NaN      NaN      NaN        22      NaN   \n",
       "GTGATCACTAACGCCT-1            NaN      NaN      NaN        16      NaN   \n",
       "ACAAATCGCACCGAAT-1            NaN      NaN      NaN        22      NaN   \n",
       "TTGGTCACACTCGTAA-1            NaN      NaN      NaN        22      NaN   \n",
       "\n",
       "                         desc_2.0 batch batch_sub  \n",
       "Z1_F_F1_AAACCTGAGAGACGAA       21    sc       NaN  \n",
       "Z1_F_F1_AAACCTGAGGGCTTCC       21    sc       NaN  \n",
       "Z1_F_F1_AAACCTGCAGGACGTA        1    sc       NaN  \n",
       "Z1_F_F1_AAACCTGGTATTCGTG        2    sc       NaN  \n",
       "Z1_F_F1_AAACCTGTCAAACCAC        2    sc       NaN  \n",
       "...                           ...   ...       ...  \n",
       "TTGGATATCGTCTACG-1            NaN    st     st_65  \n",
       "ATATAAATGTAGCTGC-1            NaN    st     st_65  \n",
       "GTGATCACTAACGCCT-1            NaN    st     st_65  \n",
       "ACAAATCGCACCGAAT-1            NaN    st     st_65  \n",
       "TTGGTCACACTCGTAA-1            NaN    st     st_65  \n",
       "\n",
       "[65022 rows x 12 columns]"
      ]
     },
     "execution_count": 50,
     "metadata": {},
     "output_type": "execute_result"
    }
   ],
   "source": [
    "traindata_combine.obs"
   ]
  },
  {
   "cell_type": "code",
   "execution_count": 51,
   "metadata": {},
   "outputs": [
    {
     "data": {
      "text/plain": [
       "<65022x2977 sparse matrix of type '<class 'numpy.float32'>'\n",
       "\twith 15555602 stored elements in Compressed Sparse Row format>"
      ]
     },
     "execution_count": 51,
     "metadata": {},
     "output_type": "execute_result"
    }
   ],
   "source": [
    "traindata_combine.X #需要转换稀疏阵为array，否则desc报错无法转换为tensor\n"
   ]
  },
  {
   "cell_type": "code",
   "execution_count": 52,
   "metadata": {},
   "outputs": [],
   "source": [
    "#保存报错TypeError: Can't implicitly convert non-string objects to strings  Above error raised while writing key 'desc_0.4' of <class 'h5py._hl.group.Group'> from /.  Above error raised while writing key 'obs' of <class 'h5py._hl.files.File'> from /.\n",
    "del traindata_combine.obs['desc_0.4']\n",
    "del traindata_combine.obs['desc_0.6']\n",
    "del traindata_combine.obs['desc_0.2']\n",
    "del traindata_combine.obs['desc_1.4']\n",
    "del traindata_combine.obs['desc_2.0']\n"
   ]
  },
  {
   "cell_type": "code",
   "execution_count": 53,
   "metadata": {},
   "outputs": [
    {
     "name": "stderr",
     "output_type": "stream",
     "text": [
      "... storing 'batch' as categorical\n",
      "... storing 'batch_sub' as categorical\n"
     ]
    }
   ],
   "source": [
    "traindata_combine.write_h5ad(\"traindata_undersample.h5ad\")"
   ]
  },
  {
   "attachments": {},
   "cell_type": "markdown",
   "metadata": {},
   "source": [
    "##validation"
   ]
  },
  {
   "cell_type": "code",
   "execution_count": 59,
   "metadata": {},
   "outputs": [
    {
     "name": "stdout",
     "output_type": "stream",
     "text": [
      "View of AnnData object with n_obs × n_vars = 250 × 2977\n",
      "    obs: 'orig.ident', 'nCount_RNA', 'nFeature_RNA', 'n_counts', 'desc_0.8', 'batch', 'nCount_Spatial', 'nFeature_Spatial'\n",
      "    var: 'features'\n",
      "    obsm: 'X_Embeded_z0.2', 'X_Embeded_z0.4', 'X_Embeded_z0.6', 'X_Embeded_z0.8', 'X_Embeded_z1.4', 'X_Embeded_z2.0', 'X_tsne', 'X_tsne0.2', 'X_tsne0.4', 'X_tsne0.6', 'X_tsne0.8', 'X_tsne1.4', 'X_tsne2.0', 'X_umap', 'X_umap0.2', 'X_umap0.4', 'X_umap0.6', 'X_umap0.8', 'X_umap1.4', 'X_umap2.0'\n",
      "1\n",
      "2\n",
      "3\n",
      "4\n",
      "5\n",
      "6\n",
      "7\n",
      "8\n",
      "9\n",
      "10\n",
      "11\n",
      "12\n",
      "13\n",
      "14\n",
      "15\n",
      "16\n",
      "17\n",
      "18\n",
      "19\n",
      "20\n",
      "21\n",
      "22\n",
      "23\n",
      "24\n",
      "25\n",
      "26\n",
      "27\n",
      "28\n",
      "29\n",
      "30\n",
      "31\n",
      "32\n",
      "33\n",
      "34\n",
      "35\n",
      "36\n",
      "37\n",
      "38\n",
      "39\n",
      "40\n",
      "41\n",
      "42\n",
      "43\n",
      "44\n",
      "45\n",
      "46\n",
      "47\n",
      "48\n",
      "49\n",
      "50\n",
      "51\n",
      "52\n",
      "53\n",
      "54\n",
      "55\n",
      "56\n",
      "57\n",
      "58\n",
      "59\n",
      "60\n",
      "61\n",
      "62\n",
      "63\n"
     ]
    },
    {
     "name": "stderr",
     "output_type": "stream",
     "text": [
      "Observation names are not unique. To make them unique, call `.obs_names_make_unique`.\n",
      "Observation names are not unique. To make them unique, call `.obs_names_make_unique`.\n",
      "Observation names are not unique. To make them unique, call `.obs_names_make_unique`.\n",
      "Observation names are not unique. To make them unique, call `.obs_names_make_unique`.\n",
      "Observation names are not unique. To make them unique, call `.obs_names_make_unique`.\n",
      "Observation names are not unique. To make them unique, call `.obs_names_make_unique`.\n",
      "Observation names are not unique. To make them unique, call `.obs_names_make_unique`.\n",
      "Observation names are not unique. To make them unique, call `.obs_names_make_unique`.\n",
      "Observation names are not unique. To make them unique, call `.obs_names_make_unique`.\n",
      "Observation names are not unique. To make them unique, call `.obs_names_make_unique`.\n",
      "Observation names are not unique. To make them unique, call `.obs_names_make_unique`.\n",
      "Observation names are not unique. To make them unique, call `.obs_names_make_unique`.\n"
     ]
    },
    {
     "name": "stdout",
     "output_type": "stream",
     "text": [
      "64\n",
      "65\n",
      "1\n",
      "2\n",
      "3\n",
      "4\n",
      "5\n",
      "6\n",
      "7\n",
      "8\n",
      "9\n",
      "10\n",
      "11\n",
      "12\n",
      "13\n"
     ]
    },
    {
     "name": "stderr",
     "output_type": "stream",
     "text": [
      "Observation names are not unique. To make them unique, call `.obs_names_make_unique`.\n",
      "Observation names are not unique. To make them unique, call `.obs_names_make_unique`.\n",
      "Observation names are not unique. To make them unique, call `.obs_names_make_unique`.\n",
      "Observation names are not unique. To make them unique, call `.obs_names_make_unique`.\n",
      "Observation names are not unique. To make them unique, call `.obs_names_make_unique`.\n",
      "Observation names are not unique. To make them unique, call `.obs_names_make_unique`.\n",
      "Observation names are not unique. To make them unique, call `.obs_names_make_unique`.\n",
      "Observation names are not unique. To make them unique, call `.obs_names_make_unique`.\n"
     ]
    },
    {
     "name": "stdout",
     "output_type": "stream",
     "text": [
      "14\n",
      "15\n",
      "16\n",
      "17\n",
      "18\n",
      "19\n",
      "20\n",
      "21\n"
     ]
    },
    {
     "name": "stderr",
     "output_type": "stream",
     "text": [
      "Observation names are not unique. To make them unique, call `.obs_names_make_unique`.\n",
      "Observation names are not unique. To make them unique, call `.obs_names_make_unique`.\n",
      "Observation names are not unique. To make them unique, call `.obs_names_make_unique`.\n",
      "Observation names are not unique. To make them unique, call `.obs_names_make_unique`.\n",
      "Observation names are not unique. To make them unique, call `.obs_names_make_unique`.\n",
      "Observation names are not unique. To make them unique, call `.obs_names_make_unique`.\n"
     ]
    },
    {
     "name": "stdout",
     "output_type": "stream",
     "text": [
      "22\n",
      "23\n",
      "24\n",
      "25\n",
      "26\n",
      "27\n"
     ]
    },
    {
     "name": "stderr",
     "output_type": "stream",
     "text": [
      "Observation names are not unique. To make them unique, call `.obs_names_make_unique`.\n",
      "Observation names are not unique. To make them unique, call `.obs_names_make_unique`.\n",
      "Observation names are not unique. To make them unique, call `.obs_names_make_unique`.\n",
      "Observation names are not unique. To make them unique, call `.obs_names_make_unique`.\n",
      "Observation names are not unique. To make them unique, call `.obs_names_make_unique`.\n"
     ]
    },
    {
     "name": "stdout",
     "output_type": "stream",
     "text": [
      "28\n",
      "29\n",
      "30\n",
      "31\n",
      "32\n"
     ]
    },
    {
     "name": "stderr",
     "output_type": "stream",
     "text": [
      "Observation names are not unique. To make them unique, call `.obs_names_make_unique`.\n",
      "Observation names are not unique. To make them unique, call `.obs_names_make_unique`.\n",
      "Observation names are not unique. To make them unique, call `.obs_names_make_unique`.\n",
      "Observation names are not unique. To make them unique, call `.obs_names_make_unique`.\n",
      "Observation names are not unique. To make them unique, call `.obs_names_make_unique`.\n"
     ]
    },
    {
     "name": "stdout",
     "output_type": "stream",
     "text": [
      "33\n",
      "34\n",
      "35\n",
      "36\n",
      "37\n"
     ]
    },
    {
     "name": "stderr",
     "output_type": "stream",
     "text": [
      "Observation names are not unique. To make them unique, call `.obs_names_make_unique`.\n",
      "Observation names are not unique. To make them unique, call `.obs_names_make_unique`.\n",
      "Observation names are not unique. To make them unique, call `.obs_names_make_unique`.\n",
      "Observation names are not unique. To make them unique, call `.obs_names_make_unique`.\n"
     ]
    },
    {
     "name": "stdout",
     "output_type": "stream",
     "text": [
      "38\n",
      "39\n",
      "40\n",
      "41\n"
     ]
    },
    {
     "name": "stderr",
     "output_type": "stream",
     "text": [
      "Observation names are not unique. To make them unique, call `.obs_names_make_unique`.\n",
      "Observation names are not unique. To make them unique, call `.obs_names_make_unique`.\n",
      "Observation names are not unique. To make them unique, call `.obs_names_make_unique`.\n",
      "Observation names are not unique. To make them unique, call `.obs_names_make_unique`.\n"
     ]
    },
    {
     "name": "stdout",
     "output_type": "stream",
     "text": [
      "42\n",
      "43\n",
      "44\n",
      "45\n"
     ]
    },
    {
     "name": "stderr",
     "output_type": "stream",
     "text": [
      "Observation names are not unique. To make them unique, call `.obs_names_make_unique`.\n",
      "Observation names are not unique. To make them unique, call `.obs_names_make_unique`.\n",
      "Observation names are not unique. To make them unique, call `.obs_names_make_unique`.\n",
      "Observation names are not unique. To make them unique, call `.obs_names_make_unique`.\n"
     ]
    },
    {
     "name": "stdout",
     "output_type": "stream",
     "text": [
      "46\n",
      "47\n",
      "48\n",
      "49\n"
     ]
    },
    {
     "name": "stderr",
     "output_type": "stream",
     "text": [
      "Observation names are not unique. To make them unique, call `.obs_names_make_unique`.\n",
      "Observation names are not unique. To make them unique, call `.obs_names_make_unique`.\n",
      "Observation names are not unique. To make them unique, call `.obs_names_make_unique`.\n"
     ]
    },
    {
     "name": "stdout",
     "output_type": "stream",
     "text": [
      "50\n",
      "51\n",
      "52\n"
     ]
    },
    {
     "name": "stderr",
     "output_type": "stream",
     "text": [
      "Observation names are not unique. To make them unique, call `.obs_names_make_unique`.\n",
      "Observation names are not unique. To make them unique, call `.obs_names_make_unique`.\n",
      "Observation names are not unique. To make them unique, call `.obs_names_make_unique`.\n"
     ]
    },
    {
     "name": "stdout",
     "output_type": "stream",
     "text": [
      "53\n",
      "54\n",
      "55\n"
     ]
    },
    {
     "name": "stderr",
     "output_type": "stream",
     "text": [
      "Observation names are not unique. To make them unique, call `.obs_names_make_unique`.\n",
      "Observation names are not unique. To make them unique, call `.obs_names_make_unique`.\n",
      "Observation names are not unique. To make them unique, call `.obs_names_make_unique`.\n"
     ]
    },
    {
     "name": "stdout",
     "output_type": "stream",
     "text": [
      "56\n",
      "57\n",
      "58\n"
     ]
    },
    {
     "name": "stderr",
     "output_type": "stream",
     "text": [
      "Observation names are not unique. To make them unique, call `.obs_names_make_unique`.\n",
      "Observation names are not unique. To make them unique, call `.obs_names_make_unique`.\n",
      "Observation names are not unique. To make them unique, call `.obs_names_make_unique`.\n"
     ]
    },
    {
     "name": "stdout",
     "output_type": "stream",
     "text": [
      "59\n",
      "60\n",
      "61\n"
     ]
    },
    {
     "name": "stderr",
     "output_type": "stream",
     "text": [
      "Observation names are not unique. To make them unique, call `.obs_names_make_unique`.\n",
      "Observation names are not unique. To make them unique, call `.obs_names_make_unique`.\n",
      "Observation names are not unique. To make them unique, call `.obs_names_make_unique`.\n"
     ]
    },
    {
     "name": "stdout",
     "output_type": "stream",
     "text": [
      "62\n",
      "63\n",
      "64\n"
     ]
    },
    {
     "name": "stderr",
     "output_type": "stream",
     "text": [
      "Observation names are not unique. To make them unique, call `.obs_names_make_unique`.\n"
     ]
    }
   ],
   "source": [
    "##validation\n",
    "#desc_0.8\n",
    "validationsubset_sc=validation[validation.obs['batch']=='sc']\n",
    "validationsubset_st=validation[validation.obs['batch']=='st']\n",
    "print(validationsubset_st)\n",
    "lower_sample_data_1=lower_sample_data(pd.DataFrame(validationsubset_st.X.todense()), alpha)\n",
    "lower_sample_data_1\n",
    "lower_sample_data_1.index=validationsubset_st.obs_names\n",
    "lower_sample_data_1.index\n",
    "lower_sample_data_1.columns=validationsubset_st.var_names\n",
    "lower_sample_data_1.columns\n",
    "validation_st=sc.AnnData(lower_sample_data_1)\n",
    "validation_st\n",
    "validation_st.obs[\"batch\"]=\"st\"\n",
    "###循环抽样sc/st次\n",
    "names = locals()\n",
    "for i in range(1,int(validationsubset_sc.shape[0]/validationsubset_st.shape[0])+1):\n",
    "    print(i)\n",
    "    names['lower_sample_data_%s'%i]=lower_sample_data(pd.DataFrame(validationsubset_st.X.todense()), alpha)\n",
    "    names['lower_sample_data_%s'%i].index=validationsubset_st.obs_names\n",
    "    names['lower_sample_data_%s'%i].columns=validationsubset_st.var_names\n",
    "    names['validation_st_%s'%i]=sc.AnnData(lower_sample_data_1)\n",
    "    names['validation_st_%s'%i].obs[\"batch\"]=\"st\"\n",
    "    names['validation_st_%s'%i].obs[\"desc_0.8\"]=validationsubset_st.obs['desc_0.8']\n",
    "    names['validation_st_%s'%i].obs[\"batch_sub\"]='st_%s'%i\n",
    "\n",
    "import anndata as ad\n",
    "names = locals()\n",
    "validation_combine_1=validation_st_1\n",
    "for i in range(1,int(validationsubset_sc.shape[0]/validationsubset_st.shape[0])):\n",
    "    print(i)\n",
    "    names['validation_combine_%s'%(i+1)]=ad.concat([names['validation_combine_%s'%i],names['validation_st_%s'%(i+1)]], join=\"outer\")"
   ]
  },
  {
   "cell_type": "code",
   "execution_count": 60,
   "metadata": {},
   "outputs": [
    {
     "data": {
      "text/plain": [
       "65"
      ]
     },
     "execution_count": 60,
     "metadata": {},
     "output_type": "execute_result"
    }
   ],
   "source": [
    "a=int(validationsubset_sc.shape[0]/validationsubset_st.shape[0])\n",
    "a"
   ]
  },
  {
   "cell_type": "code",
   "execution_count": 56,
   "metadata": {},
   "outputs": [
    {
     "data": {
      "text/plain": [
       "AnnData object with n_obs × n_vars = 16250 × 2977\n",
       "    obs: 'batch', 'desc_0.8', 'batch_sub'"
      ]
     },
     "execution_count": 56,
     "metadata": {},
     "output_type": "execute_result"
    }
   ],
   "source": [
    "validation_combine_65"
   ]
  },
  {
   "cell_type": "code",
   "execution_count": 57,
   "metadata": {},
   "outputs": [
    {
     "name": "stderr",
     "output_type": "stream",
     "text": [
      "... storing 'batch' as categorical\n",
      "... storing 'batch_sub' as categorical\n"
     ]
    }
   ],
   "source": [
    "validation_combine_65.write_h5ad(\"validation_undersample_st.h5ad\")"
   ]
  },
  {
   "cell_type": "code",
   "execution_count": 58,
   "metadata": {},
   "outputs": [
    {
     "name": "stderr",
     "output_type": "stream",
     "text": [
      "Observation names are not unique. To make them unique, call `.obs_names_make_unique`.\n",
      "/home/huggs/anaconda3/envs/SCST/lib/python3.6/site-packages/anndata/_core/merge.py:918: UserWarning: Only some AnnData objects have `.raw` attribute, not concatenating `.raw` attributes.\n",
      "  UserWarning,\n",
      "Observation names are not unique. To make them unique, call `.obs_names_make_unique`.\n"
     ]
    },
    {
     "data": {
      "text/plain": [
       "AnnData object with n_obs × n_vars = 56962 × 2977\n",
       "    obs: 'orig.ident', 'nCount_RNA', 'nFeature_RNA', 'n_counts', 'desc_0.2', 'desc_0.4', 'desc_0.6', 'desc_0.8', 'desc_1.4', 'desc_2.0', 'batch', 'batch_sub'\n",
       "    obsm: 'X_Embeded_z0.2', 'X_Embeded_z0.4', 'X_Embeded_z0.6', 'X_Embeded_z0.8', 'X_Embeded_z1.4', 'X_Embeded_z2.0', 'X_tsne', 'X_tsne0.2', 'X_tsne0.4', 'X_tsne0.6', 'X_tsne0.8', 'X_tsne1.4', 'X_tsne2.0', 'X_umap', 'X_umap0.2', 'X_umap0.4', 'X_umap0.6', 'X_umap0.8', 'X_umap1.4', 'X_umap2.0'"
      ]
     },
     "execution_count": 58,
     "metadata": {},
     "output_type": "execute_result"
    }
   ],
   "source": [
    "validation_combine_65=sc.read_h5ad(\"validation_undersample_st.h5ad\")\n",
    "validation_combine=ad.concat([sc_combine,validation_combine_65],join=\"outer\")\n",
    "validation_combine"
   ]
  },
  {
   "cell_type": "code",
   "execution_count": 61,
   "metadata": {},
   "outputs": [],
   "source": [
    "del validation_combine.obs['desc_0.4']\n",
    "del validation_combine.obs['desc_0.6']\n",
    "del validation_combine.obs['desc_0.2']\n",
    "del validation_combine.obs['desc_1.4']\n",
    "del validation_combine.obs['desc_2.0']\n"
   ]
  },
  {
   "cell_type": "code",
   "execution_count": 62,
   "metadata": {},
   "outputs": [
    {
     "name": "stderr",
     "output_type": "stream",
     "text": [
      "... storing 'batch' as categorical\n",
      "... storing 'batch_sub' as categorical\n"
     ]
    }
   ],
   "source": [
    "validation_combine.write_h5ad(\"validation_undersample.h5ad\")"
   ]
  },
  {
   "cell_type": "code",
   "execution_count": null,
   "metadata": {},
   "outputs": [],
   "source": [
    "###########################################################"
   ]
  },
  {
   "cell_type": "code",
   "execution_count": null,
   "metadata": {},
   "outputs": [
    {
     "data": {
      "text/plain": [
       "array([1, 1, 0, ..., 0, 1, 1])"
      ]
     },
     "execution_count": 3,
     "metadata": {},
     "output_type": "execute_result"
    }
   ],
   "source": [
    "#随机数列\n",
    "percent=np.random.choice([0,1], size=(st.shape[1]), replace=True, p=[0.4212802,0.5787198])\n",
    "percent"
   ]
  },
  {
   "cell_type": "code",
   "execution_count": null,
   "metadata": {},
   "outputs": [
    {
     "data": {
      "text/plain": [
       "(31053,)"
      ]
     },
     "execution_count": 17,
     "metadata": {},
     "output_type": "execute_result"
    }
   ],
   "source": [
    "percent.shape"
   ]
  },
  {
   "cell_type": "code",
   "execution_count": null,
   "metadata": {},
   "outputs": [
    {
     "data": {
      "text/plain": [
       "Index(['Xkr4', 'Gm1992', 'Gm37381', 'Rp1', 'Sox17', 'Gm37323', 'Mrpl15',\n",
       "       'Lypla1', 'Gm37988', 'Tcea1',\n",
       "       ...\n",
       "       'AC125149.1', 'AC125149.2', 'AC125149.4', 'AC234645.1', 'AC168977.2',\n",
       "       'AC168977.1', 'AC149090.1', 'CAAA01118383.1', 'Vmn2r122',\n",
       "       'CAAA01147332.1'],\n",
       "      dtype='object', length=31053)"
      ]
     },
     "execution_count": 24,
     "metadata": {},
     "output_type": "execute_result"
    }
   ],
   "source": [
    "st.var.index"
   ]
  },
  {
   "cell_type": "code",
   "execution_count": null,
   "metadata": {},
   "outputs": [
    {
     "data": {
      "text/plain": [
       "scipy.sparse.csr.csr_matrix"
      ]
     },
     "execution_count": 31,
     "metadata": {},
     "output_type": "execute_result"
    }
   ],
   "source": [
    "type(st.X)"
   ]
  },
  {
   "cell_type": "code",
   "execution_count": null,
   "metadata": {},
   "outputs": [],
   "source": [
    "#对每个spot，按概率随机表达一定个数的genes"
   ]
  },
  {
   "cell_type": "code",
   "execution_count": null,
   "metadata": {},
   "outputs": [],
   "source": [
    "def lower_sample_data(rowdata, alpha):\n",
    "    \"\"\"\n",
    "    将矩阵中的每个元素有概率 p 保留原值，有概率 1-p 变成 0\n",
    "    \"\"\"\n",
    "    #创建一个与原始矩阵大小相同的随机矩阵\n",
    "    random_matrix=np.random.choice([0,1], size=(st.shape[0],st.shape[1]), replace=True, p=[1-alpha,alpha])\n",
    "    # 将原始矩阵中的元素与随机矩阵中的元素按位相乘\n",
    "    result = rowdata * random_matrix\n",
    "    return result\n"
   ]
  },
  {
   "cell_type": "code",
   "execution_count": null,
   "metadata": {},
   "outputs": [
    {
     "data": {
      "text/plain": [
       "matrix([[2., 0., 0., ..., 0., 0., 0.],\n",
       "        [0., 0., 0., ..., 2., 0., 0.],\n",
       "        [0., 0., 0., ..., 1., 0., 0.],\n",
       "        ...,\n",
       "        [0., 0., 0., ..., 0., 0., 0.],\n",
       "        [1., 0., 0., ..., 0., 0., 0.],\n",
       "        [0., 0., 0., ..., 0., 0., 0.]], dtype=float32)"
      ]
     },
     "execution_count": 7,
     "metadata": {},
     "output_type": "execute_result"
    }
   ],
   "source": [
    "st.X.todense()"
   ]
  },
  {
   "cell_type": "code",
   "execution_count": null,
   "metadata": {},
   "outputs": [
    {
     "data": {
      "text/html": [
       "<div>\n",
       "<style scoped>\n",
       "    .dataframe tbody tr th:only-of-type {\n",
       "        vertical-align: middle;\n",
       "    }\n",
       "\n",
       "    .dataframe tbody tr th {\n",
       "        vertical-align: top;\n",
       "    }\n",
       "\n",
       "    .dataframe thead th {\n",
       "        text-align: right;\n",
       "    }\n",
       "</style>\n",
       "<table border=\"1\" class=\"dataframe\">\n",
       "  <thead>\n",
       "    <tr style=\"text-align: right;\">\n",
       "      <th></th>\n",
       "      <th>0</th>\n",
       "      <th>1</th>\n",
       "      <th>2</th>\n",
       "      <th>3</th>\n",
       "      <th>4</th>\n",
       "      <th>5</th>\n",
       "      <th>6</th>\n",
       "      <th>7</th>\n",
       "      <th>8</th>\n",
       "      <th>9</th>\n",
       "      <th>...</th>\n",
       "      <th>31043</th>\n",
       "      <th>31044</th>\n",
       "      <th>31045</th>\n",
       "      <th>31046</th>\n",
       "      <th>31047</th>\n",
       "      <th>31048</th>\n",
       "      <th>31049</th>\n",
       "      <th>31050</th>\n",
       "      <th>31051</th>\n",
       "      <th>31052</th>\n",
       "    </tr>\n",
       "  </thead>\n",
       "  <tbody>\n",
       "    <tr>\n",
       "      <th>0</th>\n",
       "      <td>2.0</td>\n",
       "      <td>0.0</td>\n",
       "      <td>0.0</td>\n",
       "      <td>0.0</td>\n",
       "      <td>0.0</td>\n",
       "      <td>0.0</td>\n",
       "      <td>0.0</td>\n",
       "      <td>0.0</td>\n",
       "      <td>0.0</td>\n",
       "      <td>0.0</td>\n",
       "      <td>...</td>\n",
       "      <td>0.0</td>\n",
       "      <td>0.0</td>\n",
       "      <td>0.0</td>\n",
       "      <td>0.0</td>\n",
       "      <td>0.0</td>\n",
       "      <td>0.0</td>\n",
       "      <td>2.0</td>\n",
       "      <td>0.0</td>\n",
       "      <td>0.0</td>\n",
       "      <td>0.0</td>\n",
       "    </tr>\n",
       "    <tr>\n",
       "      <th>1</th>\n",
       "      <td>0.0</td>\n",
       "      <td>0.0</td>\n",
       "      <td>0.0</td>\n",
       "      <td>0.0</td>\n",
       "      <td>0.0</td>\n",
       "      <td>0.0</td>\n",
       "      <td>0.0</td>\n",
       "      <td>0.0</td>\n",
       "      <td>0.0</td>\n",
       "      <td>0.0</td>\n",
       "      <td>...</td>\n",
       "      <td>0.0</td>\n",
       "      <td>0.0</td>\n",
       "      <td>0.0</td>\n",
       "      <td>0.0</td>\n",
       "      <td>0.0</td>\n",
       "      <td>0.0</td>\n",
       "      <td>0.0</td>\n",
       "      <td>0.0</td>\n",
       "      <td>0.0</td>\n",
       "      <td>0.0</td>\n",
       "    </tr>\n",
       "    <tr>\n",
       "      <th>2</th>\n",
       "      <td>0.0</td>\n",
       "      <td>0.0</td>\n",
       "      <td>0.0</td>\n",
       "      <td>0.0</td>\n",
       "      <td>0.0</td>\n",
       "      <td>0.0</td>\n",
       "      <td>0.0</td>\n",
       "      <td>0.0</td>\n",
       "      <td>0.0</td>\n",
       "      <td>0.0</td>\n",
       "      <td>...</td>\n",
       "      <td>0.0</td>\n",
       "      <td>0.0</td>\n",
       "      <td>0.0</td>\n",
       "      <td>0.0</td>\n",
       "      <td>0.0</td>\n",
       "      <td>0.0</td>\n",
       "      <td>1.0</td>\n",
       "      <td>1.0</td>\n",
       "      <td>0.0</td>\n",
       "      <td>0.0</td>\n",
       "    </tr>\n",
       "    <tr>\n",
       "      <th>3</th>\n",
       "      <td>0.0</td>\n",
       "      <td>0.0</td>\n",
       "      <td>0.0</td>\n",
       "      <td>0.0</td>\n",
       "      <td>0.0</td>\n",
       "      <td>0.0</td>\n",
       "      <td>0.0</td>\n",
       "      <td>0.0</td>\n",
       "      <td>0.0</td>\n",
       "      <td>0.0</td>\n",
       "      <td>...</td>\n",
       "      <td>0.0</td>\n",
       "      <td>0.0</td>\n",
       "      <td>0.0</td>\n",
       "      <td>0.0</td>\n",
       "      <td>0.0</td>\n",
       "      <td>0.0</td>\n",
       "      <td>0.0</td>\n",
       "      <td>0.0</td>\n",
       "      <td>0.0</td>\n",
       "      <td>0.0</td>\n",
       "    </tr>\n",
       "    <tr>\n",
       "      <th>4</th>\n",
       "      <td>0.0</td>\n",
       "      <td>0.0</td>\n",
       "      <td>0.0</td>\n",
       "      <td>0.0</td>\n",
       "      <td>0.0</td>\n",
       "      <td>0.0</td>\n",
       "      <td>0.0</td>\n",
       "      <td>0.0</td>\n",
       "      <td>0.0</td>\n",
       "      <td>5.0</td>\n",
       "      <td>...</td>\n",
       "      <td>0.0</td>\n",
       "      <td>0.0</td>\n",
       "      <td>0.0</td>\n",
       "      <td>0.0</td>\n",
       "      <td>0.0</td>\n",
       "      <td>0.0</td>\n",
       "      <td>0.0</td>\n",
       "      <td>0.0</td>\n",
       "      <td>0.0</td>\n",
       "      <td>0.0</td>\n",
       "    </tr>\n",
       "    <tr>\n",
       "      <th>...</th>\n",
       "      <td>...</td>\n",
       "      <td>...</td>\n",
       "      <td>...</td>\n",
       "      <td>...</td>\n",
       "      <td>...</td>\n",
       "      <td>...</td>\n",
       "      <td>...</td>\n",
       "      <td>...</td>\n",
       "      <td>...</td>\n",
       "      <td>...</td>\n",
       "      <td>...</td>\n",
       "      <td>...</td>\n",
       "      <td>...</td>\n",
       "      <td>...</td>\n",
       "      <td>...</td>\n",
       "      <td>...</td>\n",
       "      <td>...</td>\n",
       "      <td>...</td>\n",
       "      <td>...</td>\n",
       "      <td>...</td>\n",
       "      <td>...</td>\n",
       "    </tr>\n",
       "    <tr>\n",
       "      <th>2982</th>\n",
       "      <td>0.0</td>\n",
       "      <td>0.0</td>\n",
       "      <td>0.0</td>\n",
       "      <td>0.0</td>\n",
       "      <td>0.0</td>\n",
       "      <td>0.0</td>\n",
       "      <td>0.0</td>\n",
       "      <td>0.0</td>\n",
       "      <td>0.0</td>\n",
       "      <td>2.0</td>\n",
       "      <td>...</td>\n",
       "      <td>0.0</td>\n",
       "      <td>0.0</td>\n",
       "      <td>0.0</td>\n",
       "      <td>0.0</td>\n",
       "      <td>0.0</td>\n",
       "      <td>0.0</td>\n",
       "      <td>6.0</td>\n",
       "      <td>0.0</td>\n",
       "      <td>0.0</td>\n",
       "      <td>0.0</td>\n",
       "    </tr>\n",
       "    <tr>\n",
       "      <th>2983</th>\n",
       "      <td>0.0</td>\n",
       "      <td>0.0</td>\n",
       "      <td>0.0</td>\n",
       "      <td>0.0</td>\n",
       "      <td>0.0</td>\n",
       "      <td>0.0</td>\n",
       "      <td>1.0</td>\n",
       "      <td>0.0</td>\n",
       "      <td>0.0</td>\n",
       "      <td>0.0</td>\n",
       "      <td>...</td>\n",
       "      <td>0.0</td>\n",
       "      <td>0.0</td>\n",
       "      <td>0.0</td>\n",
       "      <td>0.0</td>\n",
       "      <td>0.0</td>\n",
       "      <td>0.0</td>\n",
       "      <td>0.0</td>\n",
       "      <td>0.0</td>\n",
       "      <td>0.0</td>\n",
       "      <td>0.0</td>\n",
       "    </tr>\n",
       "    <tr>\n",
       "      <th>2984</th>\n",
       "      <td>0.0</td>\n",
       "      <td>0.0</td>\n",
       "      <td>0.0</td>\n",
       "      <td>0.0</td>\n",
       "      <td>0.0</td>\n",
       "      <td>0.0</td>\n",
       "      <td>0.0</td>\n",
       "      <td>0.0</td>\n",
       "      <td>0.0</td>\n",
       "      <td>0.0</td>\n",
       "      <td>...</td>\n",
       "      <td>0.0</td>\n",
       "      <td>0.0</td>\n",
       "      <td>0.0</td>\n",
       "      <td>0.0</td>\n",
       "      <td>0.0</td>\n",
       "      <td>0.0</td>\n",
       "      <td>0.0</td>\n",
       "      <td>0.0</td>\n",
       "      <td>0.0</td>\n",
       "      <td>0.0</td>\n",
       "    </tr>\n",
       "    <tr>\n",
       "      <th>2985</th>\n",
       "      <td>1.0</td>\n",
       "      <td>0.0</td>\n",
       "      <td>0.0</td>\n",
       "      <td>0.0</td>\n",
       "      <td>0.0</td>\n",
       "      <td>0.0</td>\n",
       "      <td>2.0</td>\n",
       "      <td>0.0</td>\n",
       "      <td>0.0</td>\n",
       "      <td>0.0</td>\n",
       "      <td>...</td>\n",
       "      <td>0.0</td>\n",
       "      <td>0.0</td>\n",
       "      <td>0.0</td>\n",
       "      <td>0.0</td>\n",
       "      <td>0.0</td>\n",
       "      <td>0.0</td>\n",
       "      <td>0.0</td>\n",
       "      <td>0.0</td>\n",
       "      <td>0.0</td>\n",
       "      <td>0.0</td>\n",
       "    </tr>\n",
       "    <tr>\n",
       "      <th>2986</th>\n",
       "      <td>0.0</td>\n",
       "      <td>0.0</td>\n",
       "      <td>0.0</td>\n",
       "      <td>0.0</td>\n",
       "      <td>0.0</td>\n",
       "      <td>0.0</td>\n",
       "      <td>0.0</td>\n",
       "      <td>0.0</td>\n",
       "      <td>0.0</td>\n",
       "      <td>0.0</td>\n",
       "      <td>...</td>\n",
       "      <td>0.0</td>\n",
       "      <td>0.0</td>\n",
       "      <td>0.0</td>\n",
       "      <td>0.0</td>\n",
       "      <td>0.0</td>\n",
       "      <td>0.0</td>\n",
       "      <td>0.0</td>\n",
       "      <td>0.0</td>\n",
       "      <td>0.0</td>\n",
       "      <td>0.0</td>\n",
       "    </tr>\n",
       "  </tbody>\n",
       "</table>\n",
       "<p>2987 rows × 31053 columns</p>\n",
       "</div>"
      ],
      "text/plain": [
       "      0      1      2      3      4      5      6      7      8      9      \\\n",
       "0       2.0    0.0    0.0    0.0    0.0    0.0    0.0    0.0    0.0    0.0   \n",
       "1       0.0    0.0    0.0    0.0    0.0    0.0    0.0    0.0    0.0    0.0   \n",
       "2       0.0    0.0    0.0    0.0    0.0    0.0    0.0    0.0    0.0    0.0   \n",
       "3       0.0    0.0    0.0    0.0    0.0    0.0    0.0    0.0    0.0    0.0   \n",
       "4       0.0    0.0    0.0    0.0    0.0    0.0    0.0    0.0    0.0    5.0   \n",
       "...     ...    ...    ...    ...    ...    ...    ...    ...    ...    ...   \n",
       "2982    0.0    0.0    0.0    0.0    0.0    0.0    0.0    0.0    0.0    2.0   \n",
       "2983    0.0    0.0    0.0    0.0    0.0    0.0    1.0    0.0    0.0    0.0   \n",
       "2984    0.0    0.0    0.0    0.0    0.0    0.0    0.0    0.0    0.0    0.0   \n",
       "2985    1.0    0.0    0.0    0.0    0.0    0.0    2.0    0.0    0.0    0.0   \n",
       "2986    0.0    0.0    0.0    0.0    0.0    0.0    0.0    0.0    0.0    0.0   \n",
       "\n",
       "      ...  31043  31044  31045  31046  31047  31048  31049  31050  31051  \\\n",
       "0     ...    0.0    0.0    0.0    0.0    0.0    0.0    2.0    0.0    0.0   \n",
       "1     ...    0.0    0.0    0.0    0.0    0.0    0.0    0.0    0.0    0.0   \n",
       "2     ...    0.0    0.0    0.0    0.0    0.0    0.0    1.0    1.0    0.0   \n",
       "3     ...    0.0    0.0    0.0    0.0    0.0    0.0    0.0    0.0    0.0   \n",
       "4     ...    0.0    0.0    0.0    0.0    0.0    0.0    0.0    0.0    0.0   \n",
       "...   ...    ...    ...    ...    ...    ...    ...    ...    ...    ...   \n",
       "2982  ...    0.0    0.0    0.0    0.0    0.0    0.0    6.0    0.0    0.0   \n",
       "2983  ...    0.0    0.0    0.0    0.0    0.0    0.0    0.0    0.0    0.0   \n",
       "2984  ...    0.0    0.0    0.0    0.0    0.0    0.0    0.0    0.0    0.0   \n",
       "2985  ...    0.0    0.0    0.0    0.0    0.0    0.0    0.0    0.0    0.0   \n",
       "2986  ...    0.0    0.0    0.0    0.0    0.0    0.0    0.0    0.0    0.0   \n",
       "\n",
       "      31052  \n",
       "0       0.0  \n",
       "1       0.0  \n",
       "2       0.0  \n",
       "3       0.0  \n",
       "4       0.0  \n",
       "...     ...  \n",
       "2982    0.0  \n",
       "2983    0.0  \n",
       "2984    0.0  \n",
       "2985    0.0  \n",
       "2986    0.0  \n",
       "\n",
       "[2987 rows x 31053 columns]"
      ]
     },
     "execution_count": 8,
     "metadata": {},
     "output_type": "execute_result"
    }
   ],
   "source": [
    "lower_sample_data(pd.DataFrame(st.X.todense()), 0.5)"
   ]
  },
  {
   "cell_type": "code",
   "execution_count": null,
   "metadata": {},
   "outputs": [],
   "source": [
    "#############################################################################"
   ]
  },
  {
   "cell_type": "code",
   "execution_count": null,
   "metadata": {},
   "outputs": [],
   "source": [
    "import random\n",
    "def lower_sample_data(rowdata, alpha):\n",
    "    newX=pd.DataFrame()\n",
    "    #newX=csr_matrix\n",
    "    #for index, row in rowdata.iterrows():\n",
    "    #for x in range(len(row)):\n",
    "    for x in rowdata:\n",
    "            if random.random() < alpha:\n",
    "                print(x)\n",
    "                newX.append(x)\n",
    "            else:\n",
    "                newX=0\n",
    "        return newX\n"
   ]
  }
 ],
 "metadata": {
  "kernelspec": {
   "display_name": "SCST",
   "language": "python",
   "name": "python3"
  },
  "language_info": {
   "codemirror_mode": {
    "name": "ipython",
    "version": 3
   },
   "file_extension": ".py",
   "mimetype": "text/x-python",
   "name": "python",
   "nbconvert_exporter": "python",
   "pygments_lexer": "ipython3",
   "version": "3.6.13"
  },
  "orig_nbformat": 4,
  "vscode": {
   "interpreter": {
    "hash": "151f94788e731f8c229ca24193df9d5adcbdaf062dccabbf76562f05b82a1ddd"
   }
  }
 },
 "nbformat": 4,
 "nbformat_minor": 2
}
