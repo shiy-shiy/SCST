{
 "cells": [
  {
   "cell_type": "code",
   "execution_count": 1,
   "metadata": {},
   "outputs": [],
   "source": [
    "import sys\n",
    "import scanpy as sc\n",
    "import anndata\n",
    "import pandas as pd\n",
    "import numpy as np\n",
    "import os\n",
    "from scipy.io import mmwrite\n",
    "import desc\n",
    "import scipy\n",
    "import anndata as ad"
   ]
  },
  {
   "cell_type": "code",
   "execution_count": 2,
   "metadata": {},
   "outputs": [
    {
     "data": {
      "text/plain": [
       "AnnData object with n_obs × n_vars = 40712 × 2977\n",
       "    obs: 'orig.ident', 'nCount_RNA', 'nFeature_RNA', 'n_counts', 'desc_0.2', 'desc_0.4', 'desc_0.6', 'desc_0.8', 'desc_1.4', 'desc_2.0', 'batch'\n",
       "    var: 'features', 'mean', 'std'\n",
       "    uns: 'prob_matrix0.2', 'prob_matrix0.4', 'prob_matrix0.6', 'prob_matrix0.8', 'prob_matrix1.4', 'prob_matrix2.0', 'umap'\n",
       "    obsm: 'X_Embeded_z0.2', 'X_Embeded_z0.4', 'X_Embeded_z0.6', 'X_Embeded_z0.8', 'X_Embeded_z1.4', 'X_Embeded_z2.0', 'X_tsne', 'X_tsne0.2', 'X_tsne0.4', 'X_tsne0.6', 'X_tsne0.8', 'X_tsne1.4', 'X_tsne2.0', 'X_umap', 'X_umap0.2', 'X_umap0.4', 'X_umap0.6', 'X_umap0.8', 'X_umap1.4', 'X_umap2.0'\n",
       "    obsp: 'connectivities', 'distances'"
      ]
     },
     "execution_count": 2,
     "metadata": {},
     "output_type": "execute_result"
    }
   ],
   "source": [
    "sc_combine=sc.read_h5ad(\"/home/huggs/shiyi/SCST/RCTD/RCTD/predata/celltrek_kidney/mymodel/2_desc/2_desc_222copy/sc_desc.h5ad\")\n",
    "sc_combine.X=sc_combine.raw.X\n",
    "sc_combine.obs[\"batch\"]=\"sc\"\n",
    "sc_combine"
   ]
  },
  {
   "cell_type": "code",
   "execution_count": 3,
   "metadata": {},
   "outputs": [
    {
     "data": {
      "text/plain": [
       "AnnData object with n_obs × n_vars = 1438 × 2977\n",
       "    obs: 'orig.ident', 'nCount_Spatial', 'nFeature_Spatial', 'batch'\n",
       "    var: 'features'"
      ]
     },
     "execution_count": 3,
     "metadata": {},
     "output_type": "execute_result"
    }
   ],
   "source": [
    "st_combine=sc.read_h5ad(\"/home/huggs/shiyi/SCST/RCTD/RCTD/predata/celltrek_kidney/mymodel/1_predata/st_combine.h5ad\")\n",
    "st_combine.obs[\"batch\"]=\"st\"\n",
    "st_combine"
   ]
  },
  {
   "cell_type": "code",
   "execution_count": 4,
   "metadata": {},
   "outputs": [
    {
     "data": {
      "text/plain": [
       "AnnData object with n_obs × n_vars = 42150 × 2977\n",
       "    obs: 'orig.ident', 'batch'\n",
       "    var: 'features'"
      ]
     },
     "execution_count": 4,
     "metadata": {},
     "output_type": "execute_result"
    }
   ],
   "source": [
    "#合并ST,adata\n",
    "import anndata as ad\n",
    "adatas=[sc_combine,st_combine]\n",
    "adatas=ad.concat(adatas,merge='same')\n",
    "adatas"
   ]
  },
  {
   "cell_type": "code",
   "execution_count": 5,
   "metadata": {},
   "outputs": [
    {
     "data": {
      "text/plain": [
       "AnnData object with n_obs × n_vars = 42150 × 2977\n",
       "    obs: 'orig.ident', 'nCount_RNA', 'nFeature_RNA', 'n_counts', 'desc_0.2', 'desc_0.4', 'desc_0.6', 'desc_0.8', 'desc_1.4', 'desc_2.0', 'batch', 'nCount_Spatial', 'nFeature_Spatial'\n",
       "    obsm: 'X_Embeded_z0.2', 'X_Embeded_z0.4', 'X_Embeded_z0.6', 'X_Embeded_z0.8', 'X_Embeded_z1.4', 'X_Embeded_z2.0', 'X_tsne', 'X_tsne0.2', 'X_tsne0.4', 'X_tsne0.6', 'X_tsne0.8', 'X_tsne1.4', 'X_tsne2.0', 'X_umap', 'X_umap0.2', 'X_umap0.4', 'X_umap0.6', 'X_umap0.8', 'X_umap1.4', 'X_umap2.0'"
      ]
     },
     "execution_count": 5,
     "metadata": {},
     "output_type": "execute_result"
    }
   ],
   "source": [
    "#combine try 2\n",
    "import anndata as ad\n",
    "combined = ad.concat([sc_combine,st_combine], join=\"outer\")\n",
    "combined"
   ]
  },
  {
   "cell_type": "code",
   "execution_count": 6,
   "metadata": {},
   "outputs": [
    {
     "data": {
      "text/plain": [
       "Z1_F_F1_AAACCTGAGAGACGAA     16\n",
       "Z1_F_F1_AAACCTGAGGGCTTCC     16\n",
       "Z1_F_F1_AAACCTGCAGGACGTA      2\n",
       "Z1_F_F1_AAACCTGGTATTCGTG      2\n",
       "Z1_F_F1_AAACCTGTCAAACCAC      2\n",
       "                           ... \n",
       "TTGTGTATGCCACCAA-1          NaN\n",
       "TTGTGTTTCCCGAAAG-1          NaN\n",
       "TTGTTCAGTGTGCTAC-1          NaN\n",
       "TTGTTGTGTGTCAAGA-1          NaN\n",
       "TTGTTTCACATCCAGG-1          NaN\n",
       "Name: desc_0.8, Length: 42150, dtype: category\n",
       "Categories (28, int64): [0, 1, 2, 3, ..., 24, 25, 26, 27]"
      ]
     },
     "execution_count": 6,
     "metadata": {},
     "output_type": "execute_result"
    }
   ],
   "source": [
    "combined.obs['desc_0.8'].astype('category')"
   ]
  },
  {
   "cell_type": "code",
   "execution_count": 7,
   "metadata": {},
   "outputs": [],
   "source": [
    "combined.var=adatas.var"
   ]
  },
  {
   "cell_type": "code",
   "execution_count": 8,
   "metadata": {},
   "outputs": [
    {
     "data": {
      "text/plain": [
       "AnnData object with n_obs × n_vars = 42150 × 2977\n",
       "    obs: 'orig.ident', 'nCount_RNA', 'nFeature_RNA', 'n_counts', 'desc_0.2', 'desc_0.4', 'desc_0.6', 'desc_0.8', 'desc_1.4', 'desc_2.0', 'batch', 'nCount_Spatial', 'nFeature_Spatial'\n",
       "    var: 'features'\n",
       "    obsm: 'X_Embeded_z0.2', 'X_Embeded_z0.4', 'X_Embeded_z0.6', 'X_Embeded_z0.8', 'X_Embeded_z1.4', 'X_Embeded_z2.0', 'X_tsne', 'X_tsne0.2', 'X_tsne0.4', 'X_tsne0.6', 'X_tsne0.8', 'X_tsne1.4', 'X_tsne2.0', 'X_umap', 'X_umap0.2', 'X_umap0.4', 'X_umap0.6', 'X_umap0.8', 'X_umap1.4', 'X_umap2.0'"
      ]
     },
     "execution_count": 8,
     "metadata": {},
     "output_type": "execute_result"
    }
   ],
   "source": [
    "combined"
   ]
  },
  {
   "cell_type": "code",
   "execution_count": 9,
   "metadata": {},
   "outputs": [],
   "source": [
    "del combined.obs['desc_0.4']\n",
    "del combined.obs['desc_0.6']\n",
    "del combined.obs['desc_0.2']\n",
    "del combined.obs['desc_1.4']\n",
    "del combined.obs['desc_2.0']"
   ]
  },
  {
   "cell_type": "code",
   "execution_count": 10,
   "metadata": {},
   "outputs": [
    {
     "name": "stderr",
     "output_type": "stream",
     "text": [
      "... storing 'batch' as categorical\n"
     ]
    }
   ],
   "source": [
    "combined.obs['desc_0.8']=pd.Series(combined.obs['desc_0.8']).astype(\"category\")\n",
    "combined.write_h5ad(\"combine_allst.h5ad\")"
   ]
  },
  {
   "cell_type": "code",
   "execution_count": 11,
   "metadata": {},
   "outputs": [
    {
     "name": "stdout",
     "output_type": "stream",
     "text": [
      "231.72607584987227\n",
      "1121.7586926286508\n"
     ]
    },
    {
     "data": {
      "text/plain": [
       "0.20657390700210365"
      ]
     },
     "execution_count": 11,
     "metadata": {},
     "output_type": "execute_result"
    }
   ],
   "source": [
    "#平均表达个数\n",
    "scaverages=combined[combined.obs['batch']=='sc'].obs['nFeature_RNA'].mean() #sc_combine\n",
    "print(scaverages)\n",
    "staverages=combined[combined.obs['batch']=='st'].obs['nFeature_Spatial'].mean()   #st_combine\n",
    "print(staverages)\n",
    "alpha=scaverages/staverages \n",
    "alpha \n",
    "#231.72607584987227\n",
    "#1121.7586926286508\n",
    "#0.20657390700210365"
   ]
  },
  {
   "cell_type": "code",
   "execution_count": null,
   "metadata": {},
   "outputs": [],
   "source": [
    "#下采样"
   ]
  },
  {
   "cell_type": "code",
   "execution_count": 12,
   "metadata": {},
   "outputs": [],
   "source": [
    "def lower_sample_data(rawdata, alpha):\n",
    "    \"\"\"\n",
    "    将矩阵中的每个元素有概率 p 保留原值，有概率 1-p 变成 0\n",
    "    \"\"\"\n",
    "    #创建一个与原始矩阵大小相同的随机矩阵\n",
    "    random_matrix=np.random.choice([0,1], size=(rawdata.shape[0],rawdata.shape[1]), replace=True, p=[1-alpha,alpha])\n",
    "    # 将原始矩阵中的元素与随机矩阵中的元素按位相乘\n",
    "    result = rawdata * random_matrix\n",
    "    return result"
   ]
  },
  {
   "cell_type": "code",
   "execution_count": 13,
   "metadata": {},
   "outputs": [
    {
     "data": {
      "text/plain": [
       "View of AnnData object with n_obs × n_vars = 1438 × 2977\n",
       "    obs: 'orig.ident', 'nCount_RNA', 'nFeature_RNA', 'n_counts', 'desc_0.8', 'batch', 'nCount_Spatial', 'nFeature_Spatial'\n",
       "    var: 'features'\n",
       "    obsm: 'X_Embeded_z0.2', 'X_Embeded_z0.4', 'X_Embeded_z0.6', 'X_Embeded_z0.8', 'X_Embeded_z1.4', 'X_Embeded_z2.0', 'X_tsne', 'X_tsne0.2', 'X_tsne0.4', 'X_tsne0.6', 'X_tsne0.8', 'X_tsne1.4', 'X_tsne2.0', 'X_umap', 'X_umap0.2', 'X_umap0.4', 'X_umap0.6', 'X_umap0.8', 'X_umap1.4', 'X_umap2.0'"
      ]
     },
     "execution_count": 13,
     "metadata": {},
     "output_type": "execute_result"
    }
   ],
   "source": [
    "traindatasubset_sc=combined[combined.obs['batch']=='sc']\n",
    "traindatasubset_st=combined[combined.obs['batch']=='st']\n",
    "traindatasubset_st"
   ]
  },
  {
   "cell_type": "code",
   "execution_count": 14,
   "metadata": {},
   "outputs": [],
   "source": [
    "lower_sample_data_1=lower_sample_data(pd.DataFrame(traindatasubset_st.X.todense()), alpha)\n",
    "lower_sample_data_1\n",
    "lower_sample_data_1.index=traindatasubset_st.obs_names\n",
    "lower_sample_data_1.index\n",
    "lower_sample_data_1.columns=traindatasubset_st.var_names\n",
    "lower_sample_data_1.columns\n",
    "traindata_st=sc.AnnData(lower_sample_data_1)\n",
    "traindata_st\n",
    "traindata_st.obs[\"batch\"]=\"st\""
   ]
  },
  {
   "cell_type": "code",
   "execution_count": 15,
   "metadata": {},
   "outputs": [
    {
     "data": {
      "text/plain": [
       "28"
      ]
     },
     "execution_count": 15,
     "metadata": {},
     "output_type": "execute_result"
    }
   ],
   "source": [
    "int(traindatasubset_sc.shape[0]/traindatasubset_st.shape[0])"
   ]
  },
  {
   "cell_type": "code",
   "execution_count": 16,
   "metadata": {},
   "outputs": [
    {
     "name": "stdout",
     "output_type": "stream",
     "text": [
      "1\n",
      "2\n",
      "3\n",
      "4\n",
      "5\n",
      "6\n",
      "7\n",
      "8\n",
      "9\n",
      "10\n",
      "11\n",
      "12\n",
      "13\n",
      "14\n",
      "15\n",
      "16\n",
      "17\n",
      "18\n",
      "19\n",
      "20\n",
      "21\n",
      "22\n",
      "23\n",
      "24\n",
      "25\n",
      "26\n",
      "27\n",
      "28\n"
     ]
    }
   ],
   "source": [
    "###循环抽样sc/st次\n",
    "##desc_0.8\n",
    "names = locals()\n",
    "for i in range(1,int(traindatasubset_sc.shape[0]/traindatasubset_st.shape[0])+1):\n",
    "    print(i)\n",
    "    names['lower_sample_data_%s'%i]=lower_sample_data(pd.DataFrame(traindatasubset_st.X.todense()), alpha)\n",
    "    names['lower_sample_data_%s'%i].index=traindatasubset_st.obs_names\n",
    "    names['lower_sample_data_%s'%i].columns=traindatasubset_st.var_names\n",
    "    names['traindata_st_%s'%i]=sc.AnnData(lower_sample_data_1)\n",
    "    names['traindata_st_%s'%i].obs[\"batch\"]=\"st\"\n",
    "    names['traindata_st_%s'%i].obs[\"desc_0.8\"]=traindatasubset_st.obs['desc_0.8']\n",
    "    names['traindata_st_%s'%i].obs[\"batch_sub\"]='st_%s'%i\n",
    "    "
   ]
  },
  {
   "cell_type": "code",
   "execution_count": 19,
   "metadata": {},
   "outputs": [],
   "source": [
    "#sc_combine.X=sc_combine.X.toarray()"
   ]
  },
  {
   "cell_type": "code",
   "execution_count": 17,
   "metadata": {},
   "outputs": [
    {
     "name": "stderr",
     "output_type": "stream",
     "text": [
      "Observation names are not unique. To make them unique, call `.obs_names_make_unique`.\n",
      "Observation names are not unique. To make them unique, call `.obs_names_make_unique`.\n",
      "Observation names are not unique. To make them unique, call `.obs_names_make_unique`.\n",
      "Observation names are not unique. To make them unique, call `.obs_names_make_unique`.\n"
     ]
    },
    {
     "name": "stdout",
     "output_type": "stream",
     "text": [
      "1\n",
      "2\n",
      "3\n",
      "4\n",
      "5\n"
     ]
    },
    {
     "name": "stderr",
     "output_type": "stream",
     "text": [
      "Observation names are not unique. To make them unique, call `.obs_names_make_unique`.\n",
      "Observation names are not unique. To make them unique, call `.obs_names_make_unique`.\n",
      "Observation names are not unique. To make them unique, call `.obs_names_make_unique`.\n",
      "Observation names are not unique. To make them unique, call `.obs_names_make_unique`.\n"
     ]
    },
    {
     "name": "stdout",
     "output_type": "stream",
     "text": [
      "6\n",
      "7\n",
      "8\n",
      "9\n"
     ]
    },
    {
     "name": "stderr",
     "output_type": "stream",
     "text": [
      "Observation names are not unique. To make them unique, call `.obs_names_make_unique`.\n",
      "Observation names are not unique. To make them unique, call `.obs_names_make_unique`.\n",
      "Observation names are not unique. To make them unique, call `.obs_names_make_unique`.\n"
     ]
    },
    {
     "name": "stdout",
     "output_type": "stream",
     "text": [
      "10\n",
      "11\n",
      "12\n"
     ]
    },
    {
     "name": "stderr",
     "output_type": "stream",
     "text": [
      "Observation names are not unique. To make them unique, call `.obs_names_make_unique`.\n",
      "Observation names are not unique. To make them unique, call `.obs_names_make_unique`.\n"
     ]
    },
    {
     "name": "stdout",
     "output_type": "stream",
     "text": [
      "13\n",
      "14\n"
     ]
    },
    {
     "name": "stderr",
     "output_type": "stream",
     "text": [
      "Observation names are not unique. To make them unique, call `.obs_names_make_unique`.\n",
      "Observation names are not unique. To make them unique, call `.obs_names_make_unique`.\n"
     ]
    },
    {
     "name": "stdout",
     "output_type": "stream",
     "text": [
      "15\n",
      "16\n"
     ]
    },
    {
     "name": "stderr",
     "output_type": "stream",
     "text": [
      "Observation names are not unique. To make them unique, call `.obs_names_make_unique`.\n",
      "Observation names are not unique. To make them unique, call `.obs_names_make_unique`.\n"
     ]
    },
    {
     "name": "stdout",
     "output_type": "stream",
     "text": [
      "17\n",
      "18\n"
     ]
    },
    {
     "name": "stderr",
     "output_type": "stream",
     "text": [
      "Observation names are not unique. To make them unique, call `.obs_names_make_unique`.\n",
      "Observation names are not unique. To make them unique, call `.obs_names_make_unique`.\n"
     ]
    },
    {
     "name": "stdout",
     "output_type": "stream",
     "text": [
      "19\n",
      "20\n"
     ]
    },
    {
     "name": "stderr",
     "output_type": "stream",
     "text": [
      "Observation names are not unique. To make them unique, call `.obs_names_make_unique`.\n",
      "Observation names are not unique. To make them unique, call `.obs_names_make_unique`.\n"
     ]
    },
    {
     "name": "stdout",
     "output_type": "stream",
     "text": [
      "21\n",
      "22\n"
     ]
    },
    {
     "name": "stderr",
     "output_type": "stream",
     "text": [
      "Observation names are not unique. To make them unique, call `.obs_names_make_unique`.\n",
      "Observation names are not unique. To make them unique, call `.obs_names_make_unique`.\n"
     ]
    },
    {
     "name": "stdout",
     "output_type": "stream",
     "text": [
      "23\n",
      "24\n"
     ]
    },
    {
     "name": "stderr",
     "output_type": "stream",
     "text": [
      "Observation names are not unique. To make them unique, call `.obs_names_make_unique`.\n"
     ]
    },
    {
     "name": "stdout",
     "output_type": "stream",
     "text": [
      "25\n"
     ]
    },
    {
     "name": "stderr",
     "output_type": "stream",
     "text": [
      "Observation names are not unique. To make them unique, call `.obs_names_make_unique`.\n"
     ]
    },
    {
     "name": "stdout",
     "output_type": "stream",
     "text": [
      "26\n"
     ]
    },
    {
     "name": "stderr",
     "output_type": "stream",
     "text": [
      "Observation names are not unique. To make them unique, call `.obs_names_make_unique`.\n"
     ]
    },
    {
     "name": "stdout",
     "output_type": "stream",
     "text": [
      "27\n"
     ]
    },
    {
     "name": "stderr",
     "output_type": "stream",
     "text": [
      "Observation names are not unique. To make them unique, call `.obs_names_make_unique`.\n"
     ]
    }
   ],
   "source": [
    "import anndata as ad\n",
    "names = locals()\n",
    "traindata_combine_1=traindata_st_1\n",
    "for i in range(1,int(traindatasubset_sc.shape[0]/traindatasubset_st.shape[0])):\n",
    "    print(i)\n",
    "    names['traindata_combine_%s'%(i+1)]=ad.concat([names['traindata_combine_%s'%i],names['traindata_st_%s'%(i+1)]], join=\"outer\")\n"
   ]
  },
  {
   "cell_type": "code",
   "execution_count": 18,
   "metadata": {},
   "outputs": [
    {
     "data": {
      "text/plain": [
       "AnnData object with n_obs × n_vars = 40264 × 2977\n",
       "    obs: 'batch', 'desc_0.8', 'batch_sub'"
      ]
     },
     "execution_count": 18,
     "metadata": {},
     "output_type": "execute_result"
    }
   ],
   "source": [
    "traindata_combine_28"
   ]
  },
  {
   "cell_type": "code",
   "execution_count": 19,
   "metadata": {},
   "outputs": [],
   "source": [
    "traindata_combine_28.obs['desc_0.8']=pd.Series(traindata_combine_28.obs['desc_0.8']).astype(\"category\")"
   ]
  },
  {
   "cell_type": "code",
   "execution_count": 20,
   "metadata": {},
   "outputs": [
    {
     "name": "stderr",
     "output_type": "stream",
     "text": [
      "... storing 'batch' as categorical\n",
      "... storing 'batch_sub' as categorical\n"
     ]
    }
   ],
   "source": [
    "traindata_combine_28.write_h5ad(\"testdata_undersample_st.h5ad\")"
   ]
  },
  {
   "cell_type": "code",
   "execution_count": 21,
   "metadata": {},
   "outputs": [
    {
     "name": "stderr",
     "output_type": "stream",
     "text": [
      "/home/huggs/anaconda3/envs/SCST/lib/python3.6/site-packages/anndata/_core/merge.py:918: UserWarning: Only some AnnData objects have `.raw` attribute, not concatenating `.raw` attributes.\n",
      "  UserWarning,\n",
      "Observation names are not unique. To make them unique, call `.obs_names_make_unique`.\n"
     ]
    },
    {
     "data": {
      "text/plain": [
       "AnnData object with n_obs × n_vars = 80976 × 2977\n",
       "    obs: 'orig.ident', 'nCount_RNA', 'nFeature_RNA', 'n_counts', 'desc_0.2', 'desc_0.4', 'desc_0.6', 'desc_0.8', 'desc_1.4', 'desc_2.0', 'batch', 'batch_sub'\n",
       "    obsm: 'X_Embeded_z0.2', 'X_Embeded_z0.4', 'X_Embeded_z0.6', 'X_Embeded_z0.8', 'X_Embeded_z1.4', 'X_Embeded_z2.0', 'X_tsne', 'X_tsne0.2', 'X_tsne0.4', 'X_tsne0.6', 'X_tsne0.8', 'X_tsne1.4', 'X_tsne2.0', 'X_umap', 'X_umap0.2', 'X_umap0.4', 'X_umap0.6', 'X_umap0.8', 'X_umap1.4', 'X_umap2.0'"
      ]
     },
     "execution_count": 21,
     "metadata": {},
     "output_type": "execute_result"
    }
   ],
   "source": [
    "traindata_combine=ad.concat([sc_combine,traindata_combine_28],join=\"outer\")\n",
    "traindata_combine"
   ]
  },
  {
   "cell_type": "code",
   "execution_count": 22,
   "metadata": {},
   "outputs": [
    {
     "name": "stderr",
     "output_type": "stream",
     "text": [
      "... storing 'batch' as categorical\n",
      "... storing 'batch_sub' as categorical\n"
     ]
    }
   ],
   "source": [
    "del traindata_combine.obs['desc_0.4']\n",
    "del traindata_combine.obs['desc_0.6']\n",
    "del traindata_combine.obs['desc_0.2']\n",
    "del traindata_combine.obs['desc_1.4']\n",
    "del traindata_combine.obs['desc_2.0']\n",
    "traindata_combine.obs['desc_0.8']=pd.Series(traindata_combine.obs['desc_0.8']).astype(\"category\")\n",
    "traindata_combine.write_h5ad(\"testdata_undersample.h5ad\")"
   ]
  }
 ],
 "metadata": {
  "kernelspec": {
   "display_name": "SCST",
   "language": "python",
   "name": "python3"
  },
  "language_info": {
   "codemirror_mode": {
    "name": "ipython",
    "version": 3
   },
   "file_extension": ".py",
   "mimetype": "text/x-python",
   "name": "python",
   "nbconvert_exporter": "python",
   "pygments_lexer": "ipython3",
   "version": "3.6.13"
  },
  "orig_nbformat": 4,
  "vscode": {
   "interpreter": {
    "hash": "151f94788e731f8c229ca24193df9d5adcbdaf062dccabbf76562f05b82a1ddd"
   }
  }
 },
 "nbformat": 4,
 "nbformat_minor": 2
}
