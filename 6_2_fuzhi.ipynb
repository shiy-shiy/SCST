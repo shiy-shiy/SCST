{
 "cells": [
  {
   "cell_type": "code",
   "execution_count": 1,
   "metadata": {},
   "outputs": [],
   "source": [
    "import os              \n",
    "os.environ['PYTHONHASHSEED'] = '0'\n",
    "import desc          \n",
    "import pandas as pd                                                    \n",
    "import numpy as np                                                     \n",
    "import scanpy as sc                                                                                 \n",
    "from time import time                                                       \n",
    "import sys\n",
    "import matplotlib\n",
    "import matplotlib.pyplot as plt\n",
    "\n",
    "import tensorflow as tf"
   ]
  },
  {
   "cell_type": "code",
   "execution_count": 12,
   "metadata": {},
   "outputs": [],
   "source": [
    "import anndata as ad"
   ]
  },
  {
   "cell_type": "code",
   "execution_count": 13,
   "metadata": {},
   "outputs": [],
   "source": [
    "adata = sc.read_h5ad('/home/huggs/shiyi/SCST/RCTD/RCTD/predata/celltrek_kidney/celltrek_kidney/Mouse_Adult_DGE.h5ad')"
   ]
  },
  {
   "cell_type": "code",
   "execution_count": 14,
   "metadata": {},
   "outputs": [
    {
     "data": {
      "text/plain": [
       "AnnData object with n_obs × n_vars = 40712 × 27998\n",
       "    obs: 'orig.ident', 'nCount_RNA', 'nFeature_RNA'\n",
       "    var: 'features'"
      ]
     },
     "execution_count": 14,
     "metadata": {},
     "output_type": "execute_result"
    }
   ],
   "source": [
    "adata"
   ]
  },
  {
   "cell_type": "code",
   "execution_count": 15,
   "metadata": {},
   "outputs": [
    {
     "data": {
      "text/html": [
       "<div>\n",
       "<style scoped>\n",
       "    .dataframe tbody tr th:only-of-type {\n",
       "        vertical-align: middle;\n",
       "    }\n",
       "\n",
       "    .dataframe tbody tr th {\n",
       "        vertical-align: top;\n",
       "    }\n",
       "\n",
       "    .dataframe thead th {\n",
       "        text-align: right;\n",
       "    }\n",
       "</style>\n",
       "<table border=\"1\" class=\"dataframe\">\n",
       "  <thead>\n",
       "    <tr style=\"text-align: right;\">\n",
       "      <th></th>\n",
       "      <th>orig.ident</th>\n",
       "      <th>nCount_RNA</th>\n",
       "      <th>nFeature_RNA</th>\n",
       "    </tr>\n",
       "  </thead>\n",
       "  <tbody>\n",
       "    <tr>\n",
       "      <th>Z1_F_F1_AAACCTGAGAGACGAA</th>\n",
       "      <td>0</td>\n",
       "      <td>5989.0</td>\n",
       "      <td>1712</td>\n",
       "    </tr>\n",
       "    <tr>\n",
       "      <th>Z1_F_F1_AAACCTGAGGGCTTCC</th>\n",
       "      <td>0</td>\n",
       "      <td>4752.0</td>\n",
       "      <td>1633</td>\n",
       "    </tr>\n",
       "    <tr>\n",
       "      <th>Z1_F_F1_AAACCTGCAGGACGTA</th>\n",
       "      <td>0</td>\n",
       "      <td>4624.0</td>\n",
       "      <td>2136</td>\n",
       "    </tr>\n",
       "    <tr>\n",
       "      <th>Z1_F_F1_AAACCTGGTATTCGTG</th>\n",
       "      <td>0</td>\n",
       "      <td>2126.0</td>\n",
       "      <td>1204</td>\n",
       "    </tr>\n",
       "    <tr>\n",
       "      <th>Z1_F_F1_AAACCTGTCAAACCAC</th>\n",
       "      <td>0</td>\n",
       "      <td>1742.0</td>\n",
       "      <td>1013</td>\n",
       "    </tr>\n",
       "    <tr>\n",
       "      <th>...</th>\n",
       "      <td>...</td>\n",
       "      <td>...</td>\n",
       "      <td>...</td>\n",
       "    </tr>\n",
       "    <tr>\n",
       "      <th>Z3_M_M2_TTTGTCAAGTGGTCCC</th>\n",
       "      <td>2</td>\n",
       "      <td>4284.0</td>\n",
       "      <td>1903</td>\n",
       "    </tr>\n",
       "    <tr>\n",
       "      <th>Z3_M_M2_TTTGTCACATCACAAC</th>\n",
       "      <td>2</td>\n",
       "      <td>2772.0</td>\n",
       "      <td>1234</td>\n",
       "    </tr>\n",
       "    <tr>\n",
       "      <th>Z3_M_M2_TTTGTCACATCGTCGG</th>\n",
       "      <td>2</td>\n",
       "      <td>6254.0</td>\n",
       "      <td>2466</td>\n",
       "    </tr>\n",
       "    <tr>\n",
       "      <th>Z3_M_M2_TTTGTCAGTAACGACG</th>\n",
       "      <td>2</td>\n",
       "      <td>3379.0</td>\n",
       "      <td>1303</td>\n",
       "    </tr>\n",
       "    <tr>\n",
       "      <th>Z3_M_M2_TTTGTCATCTCAAGTG</th>\n",
       "      <td>2</td>\n",
       "      <td>1538.0</td>\n",
       "      <td>826</td>\n",
       "    </tr>\n",
       "  </tbody>\n",
       "</table>\n",
       "<p>40712 rows × 3 columns</p>\n",
       "</div>"
      ],
      "text/plain": [
       "                          orig.ident  nCount_RNA  nFeature_RNA\n",
       "Z1_F_F1_AAACCTGAGAGACGAA           0      5989.0          1712\n",
       "Z1_F_F1_AAACCTGAGGGCTTCC           0      4752.0          1633\n",
       "Z1_F_F1_AAACCTGCAGGACGTA           0      4624.0          2136\n",
       "Z1_F_F1_AAACCTGGTATTCGTG           0      2126.0          1204\n",
       "Z1_F_F1_AAACCTGTCAAACCAC           0      1742.0          1013\n",
       "...                              ...         ...           ...\n",
       "Z3_M_M2_TTTGTCAAGTGGTCCC           2      4284.0          1903\n",
       "Z3_M_M2_TTTGTCACATCACAAC           2      2772.0          1234\n",
       "Z3_M_M2_TTTGTCACATCGTCGG           2      6254.0          2466\n",
       "Z3_M_M2_TTTGTCAGTAACGACG           2      3379.0          1303\n",
       "Z3_M_M2_TTTGTCATCTCAAGTG           2      1538.0           826\n",
       "\n",
       "[40712 rows x 3 columns]"
      ]
     },
     "execution_count": 15,
     "metadata": {},
     "output_type": "execute_result"
    }
   ],
   "source": [
    "adata.obs"
   ]
  },
  {
   "cell_type": "code",
   "execution_count": 16,
   "metadata": {},
   "outputs": [
    {
     "data": {
      "text/html": [
       "<div>\n",
       "<style scoped>\n",
       "    .dataframe tbody tr th:only-of-type {\n",
       "        vertical-align: middle;\n",
       "    }\n",
       "\n",
       "    .dataframe tbody tr th {\n",
       "        vertical-align: top;\n",
       "    }\n",
       "\n",
       "    .dataframe thead th {\n",
       "        text-align: right;\n",
       "    }\n",
       "</style>\n",
       "<table border=\"1\" class=\"dataframe\">\n",
       "  <thead>\n",
       "    <tr style=\"text-align: right;\">\n",
       "      <th></th>\n",
       "      <th>features</th>\n",
       "    </tr>\n",
       "  </thead>\n",
       "  <tbody>\n",
       "    <tr>\n",
       "      <th>Xkr4</th>\n",
       "      <td>Xkr4</td>\n",
       "    </tr>\n",
       "    <tr>\n",
       "      <th>Gm1992</th>\n",
       "      <td>Gm1992</td>\n",
       "    </tr>\n",
       "    <tr>\n",
       "      <th>Gm37381</th>\n",
       "      <td>Gm37381</td>\n",
       "    </tr>\n",
       "    <tr>\n",
       "      <th>Rp1</th>\n",
       "      <td>Rp1</td>\n",
       "    </tr>\n",
       "    <tr>\n",
       "      <th>Rp1.1</th>\n",
       "      <td>Rp1.1</td>\n",
       "    </tr>\n",
       "    <tr>\n",
       "      <th>...</th>\n",
       "      <td>...</td>\n",
       "    </tr>\n",
       "    <tr>\n",
       "      <th>AC168977.1</th>\n",
       "      <td>AC168977.1</td>\n",
       "    </tr>\n",
       "    <tr>\n",
       "      <th>PISD</th>\n",
       "      <td>PISD</td>\n",
       "    </tr>\n",
       "    <tr>\n",
       "      <th>DHRSX</th>\n",
       "      <td>DHRSX</td>\n",
       "    </tr>\n",
       "    <tr>\n",
       "      <th>Vmn2r122</th>\n",
       "      <td>Vmn2r122</td>\n",
       "    </tr>\n",
       "    <tr>\n",
       "      <th>CAAA01147332.1</th>\n",
       "      <td>CAAA01147332.1</td>\n",
       "    </tr>\n",
       "  </tbody>\n",
       "</table>\n",
       "<p>27998 rows × 1 columns</p>\n",
       "</div>"
      ],
      "text/plain": [
       "                      features\n",
       "Xkr4                      Xkr4\n",
       "Gm1992                  Gm1992\n",
       "Gm37381                Gm37381\n",
       "Rp1                        Rp1\n",
       "Rp1.1                    Rp1.1\n",
       "...                        ...\n",
       "AC168977.1          AC168977.1\n",
       "PISD                      PISD\n",
       "DHRSX                    DHRSX\n",
       "Vmn2r122              Vmn2r122\n",
       "CAAA01147332.1  CAAA01147332.1\n",
       "\n",
       "[27998 rows x 1 columns]"
      ]
     },
     "execution_count": 16,
     "metadata": {},
     "output_type": "execute_result"
    }
   ],
   "source": [
    "adata.var"
   ]
  },
  {
   "cell_type": "code",
   "execution_count": 17,
   "metadata": {},
   "outputs": [
    {
     "name": "stdout",
     "output_type": "stream",
     "text": [
      "Raw AnnData with n_obs × n_vars = 40712 × 27998\n",
      "    var: '_index'\n"
     ]
    }
   ],
   "source": [
    "print(adata.raw)"
   ]
  },
  {
   "cell_type": "code",
   "execution_count": 18,
   "metadata": {},
   "outputs": [],
   "source": [
    "adata_train=sc.read_h5ad(\"/home/huggs/shiyi/SCST/RCTD/RCTD/predata/celltrek_kidney/mymodel/2_desc/2_desc_222copy/sc_desc.h5ad\")"
   ]
  },
  {
   "cell_type": "code",
   "execution_count": 19,
   "metadata": {},
   "outputs": [
    {
     "data": {
      "text/plain": [
       "AnnData object with n_obs × n_vars = 40712 × 2977\n",
       "    obs: 'orig.ident', 'nCount_RNA', 'nFeature_RNA', 'n_counts', 'desc_0.2', 'desc_0.4', 'desc_0.6', 'desc_0.8', 'desc_1.4', 'desc_2.0'\n",
       "    var: 'features', 'mean', 'std'\n",
       "    uns: 'prob_matrix0.2', 'prob_matrix0.4', 'prob_matrix0.6', 'prob_matrix0.8', 'prob_matrix1.4', 'prob_matrix2.0', 'umap'\n",
       "    obsm: 'X_Embeded_z0.2', 'X_Embeded_z0.4', 'X_Embeded_z0.6', 'X_Embeded_z0.8', 'X_Embeded_z1.4', 'X_Embeded_z2.0', 'X_tsne', 'X_tsne0.2', 'X_tsne0.4', 'X_tsne0.6', 'X_tsne0.8', 'X_tsne1.4', 'X_tsne2.0', 'X_umap', 'X_umap0.2', 'X_umap0.4', 'X_umap0.6', 'X_umap0.8', 'X_umap1.4', 'X_umap2.0'\n",
       "    obsp: 'connectivities', 'distances'"
      ]
     },
     "execution_count": 19,
     "metadata": {},
     "output_type": "execute_result"
    }
   ],
   "source": [
    "adata_train"
   ]
  },
  {
   "cell_type": "code",
   "execution_count": 20,
   "metadata": {},
   "outputs": [
    {
     "data": {
      "text/html": [
       "<div>\n",
       "<style scoped>\n",
       "    .dataframe tbody tr th:only-of-type {\n",
       "        vertical-align: middle;\n",
       "    }\n",
       "\n",
       "    .dataframe tbody tr th {\n",
       "        vertical-align: top;\n",
       "    }\n",
       "\n",
       "    .dataframe thead th {\n",
       "        text-align: right;\n",
       "    }\n",
       "</style>\n",
       "<table border=\"1\" class=\"dataframe\">\n",
       "  <thead>\n",
       "    <tr style=\"text-align: right;\">\n",
       "      <th></th>\n",
       "      <th>orig.ident</th>\n",
       "      <th>nCount_RNA</th>\n",
       "      <th>nFeature_RNA</th>\n",
       "      <th>n_counts</th>\n",
       "      <th>desc_0.2</th>\n",
       "      <th>desc_0.4</th>\n",
       "      <th>desc_0.6</th>\n",
       "      <th>desc_0.8</th>\n",
       "      <th>desc_1.4</th>\n",
       "      <th>desc_2.0</th>\n",
       "    </tr>\n",
       "  </thead>\n",
       "  <tbody>\n",
       "    <tr>\n",
       "      <th>Z1_F_F1_AAACCTGAGAGACGAA</th>\n",
       "      <td>0</td>\n",
       "      <td>963.0</td>\n",
       "      <td>347</td>\n",
       "      <td>963.0</td>\n",
       "      <td>1</td>\n",
       "      <td>4</td>\n",
       "      <td>14</td>\n",
       "      <td>16</td>\n",
       "      <td>19</td>\n",
       "      <td>21</td>\n",
       "    </tr>\n",
       "    <tr>\n",
       "      <th>Z1_F_F1_AAACCTGAGGGCTTCC</th>\n",
       "      <td>0</td>\n",
       "      <td>1107.0</td>\n",
       "      <td>370</td>\n",
       "      <td>1107.0</td>\n",
       "      <td>1</td>\n",
       "      <td>4</td>\n",
       "      <td>14</td>\n",
       "      <td>16</td>\n",
       "      <td>19</td>\n",
       "      <td>21</td>\n",
       "    </tr>\n",
       "    <tr>\n",
       "      <th>Z1_F_F1_AAACCTGCAGGACGTA</th>\n",
       "      <td>0</td>\n",
       "      <td>726.0</td>\n",
       "      <td>268</td>\n",
       "      <td>726.0</td>\n",
       "      <td>14</td>\n",
       "      <td>18</td>\n",
       "      <td>3</td>\n",
       "      <td>2</td>\n",
       "      <td>2</td>\n",
       "      <td>1</td>\n",
       "    </tr>\n",
       "    <tr>\n",
       "      <th>Z1_F_F1_AAACCTGGTATTCGTG</th>\n",
       "      <td>0</td>\n",
       "      <td>370.0</td>\n",
       "      <td>164</td>\n",
       "      <td>370.0</td>\n",
       "      <td>0</td>\n",
       "      <td>0</td>\n",
       "      <td>3</td>\n",
       "      <td>2</td>\n",
       "      <td>2</td>\n",
       "      <td>2</td>\n",
       "    </tr>\n",
       "    <tr>\n",
       "      <th>Z1_F_F1_AAACCTGTCAAACCAC</th>\n",
       "      <td>0</td>\n",
       "      <td>352.0</td>\n",
       "      <td>153</td>\n",
       "      <td>352.0</td>\n",
       "      <td>14</td>\n",
       "      <td>0</td>\n",
       "      <td>3</td>\n",
       "      <td>2</td>\n",
       "      <td>3</td>\n",
       "      <td>2</td>\n",
       "    </tr>\n",
       "    <tr>\n",
       "      <th>...</th>\n",
       "      <td>...</td>\n",
       "      <td>...</td>\n",
       "      <td>...</td>\n",
       "      <td>...</td>\n",
       "      <td>...</td>\n",
       "      <td>...</td>\n",
       "      <td>...</td>\n",
       "      <td>...</td>\n",
       "      <td>...</td>\n",
       "      <td>...</td>\n",
       "    </tr>\n",
       "    <tr>\n",
       "      <th>Z3_M_M2_TTTGTCAAGTGGTCCC</th>\n",
       "      <td>2</td>\n",
       "      <td>806.0</td>\n",
       "      <td>267</td>\n",
       "      <td>806.0</td>\n",
       "      <td>5</td>\n",
       "      <td>6</td>\n",
       "      <td>6</td>\n",
       "      <td>11</td>\n",
       "      <td>11</td>\n",
       "      <td>12</td>\n",
       "    </tr>\n",
       "    <tr>\n",
       "      <th>Z3_M_M2_TTTGTCACATCACAAC</th>\n",
       "      <td>2</td>\n",
       "      <td>336.0</td>\n",
       "      <td>160</td>\n",
       "      <td>336.0</td>\n",
       "      <td>0</td>\n",
       "      <td>0</td>\n",
       "      <td>0</td>\n",
       "      <td>0</td>\n",
       "      <td>1</td>\n",
       "      <td>0</td>\n",
       "    </tr>\n",
       "    <tr>\n",
       "      <th>Z3_M_M2_TTTGTCACATCGTCGG</th>\n",
       "      <td>2</td>\n",
       "      <td>1293.0</td>\n",
       "      <td>330</td>\n",
       "      <td>1293.0</td>\n",
       "      <td>3</td>\n",
       "      <td>2</td>\n",
       "      <td>2</td>\n",
       "      <td>5</td>\n",
       "      <td>6</td>\n",
       "      <td>7</td>\n",
       "    </tr>\n",
       "    <tr>\n",
       "      <th>Z3_M_M2_TTTGTCAGTAACGACG</th>\n",
       "      <td>2</td>\n",
       "      <td>1065.0</td>\n",
       "      <td>211</td>\n",
       "      <td>1065.0</td>\n",
       "      <td>2</td>\n",
       "      <td>1</td>\n",
       "      <td>1</td>\n",
       "      <td>1</td>\n",
       "      <td>0</td>\n",
       "      <td>5</td>\n",
       "    </tr>\n",
       "    <tr>\n",
       "      <th>Z3_M_M2_TTTGTCATCTCAAGTG</th>\n",
       "      <td>2</td>\n",
       "      <td>262.0</td>\n",
       "      <td>119</td>\n",
       "      <td>262.0</td>\n",
       "      <td>0</td>\n",
       "      <td>0</td>\n",
       "      <td>0</td>\n",
       "      <td>0</td>\n",
       "      <td>1</td>\n",
       "      <td>0</td>\n",
       "    </tr>\n",
       "  </tbody>\n",
       "</table>\n",
       "<p>40712 rows × 10 columns</p>\n",
       "</div>"
      ],
      "text/plain": [
       "                          orig.ident  nCount_RNA  nFeature_RNA  n_counts  \\\n",
       "Z1_F_F1_AAACCTGAGAGACGAA           0       963.0           347     963.0   \n",
       "Z1_F_F1_AAACCTGAGGGCTTCC           0      1107.0           370    1107.0   \n",
       "Z1_F_F1_AAACCTGCAGGACGTA           0       726.0           268     726.0   \n",
       "Z1_F_F1_AAACCTGGTATTCGTG           0       370.0           164     370.0   \n",
       "Z1_F_F1_AAACCTGTCAAACCAC           0       352.0           153     352.0   \n",
       "...                              ...         ...           ...       ...   \n",
       "Z3_M_M2_TTTGTCAAGTGGTCCC           2       806.0           267     806.0   \n",
       "Z3_M_M2_TTTGTCACATCACAAC           2       336.0           160     336.0   \n",
       "Z3_M_M2_TTTGTCACATCGTCGG           2      1293.0           330    1293.0   \n",
       "Z3_M_M2_TTTGTCAGTAACGACG           2      1065.0           211    1065.0   \n",
       "Z3_M_M2_TTTGTCATCTCAAGTG           2       262.0           119     262.0   \n",
       "\n",
       "                         desc_0.2 desc_0.4 desc_0.6 desc_0.8 desc_1.4 desc_2.0  \n",
       "Z1_F_F1_AAACCTGAGAGACGAA        1        4       14       16       19       21  \n",
       "Z1_F_F1_AAACCTGAGGGCTTCC        1        4       14       16       19       21  \n",
       "Z1_F_F1_AAACCTGCAGGACGTA       14       18        3        2        2        1  \n",
       "Z1_F_F1_AAACCTGGTATTCGTG        0        0        3        2        2        2  \n",
       "Z1_F_F1_AAACCTGTCAAACCAC       14        0        3        2        3        2  \n",
       "...                           ...      ...      ...      ...      ...      ...  \n",
       "Z3_M_M2_TTTGTCAAGTGGTCCC        5        6        6       11       11       12  \n",
       "Z3_M_M2_TTTGTCACATCACAAC        0        0        0        0        1        0  \n",
       "Z3_M_M2_TTTGTCACATCGTCGG        3        2        2        5        6        7  \n",
       "Z3_M_M2_TTTGTCAGTAACGACG        2        1        1        1        0        5  \n",
       "Z3_M_M2_TTTGTCATCTCAAGTG        0        0        0        0        1        0  \n",
       "\n",
       "[40712 rows x 10 columns]"
      ]
     },
     "execution_count": 20,
     "metadata": {},
     "output_type": "execute_result"
    }
   ],
   "source": [
    "adata_train.obs"
   ]
  },
  {
   "cell_type": "code",
   "execution_count": 21,
   "metadata": {},
   "outputs": [
    {
     "data": {
      "text/html": [
       "<div>\n",
       "<style scoped>\n",
       "    .dataframe tbody tr th:only-of-type {\n",
       "        vertical-align: middle;\n",
       "    }\n",
       "\n",
       "    .dataframe tbody tr th {\n",
       "        vertical-align: top;\n",
       "    }\n",
       "\n",
       "    .dataframe thead th {\n",
       "        text-align: right;\n",
       "    }\n",
       "</style>\n",
       "<table border=\"1\" class=\"dataframe\">\n",
       "  <thead>\n",
       "    <tr style=\"text-align: right;\">\n",
       "      <th></th>\n",
       "      <th>features</th>\n",
       "      <th>mean</th>\n",
       "      <th>std</th>\n",
       "    </tr>\n",
       "  </thead>\n",
       "  <tbody>\n",
       "    <tr>\n",
       "      <th>Hbb-bt</th>\n",
       "      <td>Hbb-bt</td>\n",
       "      <td>0.238835</td>\n",
       "      <td>0.926993</td>\n",
       "    </tr>\n",
       "    <tr>\n",
       "      <th>S100a8</th>\n",
       "      <td>S100a8</td>\n",
       "      <td>0.060286</td>\n",
       "      <td>0.481082</td>\n",
       "    </tr>\n",
       "    <tr>\n",
       "      <th>Hba-a2</th>\n",
       "      <td>Hba-a2</td>\n",
       "      <td>0.428353</td>\n",
       "      <td>1.243389</td>\n",
       "    </tr>\n",
       "    <tr>\n",
       "      <th>S100a9</th>\n",
       "      <td>S100a9</td>\n",
       "      <td>0.056059</td>\n",
       "      <td>0.458779</td>\n",
       "    </tr>\n",
       "    <tr>\n",
       "      <th>Hba-a1</th>\n",
       "      <td>Hba-a1</td>\n",
       "      <td>0.492629</td>\n",
       "      <td>1.311441</td>\n",
       "    </tr>\n",
       "    <tr>\n",
       "      <th>...</th>\n",
       "      <td>...</td>\n",
       "      <td>...</td>\n",
       "      <td>...</td>\n",
       "    </tr>\n",
       "    <tr>\n",
       "      <th>Pmaip1</th>\n",
       "      <td>Pmaip1</td>\n",
       "      <td>0.082026</td>\n",
       "      <td>0.439037</td>\n",
       "    </tr>\n",
       "    <tr>\n",
       "      <th>Aoah</th>\n",
       "      <td>Aoah</td>\n",
       "      <td>0.062705</td>\n",
       "      <td>0.374850</td>\n",
       "    </tr>\n",
       "    <tr>\n",
       "      <th>Afm</th>\n",
       "      <td>Afm</td>\n",
       "      <td>0.095373</td>\n",
       "      <td>0.495678</td>\n",
       "    </tr>\n",
       "    <tr>\n",
       "      <th>Mthfd2l</th>\n",
       "      <td>Mthfd2l</td>\n",
       "      <td>0.064948</td>\n",
       "      <td>0.404011</td>\n",
       "    </tr>\n",
       "    <tr>\n",
       "      <th>Gm11789</th>\n",
       "      <td>Gm11789</td>\n",
       "      <td>0.040318</td>\n",
       "      <td>0.326937</td>\n",
       "    </tr>\n",
       "  </tbody>\n",
       "</table>\n",
       "<p>2977 rows × 3 columns</p>\n",
       "</div>"
      ],
      "text/plain": [
       "        features      mean       std\n",
       "Hbb-bt    Hbb-bt  0.238835  0.926993\n",
       "S100a8    S100a8  0.060286  0.481082\n",
       "Hba-a2    Hba-a2  0.428353  1.243389\n",
       "S100a9    S100a9  0.056059  0.458779\n",
       "Hba-a1    Hba-a1  0.492629  1.311441\n",
       "...          ...       ...       ...\n",
       "Pmaip1    Pmaip1  0.082026  0.439037\n",
       "Aoah        Aoah  0.062705  0.374850\n",
       "Afm          Afm  0.095373  0.495678\n",
       "Mthfd2l  Mthfd2l  0.064948  0.404011\n",
       "Gm11789  Gm11789  0.040318  0.326937\n",
       "\n",
       "[2977 rows x 3 columns]"
      ]
     },
     "execution_count": 21,
     "metadata": {},
     "output_type": "execute_result"
    }
   ],
   "source": [
    "adata_train.var"
   ]
  },
  {
   "cell_type": "code",
   "execution_count": 22,
   "metadata": {},
   "outputs": [
    {
     "name": "stdout",
     "output_type": "stream",
     "text": [
      "  (0, 8)\t3.0\n",
      "  (0, 13)\t1.0\n",
      "  (0, 16)\t1.0\n",
      "  (0, 20)\t1.0\n",
      "  (0, 29)\t1.0\n",
      "  (0, 52)\t1.0\n",
      "  (0, 62)\t1.0\n",
      "  (0, 63)\t1.0\n",
      "  (0, 70)\t1.0\n",
      "  (0, 113)\t1.0\n",
      "  (0, 117)\t1.0\n",
      "  (0, 153)\t1.0\n",
      "  (0, 179)\t2.0\n",
      "  (0, 188)\t1.0\n",
      "  (0, 227)\t4.0\n",
      "  (0, 246)\t1.0\n",
      "  (0, 338)\t1.0\n",
      "  (0, 340)\t1.0\n",
      "  (0, 341)\t1.0\n",
      "  (0, 369)\t1.0\n",
      "  (0, 372)\t1.0\n",
      "  (0, 377)\t1.0\n",
      "  (0, 400)\t1.0\n",
      "  (0, 428)\t1.0\n",
      "  (0, 458)\t8.0\n",
      "  :\t:\n",
      "  (40711, 27301)\t1.0\n",
      "  (40711, 27315)\t2.0\n",
      "  (40711, 27319)\t1.0\n",
      "  (40711, 27321)\t1.0\n",
      "  (40711, 27340)\t1.0\n",
      "  (40711, 27346)\t3.0\n",
      "  (40711, 27506)\t1.0\n",
      "  (40711, 27512)\t1.0\n",
      "  (40711, 27584)\t1.0\n",
      "  (40711, 27594)\t1.0\n",
      "  (40711, 27614)\t1.0\n",
      "  (40711, 27754)\t1.0\n",
      "  (40711, 27806)\t1.0\n",
      "  (40711, 27814)\t1.0\n",
      "  (40711, 27847)\t1.0\n",
      "  (40711, 27848)\t1.0\n",
      "  (40711, 27908)\t11.0\n",
      "  (40711, 27909)\t3.0\n",
      "  (40711, 27910)\t9.0\n",
      "  (40711, 27911)\t4.0\n",
      "  (40711, 27913)\t16.0\n",
      "  (40711, 27914)\t19.0\n",
      "  (40711, 27915)\t3.0\n",
      "  (40711, 27917)\t2.0\n",
      "  (40711, 27920)\t3.0\n"
     ]
    }
   ],
   "source": [
    "print(adata.raw.X)"
   ]
  },
  {
   "cell_type": "code",
   "execution_count": 23,
   "metadata": {},
   "outputs": [
    {
     "name": "stdout",
     "output_type": "stream",
     "text": [
      "  (0, 5)\t2.0\n",
      "  (0, 8)\t4.0\n",
      "  (0, 12)\t2.0\n",
      "  (0, 15)\t1.0\n",
      "  (0, 21)\t6.0\n",
      "  (0, 24)\t1.0\n",
      "  (0, 59)\t5.0\n",
      "  (0, 110)\t1.0\n",
      "  (0, 115)\t2.0\n",
      "  (0, 118)\t2.0\n",
      "  (0, 122)\t2.0\n",
      "  (0, 128)\t5.0\n",
      "  (0, 141)\t6.0\n",
      "  (0, 155)\t12.0\n",
      "  (0, 156)\t11.0\n",
      "  (0, 160)\t10.0\n",
      "  (0, 165)\t3.0\n",
      "  (0, 166)\t24.0\n",
      "  (0, 173)\t7.0\n",
      "  (0, 179)\t11.0\n",
      "  (0, 187)\t13.0\n",
      "  (0, 189)\t1.0\n",
      "  (0, 193)\t10.0\n",
      "  (0, 200)\t3.0\n",
      "  (0, 220)\t2.0\n",
      "  :\t:\n",
      "  (40711, 2388)\t1.0\n",
      "  (40711, 2393)\t1.0\n",
      "  (40711, 2424)\t1.0\n",
      "  (40711, 2426)\t1.0\n",
      "  (40711, 2439)\t7.0\n",
      "  (40711, 2445)\t1.0\n",
      "  (40711, 2503)\t1.0\n",
      "  (40711, 2584)\t1.0\n",
      "  (40711, 2592)\t6.0\n",
      "  (40711, 2611)\t3.0\n",
      "  (40711, 2612)\t1.0\n",
      "  (40711, 2647)\t1.0\n",
      "  (40711, 2687)\t1.0\n",
      "  (40711, 2727)\t7.0\n",
      "  (40711, 2741)\t2.0\n",
      "  (40711, 2767)\t2.0\n",
      "  (40711, 2769)\t1.0\n",
      "  (40711, 2773)\t2.0\n",
      "  (40711, 2777)\t1.0\n",
      "  (40711, 2810)\t1.0\n",
      "  (40711, 2813)\t1.0\n",
      "  (40711, 2922)\t2.0\n",
      "  (40711, 2938)\t1.0\n",
      "  (40711, 2940)\t2.0\n",
      "  (40711, 2961)\t2.0\n"
     ]
    }
   ],
   "source": [
    "print(adata_train.raw.X)"
   ]
  },
  {
   "cell_type": "code",
   "execution_count": 24,
   "metadata": {},
   "outputs": [
    {
     "data": {
      "text/plain": [
       "array([[0., 0., 0., ..., 0., 0., 0.],\n",
       "       [0., 0., 0., ..., 0., 0., 0.],\n",
       "       [0., 0., 0., ..., 0., 0., 0.],\n",
       "       ...,\n",
       "       [0., 0., 0., ..., 0., 0., 0.],\n",
       "       [0., 0., 0., ..., 0., 0., 0.],\n",
       "       [0., 0., 0., ..., 0., 0., 0.]])"
      ]
     },
     "execution_count": 24,
     "metadata": {},
     "output_type": "execute_result"
    }
   ],
   "source": [
    "################新变量###############\n",
    "#adata.raw.X赋给adata_train.X\n",
    "import scipy.sparse\n",
    "my_matrix=adata.raw.X\n",
    "type(my_matrix)\n",
    "my_array=my_matrix.A\n",
    "my_array"
   ]
  },
  {
   "cell_type": "code",
   "execution_count": 25,
   "metadata": {},
   "outputs": [
    {
     "data": {
      "text/plain": [
       "AnnData object with n_obs × n_vars = 40712 × 27998\n",
       "    obs: 'orig.ident', 'nCount_RNA', 'nFeature_RNA'\n",
       "    var: 'features'\n",
       "    uns: 'prob_matrix0.2', 'prob_matrix0.4', 'prob_matrix0.6', 'prob_matrix0.8', 'prob_matrix1.4', 'prob_matrix2.0', 'umap'\n",
       "    obsm: 'X_Embeded_z0.2', 'X_Embeded_z0.4', 'X_Embeded_z0.6', 'X_Embeded_z0.8', 'X_Embeded_z1.4', 'X_Embeded_z2.0', 'X_tsne', 'X_tsne0.2', 'X_tsne0.4', 'X_tsne0.6', 'X_tsne0.8', 'X_tsne1.4', 'X_tsne2.0', 'X_umap', 'X_umap0.2', 'X_umap0.4', 'X_umap0.6', 'X_umap0.8', 'X_umap1.4', 'X_umap2.0'\n",
       "    obsp: 'connectivities', 'distances'"
      ]
     },
     "execution_count": 25,
     "metadata": {},
     "output_type": "execute_result"
    }
   ],
   "source": [
    "#adata_train.X换成adata.raw.X,adata_train.var换成adata.var\n",
    "adata_trainnew = ad.AnnData(my_array, obs=adata.obs, var=adata.var)\n",
    "adata_trainnew.uns=adata_train.uns\n",
    "adata_trainnew.obsm=adata_train.obsm\n",
    "adata_trainnew.obsp=adata_train.obsp\n",
    "adata_trainnew.obs\n",
    "adata_trainnew"
   ]
  },
  {
   "cell_type": "code",
   "execution_count": 26,
   "metadata": {},
   "outputs": [
    {
     "data": {
      "text/plain": [
       "numpy.ndarray"
      ]
     },
     "execution_count": 26,
     "metadata": {},
     "output_type": "execute_result"
    }
   ],
   "source": [
    "type(adata_trainnew.X)"
   ]
  },
  {
   "cell_type": "code",
   "execution_count": 27,
   "metadata": {},
   "outputs": [
    {
     "name": "stdout",
     "output_type": "stream",
     "text": [
      "None\n"
     ]
    }
   ],
   "source": [
    "print(adata_trainnew.raw)"
   ]
  },
  {
   "cell_type": "code",
   "execution_count": 28,
   "metadata": {},
   "outputs": [
    {
     "name": "stdout",
     "output_type": "stream",
     "text": [
      "Raw AnnData with n_obs × n_vars = 40712 × 27998\n",
      "    var: '_index'\n"
     ]
    }
   ],
   "source": [
    "print(adata.raw)"
   ]
  },
  {
   "cell_type": "code",
   "execution_count": 29,
   "metadata": {},
   "outputs": [
    {
     "data": {
      "text/plain": [
       "Index(['0', '1', '2', '3', '4', '5', '6', '7', '8', '9',\n",
       "       ...\n",
       "       '27988', '27989', '27990', '27991', '27992', '27993', '27994', '27995',\n",
       "       '27996', '27997'],\n",
       "      dtype='object', length=27998)"
      ]
     },
     "execution_count": 29,
     "metadata": {},
     "output_type": "execute_result"
    }
   ],
   "source": [
    "adata.raw.var.index"
   ]
  },
  {
   "cell_type": "code",
   "execution_count": 30,
   "metadata": {},
   "outputs": [],
   "source": [
    "adata_trainnew.raw"
   ]
  },
  {
   "cell_type": "code",
   "execution_count": 31,
   "metadata": {},
   "outputs": [
    {
     "data": {
      "text/plain": [
       "Index(['Xkr4', 'Gm1992', 'Gm37381', 'Rp1', 'Rp1.1', 'Sox17', 'Gm37323',\n",
       "       'Mrpl15', 'Lypla1', 'Gm37988',\n",
       "       ...\n",
       "       'AC125149.1', 'AC125149.2', 'AC125149.4', 'AC234645.1', 'AC168977.2',\n",
       "       'AC168977.1', 'PISD', 'DHRSX', 'Vmn2r122', 'CAAA01147332.1'],\n",
       "      dtype='object', length=27998)"
      ]
     },
     "execution_count": 31,
     "metadata": {},
     "output_type": "execute_result"
    }
   ],
   "source": [
    "adata_trainnew.var.index"
   ]
  },
  {
   "cell_type": "code",
   "execution_count": 32,
   "metadata": {},
   "outputs": [
    {
     "data": {
      "text/html": [
       "<div>\n",
       "<style scoped>\n",
       "    .dataframe tbody tr th:only-of-type {\n",
       "        vertical-align: middle;\n",
       "    }\n",
       "\n",
       "    .dataframe tbody tr th {\n",
       "        vertical-align: top;\n",
       "    }\n",
       "\n",
       "    .dataframe thead th {\n",
       "        text-align: right;\n",
       "    }\n",
       "</style>\n",
       "<table border=\"1\" class=\"dataframe\">\n",
       "  <thead>\n",
       "    <tr style=\"text-align: right;\">\n",
       "      <th></th>\n",
       "      <th>_index</th>\n",
       "    </tr>\n",
       "  </thead>\n",
       "  <tbody>\n",
       "    <tr>\n",
       "      <th>Xkr4</th>\n",
       "      <td>Xkr4</td>\n",
       "    </tr>\n",
       "    <tr>\n",
       "      <th>Gm1992</th>\n",
       "      <td>Gm1992</td>\n",
       "    </tr>\n",
       "    <tr>\n",
       "      <th>Gm37381</th>\n",
       "      <td>Gm37381</td>\n",
       "    </tr>\n",
       "    <tr>\n",
       "      <th>Rp1</th>\n",
       "      <td>Rp1</td>\n",
       "    </tr>\n",
       "    <tr>\n",
       "      <th>Rp1.1</th>\n",
       "      <td>Rp1.1</td>\n",
       "    </tr>\n",
       "    <tr>\n",
       "      <th>...</th>\n",
       "      <td>...</td>\n",
       "    </tr>\n",
       "    <tr>\n",
       "      <th>AC168977.1</th>\n",
       "      <td>AC168977.1</td>\n",
       "    </tr>\n",
       "    <tr>\n",
       "      <th>PISD</th>\n",
       "      <td>PISD</td>\n",
       "    </tr>\n",
       "    <tr>\n",
       "      <th>DHRSX</th>\n",
       "      <td>DHRSX</td>\n",
       "    </tr>\n",
       "    <tr>\n",
       "      <th>Vmn2r122</th>\n",
       "      <td>Vmn2r122</td>\n",
       "    </tr>\n",
       "    <tr>\n",
       "      <th>CAAA01147332.1</th>\n",
       "      <td>CAAA01147332.1</td>\n",
       "    </tr>\n",
       "  </tbody>\n",
       "</table>\n",
       "<p>27998 rows × 1 columns</p>\n",
       "</div>"
      ],
      "text/plain": [
       "                        _index\n",
       "Xkr4                      Xkr4\n",
       "Gm1992                  Gm1992\n",
       "Gm37381                Gm37381\n",
       "Rp1                        Rp1\n",
       "Rp1.1                    Rp1.1\n",
       "...                        ...\n",
       "AC168977.1          AC168977.1\n",
       "PISD                      PISD\n",
       "DHRSX                    DHRSX\n",
       "Vmn2r122              Vmn2r122\n",
       "CAAA01147332.1  CAAA01147332.1\n",
       "\n",
       "[27998 rows x 1 columns]"
      ]
     },
     "execution_count": 32,
     "metadata": {},
     "output_type": "execute_result"
    }
   ],
   "source": [
    "#INDEX\n",
    "adata.raw.var.index = adata_trainnew.var.index\n",
    "adata.raw.var"
   ]
  },
  {
   "cell_type": "code",
   "execution_count": 33,
   "metadata": {},
   "outputs": [
    {
     "data": {
      "text/html": [
       "<div>\n",
       "<style scoped>\n",
       "    .dataframe tbody tr th:only-of-type {\n",
       "        vertical-align: middle;\n",
       "    }\n",
       "\n",
       "    .dataframe tbody tr th {\n",
       "        vertical-align: top;\n",
       "    }\n",
       "\n",
       "    .dataframe thead th {\n",
       "        text-align: right;\n",
       "    }\n",
       "</style>\n",
       "<table border=\"1\" class=\"dataframe\">\n",
       "  <thead>\n",
       "    <tr style=\"text-align: right;\">\n",
       "      <th></th>\n",
       "      <th>features</th>\n",
       "    </tr>\n",
       "  </thead>\n",
       "  <tbody>\n",
       "    <tr>\n",
       "      <th>Xkr4</th>\n",
       "      <td>Xkr4</td>\n",
       "    </tr>\n",
       "    <tr>\n",
       "      <th>Gm1992</th>\n",
       "      <td>Gm1992</td>\n",
       "    </tr>\n",
       "    <tr>\n",
       "      <th>Gm37381</th>\n",
       "      <td>Gm37381</td>\n",
       "    </tr>\n",
       "    <tr>\n",
       "      <th>Rp1</th>\n",
       "      <td>Rp1</td>\n",
       "    </tr>\n",
       "    <tr>\n",
       "      <th>Rp1.1</th>\n",
       "      <td>Rp1.1</td>\n",
       "    </tr>\n",
       "    <tr>\n",
       "      <th>...</th>\n",
       "      <td>...</td>\n",
       "    </tr>\n",
       "    <tr>\n",
       "      <th>AC168977.1</th>\n",
       "      <td>AC168977.1</td>\n",
       "    </tr>\n",
       "    <tr>\n",
       "      <th>PISD</th>\n",
       "      <td>PISD</td>\n",
       "    </tr>\n",
       "    <tr>\n",
       "      <th>DHRSX</th>\n",
       "      <td>DHRSX</td>\n",
       "    </tr>\n",
       "    <tr>\n",
       "      <th>Vmn2r122</th>\n",
       "      <td>Vmn2r122</td>\n",
       "    </tr>\n",
       "    <tr>\n",
       "      <th>CAAA01147332.1</th>\n",
       "      <td>CAAA01147332.1</td>\n",
       "    </tr>\n",
       "  </tbody>\n",
       "</table>\n",
       "<p>27998 rows × 1 columns</p>\n",
       "</div>"
      ],
      "text/plain": [
       "                      features\n",
       "Xkr4                      Xkr4\n",
       "Gm1992                  Gm1992\n",
       "Gm37381                Gm37381\n",
       "Rp1                        Rp1\n",
       "Rp1.1                    Rp1.1\n",
       "...                        ...\n",
       "AC168977.1          AC168977.1\n",
       "PISD                      PISD\n",
       "DHRSX                    DHRSX\n",
       "Vmn2r122              Vmn2r122\n",
       "CAAA01147332.1  CAAA01147332.1\n",
       "\n",
       "[27998 rows x 1 columns]"
      ]
     },
     "execution_count": 33,
     "metadata": {},
     "output_type": "execute_result"
    }
   ],
   "source": [
    "adata.__dict__['_raw'].__dict__['_var'] = adata.__dict__['_raw'].__dict__['_var'].rename(columns={'_index': 'features'})\n",
    "adata.raw.var"
   ]
  },
  {
   "cell_type": "code",
   "execution_count": 36,
   "metadata": {},
   "outputs": [
    {
     "data": {
      "text/plain": [
       "<anndata._core.raw.Raw at 0x7ff4828fb588>"
      ]
     },
     "execution_count": 36,
     "metadata": {},
     "output_type": "execute_result"
    }
   ],
   "source": [
    "#adata.raw赋给adata_trainnew\n",
    "adata_trainnew.raw = adata\n",
    "adata_trainnew.raw"
   ]
  },
  {
   "cell_type": "code",
   "execution_count": 37,
   "metadata": {},
   "outputs": [
    {
     "name": "stdout",
     "output_type": "stream",
     "text": [
      "Raw AnnData with n_obs × n_vars = 40712 × 27998\n",
      "    var: 'features'\n"
     ]
    }
   ],
   "source": [
    "print(adata_trainnew.raw)"
   ]
  },
  {
   "cell_type": "code",
   "execution_count": 38,
   "metadata": {},
   "outputs": [
    {
     "data": {
      "text/html": [
       "<div>\n",
       "<style scoped>\n",
       "    .dataframe tbody tr th:only-of-type {\n",
       "        vertical-align: middle;\n",
       "    }\n",
       "\n",
       "    .dataframe tbody tr th {\n",
       "        vertical-align: top;\n",
       "    }\n",
       "\n",
       "    .dataframe thead th {\n",
       "        text-align: right;\n",
       "    }\n",
       "</style>\n",
       "<table border=\"1\" class=\"dataframe\">\n",
       "  <thead>\n",
       "    <tr style=\"text-align: right;\">\n",
       "      <th></th>\n",
       "      <th>features</th>\n",
       "    </tr>\n",
       "  </thead>\n",
       "  <tbody>\n",
       "    <tr>\n",
       "      <th>Xkr4</th>\n",
       "      <td>Xkr4</td>\n",
       "    </tr>\n",
       "    <tr>\n",
       "      <th>Gm1992</th>\n",
       "      <td>Gm1992</td>\n",
       "    </tr>\n",
       "    <tr>\n",
       "      <th>Gm37381</th>\n",
       "      <td>Gm37381</td>\n",
       "    </tr>\n",
       "    <tr>\n",
       "      <th>Rp1</th>\n",
       "      <td>Rp1</td>\n",
       "    </tr>\n",
       "    <tr>\n",
       "      <th>Rp1.1</th>\n",
       "      <td>Rp1.1</td>\n",
       "    </tr>\n",
       "    <tr>\n",
       "      <th>...</th>\n",
       "      <td>...</td>\n",
       "    </tr>\n",
       "    <tr>\n",
       "      <th>AC168977.1</th>\n",
       "      <td>AC168977.1</td>\n",
       "    </tr>\n",
       "    <tr>\n",
       "      <th>PISD</th>\n",
       "      <td>PISD</td>\n",
       "    </tr>\n",
       "    <tr>\n",
       "      <th>DHRSX</th>\n",
       "      <td>DHRSX</td>\n",
       "    </tr>\n",
       "    <tr>\n",
       "      <th>Vmn2r122</th>\n",
       "      <td>Vmn2r122</td>\n",
       "    </tr>\n",
       "    <tr>\n",
       "      <th>CAAA01147332.1</th>\n",
       "      <td>CAAA01147332.1</td>\n",
       "    </tr>\n",
       "  </tbody>\n",
       "</table>\n",
       "<p>27998 rows × 1 columns</p>\n",
       "</div>"
      ],
      "text/plain": [
       "                      features\n",
       "Xkr4                      Xkr4\n",
       "Gm1992                  Gm1992\n",
       "Gm37381                Gm37381\n",
       "Rp1                        Rp1\n",
       "Rp1.1                    Rp1.1\n",
       "...                        ...\n",
       "AC168977.1          AC168977.1\n",
       "PISD                      PISD\n",
       "DHRSX                    DHRSX\n",
       "Vmn2r122              Vmn2r122\n",
       "CAAA01147332.1  CAAA01147332.1\n",
       "\n",
       "[27998 rows x 1 columns]"
      ]
     },
     "execution_count": 38,
     "metadata": {},
     "output_type": "execute_result"
    }
   ],
   "source": [
    "adata_trainnew.raw.var"
   ]
  },
  {
   "cell_type": "code",
   "execution_count": 39,
   "metadata": {},
   "outputs": [
    {
     "data": {
      "text/plain": [
       "AnnData object with n_obs × n_vars = 40712 × 27998\n",
       "    obs: 'orig.ident', 'nCount_RNA', 'nFeature_RNA'\n",
       "    var: 'features'\n",
       "    uns: 'prob_matrix0.2', 'prob_matrix0.4', 'prob_matrix0.6', 'prob_matrix0.8', 'prob_matrix1.4', 'prob_matrix2.0', 'umap'\n",
       "    obsm: 'X_Embeded_z0.2', 'X_Embeded_z0.4', 'X_Embeded_z0.6', 'X_Embeded_z0.8', 'X_Embeded_z1.4', 'X_Embeded_z2.0', 'X_tsne', 'X_tsne0.2', 'X_tsne0.4', 'X_tsne0.6', 'X_tsne0.8', 'X_tsne1.4', 'X_tsne2.0', 'X_umap', 'X_umap0.2', 'X_umap0.4', 'X_umap0.6', 'X_umap0.8', 'X_umap1.4', 'X_umap2.0'\n",
       "    obsp: 'connectivities', 'distances'"
      ]
     },
     "execution_count": 39,
     "metadata": {},
     "output_type": "execute_result"
    }
   ],
   "source": [
    "adata_trainnew"
   ]
  },
  {
   "cell_type": "code",
   "execution_count": 40,
   "metadata": {},
   "outputs": [
    {
     "data": {
      "text/html": [
       "<div>\n",
       "<style scoped>\n",
       "    .dataframe tbody tr th:only-of-type {\n",
       "        vertical-align: middle;\n",
       "    }\n",
       "\n",
       "    .dataframe tbody tr th {\n",
       "        vertical-align: top;\n",
       "    }\n",
       "\n",
       "    .dataframe thead th {\n",
       "        text-align: right;\n",
       "    }\n",
       "</style>\n",
       "<table border=\"1\" class=\"dataframe\">\n",
       "  <thead>\n",
       "    <tr style=\"text-align: right;\">\n",
       "      <th></th>\n",
       "      <th>orig.ident</th>\n",
       "      <th>nCount_RNA</th>\n",
       "      <th>nFeature_RNA</th>\n",
       "    </tr>\n",
       "  </thead>\n",
       "  <tbody>\n",
       "    <tr>\n",
       "      <th>Z1_F_F1_AAACCTGAGAGACGAA</th>\n",
       "      <td>0</td>\n",
       "      <td>5989.0</td>\n",
       "      <td>1712</td>\n",
       "    </tr>\n",
       "    <tr>\n",
       "      <th>Z1_F_F1_AAACCTGAGGGCTTCC</th>\n",
       "      <td>0</td>\n",
       "      <td>4752.0</td>\n",
       "      <td>1633</td>\n",
       "    </tr>\n",
       "    <tr>\n",
       "      <th>Z1_F_F1_AAACCTGCAGGACGTA</th>\n",
       "      <td>0</td>\n",
       "      <td>4624.0</td>\n",
       "      <td>2136</td>\n",
       "    </tr>\n",
       "    <tr>\n",
       "      <th>Z1_F_F1_AAACCTGGTATTCGTG</th>\n",
       "      <td>0</td>\n",
       "      <td>2126.0</td>\n",
       "      <td>1204</td>\n",
       "    </tr>\n",
       "    <tr>\n",
       "      <th>Z1_F_F1_AAACCTGTCAAACCAC</th>\n",
       "      <td>0</td>\n",
       "      <td>1742.0</td>\n",
       "      <td>1013</td>\n",
       "    </tr>\n",
       "    <tr>\n",
       "      <th>...</th>\n",
       "      <td>...</td>\n",
       "      <td>...</td>\n",
       "      <td>...</td>\n",
       "    </tr>\n",
       "    <tr>\n",
       "      <th>Z3_M_M2_TTTGTCAAGTGGTCCC</th>\n",
       "      <td>2</td>\n",
       "      <td>4284.0</td>\n",
       "      <td>1903</td>\n",
       "    </tr>\n",
       "    <tr>\n",
       "      <th>Z3_M_M2_TTTGTCACATCACAAC</th>\n",
       "      <td>2</td>\n",
       "      <td>2772.0</td>\n",
       "      <td>1234</td>\n",
       "    </tr>\n",
       "    <tr>\n",
       "      <th>Z3_M_M2_TTTGTCACATCGTCGG</th>\n",
       "      <td>2</td>\n",
       "      <td>6254.0</td>\n",
       "      <td>2466</td>\n",
       "    </tr>\n",
       "    <tr>\n",
       "      <th>Z3_M_M2_TTTGTCAGTAACGACG</th>\n",
       "      <td>2</td>\n",
       "      <td>3379.0</td>\n",
       "      <td>1303</td>\n",
       "    </tr>\n",
       "    <tr>\n",
       "      <th>Z3_M_M2_TTTGTCATCTCAAGTG</th>\n",
       "      <td>2</td>\n",
       "      <td>1538.0</td>\n",
       "      <td>826</td>\n",
       "    </tr>\n",
       "  </tbody>\n",
       "</table>\n",
       "<p>40712 rows × 3 columns</p>\n",
       "</div>"
      ],
      "text/plain": [
       "                          orig.ident  nCount_RNA  nFeature_RNA\n",
       "Z1_F_F1_AAACCTGAGAGACGAA           0      5989.0          1712\n",
       "Z1_F_F1_AAACCTGAGGGCTTCC           0      4752.0          1633\n",
       "Z1_F_F1_AAACCTGCAGGACGTA           0      4624.0          2136\n",
       "Z1_F_F1_AAACCTGGTATTCGTG           0      2126.0          1204\n",
       "Z1_F_F1_AAACCTGTCAAACCAC           0      1742.0          1013\n",
       "...                              ...         ...           ...\n",
       "Z3_M_M2_TTTGTCAAGTGGTCCC           2      4284.0          1903\n",
       "Z3_M_M2_TTTGTCACATCACAAC           2      2772.0          1234\n",
       "Z3_M_M2_TTTGTCACATCGTCGG           2      6254.0          2466\n",
       "Z3_M_M2_TTTGTCAGTAACGACG           2      3379.0          1303\n",
       "Z3_M_M2_TTTGTCATCTCAAGTG           2      1538.0           826\n",
       "\n",
       "[40712 rows x 3 columns]"
      ]
     },
     "execution_count": 40,
     "metadata": {},
     "output_type": "execute_result"
    }
   ],
   "source": [
    "adata_trainnew.obs"
   ]
  },
  {
   "cell_type": "code",
   "execution_count": 42,
   "metadata": {},
   "outputs": [],
   "source": [
    "adata_trainnew.obs['desc_0.8']=adata_train.obs['desc_0.8']"
   ]
  },
  {
   "cell_type": "code",
   "execution_count": 43,
   "metadata": {},
   "outputs": [
    {
     "data": {
      "text/plain": [
       "Index(['Xkr4', 'Gm1992', 'Gm37381', 'Rp1', 'Rp1.1', 'Sox17', 'Gm37323',\n",
       "       'Mrpl15', 'Lypla1', 'Gm37988',\n",
       "       ...\n",
       "       'AC125149.1', 'AC125149.2', 'AC125149.4', 'AC234645.1', 'AC168977.2',\n",
       "       'AC168977.1', 'PISD', 'DHRSX', 'Vmn2r122', 'CAAA01147332.1'],\n",
       "      dtype='object', length=27998)"
      ]
     },
     "execution_count": 43,
     "metadata": {},
     "output_type": "execute_result"
    }
   ],
   "source": [
    "adata_trainnew.var_names"
   ]
  },
  {
   "cell_type": "code",
   "execution_count": 8,
   "metadata": {},
   "outputs": [],
   "source": [
    "#adata_trainnew.obs_names=adata.obs_names"
   ]
  },
  {
   "cell_type": "code",
   "execution_count": 45,
   "metadata": {},
   "outputs": [],
   "source": [
    "#adata_trainnew.write_h5ad('/home/huggs/shiyi/SCST/RCTD/RCTD/c2l_brain/test/sc_desc_new.h5ad')\n",
    "adata_trainnew.write_h5ad('/home/huggs/shiyi/SCST/RCTD/RCTD/predata/celltrek_kidney/mymodel/6_DE/sc_desc_anno.h5ad')"
   ]
  },
  {
   "cell_type": "code",
   "execution_count": 2,
   "metadata": {},
   "outputs": [],
   "source": [
    "adata_trainnew=sc.read_h5ad('/home/huggs/shiyi/SCST/RCTD/RCTD/predata/celltrek_kidney/mymodel/6_DE/sc_desc_anno.h5ad')"
   ]
  },
  {
   "cell_type": "code",
   "execution_count": 7,
   "metadata": {},
   "outputs": [
    {
     "data": {
      "text/plain": [
       "AnnData object with n_obs × n_vars = 40712 × 27998\n",
       "    obs: 'orig.ident', 'nCount_RNA', 'nFeature_RNA', 'desc_0.8'\n",
       "    var: 'features'\n",
       "    uns: 'prob_matrix0.2', 'prob_matrix0.4', 'prob_matrix0.6', 'prob_matrix0.8', 'prob_matrix1.4', 'prob_matrix2.0', 'umap'\n",
       "    obsm: 'X_Embeded_z0.2', 'X_Embeded_z0.4', 'X_Embeded_z0.6', 'X_Embeded_z0.8', 'X_Embeded_z1.4', 'X_Embeded_z2.0', 'X_tsne', 'X_tsne0.2', 'X_tsne0.4', 'X_tsne0.6', 'X_tsne0.8', 'X_tsne1.4', 'X_tsne2.0', 'X_umap', 'X_umap0.2', 'X_umap0.4', 'X_umap0.6', 'X_umap0.8', 'X_umap1.4', 'X_umap2.0'\n",
       "    obsp: 'connectivities', 'distances'"
      ]
     },
     "execution_count": 7,
     "metadata": {},
     "output_type": "execute_result"
    }
   ],
   "source": [
    "adata_trainnew"
   ]
  },
  {
   "cell_type": "code",
   "execution_count": 6,
   "metadata": {},
   "outputs": [
    {
     "data": {
      "text/html": [
       "<div>\n",
       "<style scoped>\n",
       "    .dataframe tbody tr th:only-of-type {\n",
       "        vertical-align: middle;\n",
       "    }\n",
       "\n",
       "    .dataframe tbody tr th {\n",
       "        vertical-align: top;\n",
       "    }\n",
       "\n",
       "    .dataframe thead th {\n",
       "        text-align: right;\n",
       "    }\n",
       "</style>\n",
       "<table border=\"1\" class=\"dataframe\">\n",
       "  <thead>\n",
       "    <tr style=\"text-align: right;\">\n",
       "      <th></th>\n",
       "      <th>orig.ident</th>\n",
       "      <th>nCount_RNA</th>\n",
       "      <th>nFeature_RNA</th>\n",
       "      <th>desc_0.8</th>\n",
       "    </tr>\n",
       "  </thead>\n",
       "  <tbody>\n",
       "    <tr>\n",
       "      <th>Z1_F_F1_AAACCTGAGAGACGAA</th>\n",
       "      <td>0</td>\n",
       "      <td>5989.0</td>\n",
       "      <td>1712</td>\n",
       "      <td>16</td>\n",
       "    </tr>\n",
       "    <tr>\n",
       "      <th>Z1_F_F1_AAACCTGAGGGCTTCC</th>\n",
       "      <td>0</td>\n",
       "      <td>4752.0</td>\n",
       "      <td>1633</td>\n",
       "      <td>16</td>\n",
       "    </tr>\n",
       "    <tr>\n",
       "      <th>Z1_F_F1_AAACCTGCAGGACGTA</th>\n",
       "      <td>0</td>\n",
       "      <td>4624.0</td>\n",
       "      <td>2136</td>\n",
       "      <td>2</td>\n",
       "    </tr>\n",
       "    <tr>\n",
       "      <th>Z1_F_F1_AAACCTGGTATTCGTG</th>\n",
       "      <td>0</td>\n",
       "      <td>2126.0</td>\n",
       "      <td>1204</td>\n",
       "      <td>2</td>\n",
       "    </tr>\n",
       "    <tr>\n",
       "      <th>Z1_F_F1_AAACCTGTCAAACCAC</th>\n",
       "      <td>0</td>\n",
       "      <td>1742.0</td>\n",
       "      <td>1013</td>\n",
       "      <td>2</td>\n",
       "    </tr>\n",
       "    <tr>\n",
       "      <th>...</th>\n",
       "      <td>...</td>\n",
       "      <td>...</td>\n",
       "      <td>...</td>\n",
       "      <td>...</td>\n",
       "    </tr>\n",
       "    <tr>\n",
       "      <th>Z3_M_M2_TTTGTCAAGTGGTCCC</th>\n",
       "      <td>2</td>\n",
       "      <td>4284.0</td>\n",
       "      <td>1903</td>\n",
       "      <td>11</td>\n",
       "    </tr>\n",
       "    <tr>\n",
       "      <th>Z3_M_M2_TTTGTCACATCACAAC</th>\n",
       "      <td>2</td>\n",
       "      <td>2772.0</td>\n",
       "      <td>1234</td>\n",
       "      <td>0</td>\n",
       "    </tr>\n",
       "    <tr>\n",
       "      <th>Z3_M_M2_TTTGTCACATCGTCGG</th>\n",
       "      <td>2</td>\n",
       "      <td>6254.0</td>\n",
       "      <td>2466</td>\n",
       "      <td>5</td>\n",
       "    </tr>\n",
       "    <tr>\n",
       "      <th>Z3_M_M2_TTTGTCAGTAACGACG</th>\n",
       "      <td>2</td>\n",
       "      <td>3379.0</td>\n",
       "      <td>1303</td>\n",
       "      <td>1</td>\n",
       "    </tr>\n",
       "    <tr>\n",
       "      <th>Z3_M_M2_TTTGTCATCTCAAGTG</th>\n",
       "      <td>2</td>\n",
       "      <td>1538.0</td>\n",
       "      <td>826</td>\n",
       "      <td>0</td>\n",
       "    </tr>\n",
       "  </tbody>\n",
       "</table>\n",
       "<p>40712 rows × 4 columns</p>\n",
       "</div>"
      ],
      "text/plain": [
       "                          orig.ident  nCount_RNA  nFeature_RNA desc_0.8\n",
       "Z1_F_F1_AAACCTGAGAGACGAA           0      5989.0          1712       16\n",
       "Z1_F_F1_AAACCTGAGGGCTTCC           0      4752.0          1633       16\n",
       "Z1_F_F1_AAACCTGCAGGACGTA           0      4624.0          2136        2\n",
       "Z1_F_F1_AAACCTGGTATTCGTG           0      2126.0          1204        2\n",
       "Z1_F_F1_AAACCTGTCAAACCAC           0      1742.0          1013        2\n",
       "...                              ...         ...           ...      ...\n",
       "Z3_M_M2_TTTGTCAAGTGGTCCC           2      4284.0          1903       11\n",
       "Z3_M_M2_TTTGTCACATCACAAC           2      2772.0          1234        0\n",
       "Z3_M_M2_TTTGTCACATCGTCGG           2      6254.0          2466        5\n",
       "Z3_M_M2_TTTGTCAGTAACGACG           2      3379.0          1303        1\n",
       "Z3_M_M2_TTTGTCATCTCAAGTG           2      1538.0           826        0\n",
       "\n",
       "[40712 rows x 4 columns]"
      ]
     },
     "execution_count": 6,
     "metadata": {},
     "output_type": "execute_result"
    }
   ],
   "source": [
    "adata_trainnew.obs"
   ]
  },
  {
   "cell_type": "code",
   "execution_count": 4,
   "metadata": {},
   "outputs": [
    {
     "data": {
      "text/plain": [
       "AnnData object with n_obs × n_vars = 40712 × 27998\n",
       "    obs: 'orig.ident', 'nCount_RNA', 'nFeature_RNA'\n",
       "    var: 'features'"
      ]
     },
     "execution_count": 4,
     "metadata": {},
     "output_type": "execute_result"
    }
   ],
   "source": [
    "adata = sc.read_h5ad('/home/huggs/shiyi/SCST/RCTD/RCTD/predata/celltrek_kidney/celltrek_kidney/Mouse_Adult_DGE.h5ad')\n",
    "adata"
   ]
  },
  {
   "cell_type": "code",
   "execution_count": 31,
   "metadata": {},
   "outputs": [
    {
     "data": {
      "text/plain": [
       "array([[0., 0., 0., ..., 0., 0., 0.],\n",
       "       [0., 0., 0., ..., 0., 0., 0.],\n",
       "       [0., 0., 0., ..., 0., 0., 0.],\n",
       "       ...,\n",
       "       [0., 0., 0., ..., 0., 0., 0.],\n",
       "       [0., 0., 0., ..., 0., 0., 0.],\n",
       "       [0., 0., 0., ..., 0., 0., 0.]], dtype=float32)"
      ]
     },
     "execution_count": 31,
     "metadata": {},
     "output_type": "execute_result"
    }
   ],
   "source": [
    "adata_trainnew.X"
   ]
  },
  {
   "cell_type": "code",
   "execution_count": 32,
   "metadata": {},
   "outputs": [
    {
     "name": "stdout",
     "output_type": "stream",
     "text": [
      "  (0, 8)\t3.0\n",
      "  (0, 13)\t1.0\n",
      "  (0, 16)\t1.0\n",
      "  (0, 20)\t1.0\n",
      "  (0, 29)\t1.0\n",
      "  (0, 52)\t1.0\n",
      "  (0, 62)\t1.0\n",
      "  (0, 63)\t1.0\n",
      "  (0, 70)\t1.0\n",
      "  (0, 113)\t1.0\n",
      "  (0, 117)\t1.0\n",
      "  (0, 153)\t1.0\n",
      "  (0, 179)\t2.0\n",
      "  (0, 188)\t1.0\n",
      "  (0, 227)\t4.0\n",
      "  (0, 246)\t1.0\n",
      "  (0, 338)\t1.0\n",
      "  (0, 340)\t1.0\n",
      "  (0, 341)\t1.0\n",
      "  (0, 369)\t1.0\n",
      "  (0, 372)\t1.0\n",
      "  (0, 377)\t1.0\n",
      "  (0, 400)\t1.0\n",
      "  (0, 428)\t1.0\n",
      "  (0, 458)\t8.0\n",
      "  :\t:\n",
      "  (40711, 27301)\t1.0\n",
      "  (40711, 27315)\t2.0\n",
      "  (40711, 27319)\t1.0\n",
      "  (40711, 27321)\t1.0\n",
      "  (40711, 27340)\t1.0\n",
      "  (40711, 27346)\t3.0\n",
      "  (40711, 27506)\t1.0\n",
      "  (40711, 27512)\t1.0\n",
      "  (40711, 27584)\t1.0\n",
      "  (40711, 27594)\t1.0\n",
      "  (40711, 27614)\t1.0\n",
      "  (40711, 27754)\t1.0\n",
      "  (40711, 27806)\t1.0\n",
      "  (40711, 27814)\t1.0\n",
      "  (40711, 27847)\t1.0\n",
      "  (40711, 27848)\t1.0\n",
      "  (40711, 27908)\t11.0\n",
      "  (40711, 27909)\t3.0\n",
      "  (40711, 27910)\t9.0\n",
      "  (40711, 27911)\t4.0\n",
      "  (40711, 27913)\t16.0\n",
      "  (40711, 27914)\t19.0\n",
      "  (40711, 27915)\t3.0\n",
      "  (40711, 27917)\t2.0\n",
      "  (40711, 27920)\t3.0\n"
     ]
    }
   ],
   "source": [
    "print(adata_trainnew.raw.X)"
   ]
  },
  {
   "cell_type": "code",
   "execution_count": 33,
   "metadata": {},
   "outputs": [
    {
     "data": {
      "text/plain": [
       "numpy.ndarray"
      ]
     },
     "execution_count": 33,
     "metadata": {},
     "output_type": "execute_result"
    }
   ],
   "source": [
    "type(adata_train.X)"
   ]
  },
  {
   "cell_type": "code",
   "execution_count": 34,
   "metadata": {},
   "outputs": [
    {
     "data": {
      "text/plain": [
       "numpy.ndarray"
      ]
     },
     "execution_count": 34,
     "metadata": {},
     "output_type": "execute_result"
    }
   ],
   "source": [
    "type(adata_trainnew.X)"
   ]
  }
 ],
 "metadata": {
  "kernelspec": {
   "display_name": "SCST",
   "language": "python",
   "name": "python3"
  },
  "language_info": {
   "codemirror_mode": {
    "name": "ipython",
    "version": 3
   },
   "file_extension": ".py",
   "mimetype": "text/x-python",
   "name": "python",
   "nbconvert_exporter": "python",
   "pygments_lexer": "ipython3",
   "version": "3.6.13"
  },
  "orig_nbformat": 4,
  "vscode": {
   "interpreter": {
    "hash": "151f94788e731f8c229ca24193df9d5adcbdaf062dccabbf76562f05b82a1ddd"
   }
  }
 },
 "nbformat": 4,
 "nbformat_minor": 2
}
