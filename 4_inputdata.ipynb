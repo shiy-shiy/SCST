{
 "cells": [
  {
   "cell_type": "code",
   "execution_count": 1,
   "metadata": {},
   "outputs": [],
   "source": [
    "import sys\n",
    "import scanpy as sc\n",
    "import anndata\n",
    "import pandas as pd\n",
    "import numpy as np\n",
    "import os\n",
    "from scipy.io import mmwrite\n",
    "import desc\n",
    "import scipy\n",
    "import anndata as ad"
   ]
  },
  {
   "cell_type": "code",
   "execution_count": 2,
   "metadata": {},
   "outputs": [
    {
     "name": "stderr",
     "output_type": "stream",
     "text": [
      "Observation names are not unique. To make them unique, call `.obs_names_make_unique`.\n"
     ]
    },
    {
     "data": {
      "text/plain": [
       "AnnData object with n_obs × n_vars = 80976 × 2977\n",
       "    obs: 'orig.ident', 'nCount_RNA', 'nFeature_RNA', 'n_counts', 'desc_0.8', 'batch', 'batch_sub'\n",
       "    obsm: 'X_Embeded_z0.2', 'X_Embeded_z0.4', 'X_Embeded_z0.6', 'X_Embeded_z0.8', 'X_Embeded_z1.4', 'X_Embeded_z2.0', 'X_tsne', 'X_tsne0.2', 'X_tsne0.4', 'X_tsne0.6', 'X_tsne0.8', 'X_tsne1.4', 'X_tsne2.0', 'X_umap', 'X_umap0.2', 'X_umap0.4', 'X_umap0.6', 'X_umap0.8', 'X_umap1.4', 'X_umap2.0'"
      ]
     },
     "execution_count": 2,
     "metadata": {},
     "output_type": "execute_result"
    }
   ],
   "source": [
    "test=sc.read_h5ad(\"testdata_undersample.h5ad\")\n",
    "test"
   ]
  },
  {
   "cell_type": "code",
   "execution_count": 3,
   "metadata": {},
   "outputs": [
    {
     "name": "stdout",
     "output_type": "stream",
     "text": [
      "  (0, 5)\t2.0\n",
      "  (0, 8)\t4.0\n",
      "  (0, 12)\t2.0\n",
      "  (0, 15)\t1.0\n",
      "  (0, 21)\t6.0\n",
      "  (0, 24)\t1.0\n",
      "  (0, 59)\t5.0\n",
      "  (0, 110)\t1.0\n",
      "  (0, 115)\t2.0\n",
      "  (0, 118)\t2.0\n",
      "  (0, 122)\t2.0\n",
      "  (0, 128)\t5.0\n",
      "  (0, 141)\t6.0\n",
      "  (0, 155)\t12.0\n",
      "  (0, 156)\t11.0\n",
      "  (0, 160)\t10.0\n",
      "  (0, 165)\t3.0\n",
      "  (0, 166)\t24.0\n",
      "  (0, 173)\t7.0\n",
      "  (0, 179)\t11.0\n",
      "  (0, 187)\t13.0\n",
      "  (0, 189)\t1.0\n",
      "  (0, 193)\t10.0\n",
      "  (0, 200)\t3.0\n",
      "  (0, 220)\t2.0\n",
      "  :\t:\n",
      "  (80975, 2740)\t2.0\n",
      "  (80975, 2745)\t1.0\n",
      "  (80975, 2747)\t4.0\n",
      "  (80975, 2750)\t30.0\n",
      "  (80975, 2757)\t10.0\n",
      "  (80975, 2760)\t2.0\n",
      "  (80975, 2767)\t28.0\n",
      "  (80975, 2786)\t3.0\n",
      "  (80975, 2787)\t2.0\n",
      "  (80975, 2788)\t6.0\n",
      "  (80975, 2797)\t2.0\n",
      "  (80975, 2807)\t3.0\n",
      "  (80975, 2824)\t2.0\n",
      "  (80975, 2842)\t3.0\n",
      "  (80975, 2845)\t5.0\n",
      "  (80975, 2865)\t1.0\n",
      "  (80975, 2876)\t1.0\n",
      "  (80975, 2911)\t5.0\n",
      "  (80975, 2917)\t5.0\n",
      "  (80975, 2922)\t77.0\n",
      "  (80975, 2951)\t65.0\n",
      "  (80975, 2963)\t4.0\n",
      "  (80975, 2965)\t1.0\n",
      "  (80975, 2971)\t5.0\n",
      "  (80975, 2974)\t2.0\n"
     ]
    }
   ],
   "source": [
    "print(test.X)"
   ]
  },
  {
   "cell_type": "code",
   "execution_count": 4,
   "metadata": {},
   "outputs": [
    {
     "name": "stderr",
     "output_type": "stream",
     "text": [
      "Observation names are not unique. To make them unique, call `.obs_names_make_unique`.\n"
     ]
    },
    {
     "data": {
      "text/plain": [
       "AnnData object with n_obs × n_vars = 65022 × 2977\n",
       "    obs: 'orig.ident', 'nCount_RNA', 'nFeature_RNA', 'n_counts', 'desc_0.8', 'batch', 'batch_sub'\n",
       "    obsm: 'X_Embeded_z0.2', 'X_Embeded_z0.4', 'X_Embeded_z0.6', 'X_Embeded_z0.8', 'X_Embeded_z1.4', 'X_Embeded_z2.0', 'X_tsne', 'X_tsne0.2', 'X_tsne0.4', 'X_tsne0.6', 'X_tsne0.8', 'X_tsne1.4', 'X_tsne2.0', 'X_umap', 'X_umap0.2', 'X_umap0.4', 'X_umap0.6', 'X_umap0.8', 'X_umap1.4', 'X_umap2.0'"
      ]
     },
     "execution_count": 4,
     "metadata": {},
     "output_type": "execute_result"
    }
   ],
   "source": [
    "train=sc.read_h5ad(\"traindata_undersample.h5ad\")\n",
    "train"
   ]
  },
  {
   "cell_type": "code",
   "execution_count": 5,
   "metadata": {},
   "outputs": [
    {
     "name": "stdout",
     "output_type": "stream",
     "text": [
      "  (0, 5)\t2.0\n",
      "  (0, 8)\t4.0\n",
      "  (0, 12)\t2.0\n",
      "  (0, 15)\t1.0\n",
      "  (0, 21)\t6.0\n",
      "  (0, 24)\t1.0\n",
      "  (0, 59)\t5.0\n",
      "  (0, 110)\t1.0\n",
      "  (0, 115)\t2.0\n",
      "  (0, 118)\t2.0\n",
      "  (0, 122)\t2.0\n",
      "  (0, 128)\t5.0\n",
      "  (0, 141)\t6.0\n",
      "  (0, 155)\t12.0\n",
      "  (0, 156)\t11.0\n",
      "  (0, 160)\t10.0\n",
      "  (0, 165)\t3.0\n",
      "  (0, 166)\t24.0\n",
      "  (0, 173)\t7.0\n",
      "  (0, 179)\t11.0\n",
      "  (0, 187)\t13.0\n",
      "  (0, 189)\t1.0\n",
      "  (0, 193)\t10.0\n",
      "  (0, 200)\t3.0\n",
      "  (0, 220)\t2.0\n",
      "  :\t:\n",
      "  (65021, 2674)\t8.0\n",
      "  (65021, 2680)\t8.0\n",
      "  (65021, 2689)\t8.0\n",
      "  (65021, 2691)\t4.0\n",
      "  (65021, 2712)\t1.0\n",
      "  (65021, 2717)\t5.0\n",
      "  (65021, 2736)\t1.0\n",
      "  (65021, 2747)\t16.0\n",
      "  (65021, 2770)\t4.0\n",
      "  (65021, 2779)\t2.0\n",
      "  (65021, 2785)\t9.0\n",
      "  (65021, 2813)\t2.0\n",
      "  (65021, 2818)\t2.0\n",
      "  (65021, 2821)\t1.0\n",
      "  (65021, 2822)\t2.0\n",
      "  (65021, 2892)\t4.0\n",
      "  (65021, 2893)\t8.0\n",
      "  (65021, 2901)\t1.0\n",
      "  (65021, 2908)\t3.0\n",
      "  (65021, 2918)\t2.0\n",
      "  (65021, 2923)\t12.0\n",
      "  (65021, 2939)\t1.0\n",
      "  (65021, 2951)\t87.0\n",
      "  (65021, 2963)\t3.0\n",
      "  (65021, 2964)\t4.0\n"
     ]
    }
   ],
   "source": [
    "print(train.X)"
   ]
  },
  {
   "cell_type": "code",
   "execution_count": 6,
   "metadata": {},
   "outputs": [
    {
     "name": "stderr",
     "output_type": "stream",
     "text": [
      "Observation names are not unique. To make them unique, call `.obs_names_make_unique`.\n"
     ]
    },
    {
     "data": {
      "text/plain": [
       "AnnData object with n_obs × n_vars = 56962 × 2977\n",
       "    obs: 'orig.ident', 'nCount_RNA', 'nFeature_RNA', 'n_counts', 'desc_0.8', 'batch', 'batch_sub'\n",
       "    obsm: 'X_Embeded_z0.2', 'X_Embeded_z0.4', 'X_Embeded_z0.6', 'X_Embeded_z0.8', 'X_Embeded_z1.4', 'X_Embeded_z2.0', 'X_tsne', 'X_tsne0.2', 'X_tsne0.4', 'X_tsne0.6', 'X_tsne0.8', 'X_tsne1.4', 'X_tsne2.0', 'X_umap', 'X_umap0.2', 'X_umap0.4', 'X_umap0.6', 'X_umap0.8', 'X_umap1.4', 'X_umap2.0'"
      ]
     },
     "execution_count": 6,
     "metadata": {},
     "output_type": "execute_result"
    }
   ],
   "source": [
    "valid=sc.read_h5ad(\"validation_undersample.h5ad\")\n",
    "valid"
   ]
  },
  {
   "cell_type": "code",
   "execution_count": 7,
   "metadata": {},
   "outputs": [
    {
     "name": "stdout",
     "output_type": "stream",
     "text": [
      "  (0, 5)\t2.0\n",
      "  (0, 8)\t4.0\n",
      "  (0, 12)\t2.0\n",
      "  (0, 15)\t1.0\n",
      "  (0, 21)\t6.0\n",
      "  (0, 24)\t1.0\n",
      "  (0, 59)\t5.0\n",
      "  (0, 110)\t1.0\n",
      "  (0, 115)\t2.0\n",
      "  (0, 118)\t2.0\n",
      "  (0, 122)\t2.0\n",
      "  (0, 128)\t5.0\n",
      "  (0, 141)\t6.0\n",
      "  (0, 155)\t12.0\n",
      "  (0, 156)\t11.0\n",
      "  (0, 160)\t10.0\n",
      "  (0, 165)\t3.0\n",
      "  (0, 166)\t24.0\n",
      "  (0, 173)\t7.0\n",
      "  (0, 179)\t11.0\n",
      "  (0, 187)\t13.0\n",
      "  (0, 189)\t1.0\n",
      "  (0, 193)\t10.0\n",
      "  (0, 200)\t3.0\n",
      "  (0, 220)\t2.0\n",
      "  :\t:\n",
      "  (56961, 2712)\t3.0\n",
      "  (56961, 2714)\t1.0\n",
      "  (56961, 2718)\t2.0\n",
      "  (56961, 2727)\t40.0\n",
      "  (56961, 2757)\t4.0\n",
      "  (56961, 2764)\t1.0\n",
      "  (56961, 2773)\t1.0\n",
      "  (56961, 2776)\t8.0\n",
      "  (56961, 2778)\t1.0\n",
      "  (56961, 2793)\t1.0\n",
      "  (56961, 2807)\t3.0\n",
      "  (56961, 2810)\t34.0\n",
      "  (56961, 2814)\t3.0\n",
      "  (56961, 2833)\t8.0\n",
      "  (56961, 2843)\t1.0\n",
      "  (56961, 2846)\t1.0\n",
      "  (56961, 2886)\t9.0\n",
      "  (56961, 2913)\t1.0\n",
      "  (56961, 2917)\t3.0\n",
      "  (56961, 2926)\t5.0\n",
      "  (56961, 2948)\t4.0\n",
      "  (56961, 2950)\t1.0\n",
      "  (56961, 2958)\t4.0\n",
      "  (56961, 2960)\t1.0\n",
      "  (56961, 2961)\t12.0\n"
     ]
    }
   ],
   "source": [
    "print(valid.X)"
   ]
  },
  {
   "cell_type": "code",
   "execution_count": 8,
   "metadata": {},
   "outputs": [
    {
     "name": "stderr",
     "output_type": "stream",
     "text": [
      "Observation names are not unique. To make them unique, call `.obs_names_make_unique`.\n",
      "Observation names are not unique. To make them unique, call `.obs_names_make_unique`.\n"
     ]
    },
    {
     "data": {
      "text/plain": [
       "AnnData object with n_obs × n_vars = 65022 × 2977\n",
       "    obs: 'orig.ident', 'nCount_RNA', 'nFeature_RNA', 'n_counts', 'desc_0.8', 'batch', 'batch_sub'\n",
       "    var: 'mean', 'std'\n",
       "    uns: 'log1p'\n",
       "    obsm: 'X_Embeded_z0.2', 'X_Embeded_z0.4', 'X_Embeded_z0.6', 'X_Embeded_z0.8', 'X_Embeded_z1.4', 'X_Embeded_z2.0', 'X_tsne', 'X_tsne0.2', 'X_tsne0.4', 'X_tsne0.6', 'X_tsne0.8', 'X_tsne1.4', 'X_tsne2.0', 'X_umap', 'X_umap0.2', 'X_umap0.4', 'X_umap0.6', 'X_umap0.8', 'X_umap1.4', 'X_umap2.0'"
      ]
     },
     "execution_count": 8,
     "metadata": {},
     "output_type": "execute_result"
    }
   ],
   "source": [
    "desc.normalize_per_cell(train, counts_per_cell_after=1e4)\n",
    "sc.pp.log1p(train)\n",
    "desc.scale(train, zero_center=True, max_value=3)\n",
    "train"
   ]
  },
  {
   "cell_type": "code",
   "execution_count": 9,
   "metadata": {},
   "outputs": [
    {
     "name": "stderr",
     "output_type": "stream",
     "text": [
      "Observation names are not unique. To make them unique, call `.obs_names_make_unique`.\n",
      "Observation names are not unique. To make them unique, call `.obs_names_make_unique`.\n"
     ]
    },
    {
     "data": {
      "text/plain": [
       "AnnData object with n_obs × n_vars = 56962 × 2977\n",
       "    obs: 'orig.ident', 'nCount_RNA', 'nFeature_RNA', 'n_counts', 'desc_0.8', 'batch', 'batch_sub'\n",
       "    var: 'mean', 'std'\n",
       "    uns: 'log1p'\n",
       "    obsm: 'X_Embeded_z0.2', 'X_Embeded_z0.4', 'X_Embeded_z0.6', 'X_Embeded_z0.8', 'X_Embeded_z1.4', 'X_Embeded_z2.0', 'X_tsne', 'X_tsne0.2', 'X_tsne0.4', 'X_tsne0.6', 'X_tsne0.8', 'X_tsne1.4', 'X_tsne2.0', 'X_umap', 'X_umap0.2', 'X_umap0.4', 'X_umap0.6', 'X_umap0.8', 'X_umap1.4', 'X_umap2.0'"
      ]
     },
     "execution_count": 9,
     "metadata": {},
     "output_type": "execute_result"
    }
   ],
   "source": [
    "desc.normalize_per_cell(valid, counts_per_cell_after=1e4)\n",
    "sc.pp.log1p(valid)\n",
    "desc.scale(valid, zero_center=True, max_value=3)\n",
    "valid"
   ]
  },
  {
   "cell_type": "code",
   "execution_count": 10,
   "metadata": {},
   "outputs": [
    {
     "name": "stderr",
     "output_type": "stream",
     "text": [
      "Observation names are not unique. To make them unique, call `.obs_names_make_unique`.\n",
      "Observation names are not unique. To make them unique, call `.obs_names_make_unique`.\n"
     ]
    },
    {
     "data": {
      "text/plain": [
       "AnnData object with n_obs × n_vars = 80948 × 2977\n",
       "    obs: 'orig.ident', 'nCount_RNA', 'nFeature_RNA', 'n_counts', 'desc_0.8', 'batch', 'batch_sub'\n",
       "    var: 'mean', 'std'\n",
       "    uns: 'log1p'\n",
       "    obsm: 'X_Embeded_z0.2', 'X_Embeded_z0.4', 'X_Embeded_z0.6', 'X_Embeded_z0.8', 'X_Embeded_z1.4', 'X_Embeded_z2.0', 'X_tsne', 'X_tsne0.2', 'X_tsne0.4', 'X_tsne0.6', 'X_tsne0.8', 'X_tsne1.4', 'X_tsne2.0', 'X_umap', 'X_umap0.2', 'X_umap0.4', 'X_umap0.6', 'X_umap0.8', 'X_umap1.4', 'X_umap2.0'"
      ]
     },
     "execution_count": 10,
     "metadata": {},
     "output_type": "execute_result"
    }
   ],
   "source": [
    "desc.normalize_per_cell(test, counts_per_cell_after=1e4)\n",
    "sc.pp.log1p(test)\n",
    "desc.scale(test, zero_center=True, max_value=3)\n",
    "test    #non norm: 80976 × 2977"
   ]
  },
  {
   "cell_type": "code",
   "execution_count": 11,
   "metadata": {},
   "outputs": [],
   "source": [
    "train.obs['data']='traindata'\n",
    "test.obs['data']='testdata'\n",
    "valid.obs['data']='validation'"
   ]
  },
  {
   "cell_type": "code",
   "execution_count": 12,
   "metadata": {},
   "outputs": [
    {
     "name": "stderr",
     "output_type": "stream",
     "text": [
      "... storing 'data' as categorical\n"
     ]
    }
   ],
   "source": [
    "test.write_h5ad(\"test_undersample_norm.h5ad\")"
   ]
  },
  {
   "cell_type": "code",
   "execution_count": 13,
   "metadata": {},
   "outputs": [
    {
     "data": {
      "text/plain": [
       "Index(['AAACCGTTCGTCCAGG-1', 'AAACCTAAGCAGCCGG-1', 'AAACGAGACGGTTGAT-1',\n",
       "       'AAACGGTTGCGAACTG-1', 'AAACTCGGTTCGCAAT-1', 'AAACTGCTGGCTCCAA-1',\n",
       "       'AAAGGCTACGGACCAT-1', 'AAAGGCTCTCGCGCCG-1', 'AAAGGGATGTAGCAAG-1',\n",
       "       'AAAGTGTGATTTATCT-1',\n",
       "       ...\n",
       "       'TTGTAATCCGTACTCG-1', 'TTGTCGTTCAGTTACC-1', 'TTGTGAACCTAATCCG-1',\n",
       "       'TTGTGCAGCCACGTCA-1', 'TTGTGGTAGGAGGGAT-1', 'TTGTGTATGCCACCAA-1',\n",
       "       'TTGTGTTTCCCGAAAG-1', 'TTGTTCAGTGTGCTAC-1', 'TTGTTGTGTGTCAAGA-1',\n",
       "       'TTGTTTCACATCCAGG-1'],\n",
       "      dtype='object', length=40236)"
      ]
     },
     "execution_count": 13,
     "metadata": {},
     "output_type": "execute_result"
    }
   ],
   "source": [
    "test[test.obs['batch']=='st'].obs_names"
   ]
  },
  {
   "cell_type": "code",
   "execution_count": 14,
   "metadata": {},
   "outputs": [
    {
     "name": "stderr",
     "output_type": "stream",
     "text": [
      "Observation names are not unique. To make them unique, call `.obs_names_make_unique`.\n"
     ]
    },
    {
     "data": {
      "text/plain": [
       "AnnData object with n_obs × n_vars = 202932 × 2977\n",
       "    obs: 'orig.ident', 'nCount_RNA', 'nFeature_RNA', 'n_counts', 'desc_0.8', 'batch', 'batch_sub', 'data'\n",
       "    obsm: 'X_Embeded_z0.2', 'X_Embeded_z0.4', 'X_Embeded_z0.6', 'X_Embeded_z0.8', 'X_Embeded_z1.4', 'X_Embeded_z2.0', 'X_tsne', 'X_tsne0.2', 'X_tsne0.4', 'X_tsne0.6', 'X_tsne0.8', 'X_tsne1.4', 'X_tsne2.0', 'X_umap', 'X_umap0.2', 'X_umap0.4', 'X_umap0.6', 'X_umap0.8', 'X_umap1.4', 'X_umap2.0'"
      ]
     },
     "execution_count": 14,
     "metadata": {},
     "output_type": "execute_result"
    }
   ],
   "source": [
    "##合并\n",
    "import anndata as ad\n",
    "adatas=[train,test,valid]\n",
    "adatas=ad.concat(adatas,merge='same')\n",
    "adatas"
   ]
  },
  {
   "cell_type": "code",
   "execution_count": 15,
   "metadata": {},
   "outputs": [
    {
     "name": "stderr",
     "output_type": "stream",
     "text": [
      "Observation names are not unique. To make them unique, call `.obs_names_make_unique`.\n"
     ]
    },
    {
     "data": {
      "text/plain": [
       "AnnData object with n_obs × n_vars = 202932 × 2977\n",
       "    obs: 'orig.ident', 'nCount_RNA', 'nFeature_RNA', 'n_counts', 'desc_0.8', 'batch', 'batch_sub', 'data'\n",
       "    obsm: 'X_Embeded_z0.2', 'X_Embeded_z0.4', 'X_Embeded_z0.6', 'X_Embeded_z0.8', 'X_Embeded_z1.4', 'X_Embeded_z2.0', 'X_tsne', 'X_tsne0.2', 'X_tsne0.4', 'X_tsne0.6', 'X_tsne0.8', 'X_tsne1.4', 'X_tsne2.0', 'X_umap', 'X_umap0.2', 'X_umap0.4', 'X_umap0.6', 'X_umap0.8', 'X_umap1.4', 'X_umap2.0'"
      ]
     },
     "execution_count": 15,
     "metadata": {},
     "output_type": "execute_result"
    }
   ],
   "source": [
    "#combine try 2\n",
    "import anndata as ad\n",
    "combined = ad.concat([train,test,valid], join=\"outer\")\n",
    "combined"
   ]
  },
  {
   "cell_type": "code",
   "execution_count": 16,
   "metadata": {},
   "outputs": [],
   "source": [
    "combined.obs['desc_0.8']=combined.obs['desc_0.8'].astype('category')"
   ]
  },
  {
   "cell_type": "code",
   "execution_count": 17,
   "metadata": {},
   "outputs": [
    {
     "data": {
      "text/plain": [
       "Z1_F_F1_AAACCTGAGAGACGAA    16\n",
       "Z1_F_F1_AAACCTGAGGGCTTCC    16\n",
       "Z1_F_F1_AAACCTGCAGGACGTA     2\n",
       "Z1_F_F1_AAACCTGGTATTCGTG     2\n",
       "Z1_F_F1_AAACCTGTCAAACCAC     2\n",
       "                            ..\n",
       "GGGCGGCAAATGAATT-1          22\n",
       "CGCGCATGTTTGATTG-1           4\n",
       "AAATCGTGTACCACAA-1          19\n",
       "GAGTCCGCTTACCGGA-1          19\n",
       "CCCGCAGCGCGAACTA-1           4\n",
       "Name: desc_0.8, Length: 202932, dtype: category\n",
       "Categories (28, int64): [0, 1, 2, 3, ..., 24, 25, 26, 27]"
      ]
     },
     "execution_count": 17,
     "metadata": {},
     "output_type": "execute_result"
    }
   ],
   "source": [
    "combined.obs['desc_0.8']"
   ]
  },
  {
   "cell_type": "code",
   "execution_count": 18,
   "metadata": {},
   "outputs": [
    {
     "data": {
      "text/plain": [
       "Z1_F_F1_AAACCTGAGAGACGAA    sc\n",
       "Z1_F_F1_AAACCTGAGGGCTTCC    sc\n",
       "Z1_F_F1_AAACCTGCAGGACGTA    sc\n",
       "Z1_F_F1_AAACCTGGTATTCGTG    sc\n",
       "Z1_F_F1_AAACCTGTCAAACCAC    sc\n",
       "                            ..\n",
       "GGGCGGCAAATGAATT-1          st\n",
       "CGCGCATGTTTGATTG-1          st\n",
       "AAATCGTGTACCACAA-1          st\n",
       "GAGTCCGCTTACCGGA-1          st\n",
       "CCCGCAGCGCGAACTA-1          st\n",
       "Name: batch, Length: 202932, dtype: category\n",
       "Categories (2, object): ['sc', 'st']"
      ]
     },
     "execution_count": 18,
     "metadata": {},
     "output_type": "execute_result"
    }
   ],
   "source": [
    "combined.obs['batch']"
   ]
  },
  {
   "cell_type": "code",
   "execution_count": 19,
   "metadata": {},
   "outputs": [
    {
     "name": "stderr",
     "output_type": "stream",
     "text": [
      "... storing 'batch_sub' as categorical\n",
      "... storing 'data' as categorical\n"
     ]
    }
   ],
   "source": [
    "combined.write_h5ad(\"inputdata_celltrek_kidney.h5ad\")"
   ]
  },
  {
   "cell_type": "code",
   "execution_count": 20,
   "metadata": {},
   "outputs": [
    {
     "data": {
      "text/plain": [
       "testdata      80948\n",
       "traindata     65022\n",
       "validation    56962\n",
       "Name: data, dtype: int64"
      ]
     },
     "execution_count": 20,
     "metadata": {},
     "output_type": "execute_result"
    }
   ],
   "source": [
    "combined.obs['data'].value_counts()"
   ]
  },
  {
   "cell_type": "code",
   "execution_count": 21,
   "metadata": {},
   "outputs": [
    {
     "data": {
      "text/plain": [
       "array([[-0.3624266 , -0.3152954 , -0.38952976, ...,  3.        ,\n",
       "        -0.2568435 , -0.17630552],\n",
       "       [ 0.9491448 , -0.3152954 , -0.38952976, ..., -0.29288936,\n",
       "        -0.2568435 , -0.17630552],\n",
       "       [-0.3624266 , -0.3152954 , -0.38952976, ..., -0.29288936,\n",
       "        -0.2568435 , -0.17630552],\n",
       "       ...,\n",
       "       [-0.32253143, -0.27461714, -0.38538238, ..., -0.2672823 ,\n",
       "        -0.24244428, -0.1854735 ],\n",
       "       [ 3.        ,  3.        , -0.38538238, ..., -0.2672823 ,\n",
       "        -0.24244428, -0.1854735 ],\n",
       "       [-0.32253143,  3.        , -0.38538238, ..., -0.2672823 ,\n",
       "        -0.24244428, -0.1854735 ]], dtype=float32)"
      ]
     },
     "execution_count": 21,
     "metadata": {},
     "output_type": "execute_result"
    }
   ],
   "source": [
    "combined.X"
   ]
  }
 ],
 "metadata": {
  "kernelspec": {
   "display_name": "SCST",
   "language": "python",
   "name": "python3"
  },
  "language_info": {
   "codemirror_mode": {
    "name": "ipython",
    "version": 3
   },
   "file_extension": ".py",
   "mimetype": "text/x-python",
   "name": "python",
   "nbconvert_exporter": "python",
   "pygments_lexer": "ipython3",
   "version": "3.6.13"
  },
  "orig_nbformat": 4,
  "vscode": {
   "interpreter": {
    "hash": "151f94788e731f8c229ca24193df9d5adcbdaf062dccabbf76562f05b82a1ddd"
   }
  }
 },
 "nbformat": 4,
 "nbformat_minor": 2
}
